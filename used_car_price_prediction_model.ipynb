{
 "cells": [
  {
   "cell_type": "code",
   "execution_count": 1,
   "metadata": {
    "collapsed": true
   },
   "outputs": [],
   "source": [
    "import pandas as pd\n",
    "import matplotlib.pyplot as plt\n",
    "import seaborn as sns"
   ]
  },
  {
   "cell_type": "code",
   "execution_count": 2,
   "metadata": {
    "collapsed": true
   },
   "outputs": [],
   "source": [
    "%matplotlib inline"
   ]
  },
  {
   "cell_type": "code",
   "execution_count": 3,
   "metadata": {
    "collapsed": true
   },
   "outputs": [],
   "source": [
    "import numpy as np"
   ]
  },
  {
   "cell_type": "markdown",
   "metadata": {},
   "source": [
    "# Read Data From Database"
   ]
  },
  {
   "cell_type": "code",
   "execution_count": null,
   "metadata": {
    "collapsed": true
   },
   "outputs": [],
   "source": [
    "mysql_cn= MySQLdb.connect(host='spider.c0kwpumescj5.us-east-1.rds.amazonaws.com', \n",
    "                port=3306,user='root', passwd='Zuoqian690712', \n",
    "                db='spider')\n",
    "car_fax = pd.read_sql('select * from carfax;', con=mysql_cn) \n",
    "\n",
    "print 'loaded {} records from MySQL into dataframe:'.format(len(car_fax)) \n",
    "mysql_cn.close()"
   ]
  },
  {
   "cell_type": "code",
   "execution_count": 4,
   "metadata": {
    "collapsed": true
   },
   "outputs": [],
   "source": [
    "pd.options.display.float_format = '{:,.2f}'.format"
   ]
  },
  {
   "cell_type": "code",
   "execution_count": 5,
   "metadata": {
    "collapsed": true
   },
   "outputs": [],
   "source": [
    "car_fax = pd.read_csv('./carfax_data.csv')"
   ]
  },
  {
   "cell_type": "code",
   "execution_count": 6,
   "metadata": {},
   "outputs": [
    {
     "data": {
      "text/html": [
       "<div>\n",
       "<style>\n",
       "    .dataframe thead tr:only-child th {\n",
       "        text-align: right;\n",
       "    }\n",
       "\n",
       "    .dataframe thead th {\n",
       "        text-align: left;\n",
       "    }\n",
       "\n",
       "    .dataframe tbody tr th {\n",
       "        vertical-align: top;\n",
       "    }\n",
       "</style>\n",
       "<table border=\"1\" class=\"dataframe\">\n",
       "  <thead>\n",
       "    <tr style=\"text-align: right;\">\n",
       "      <th></th>\n",
       "      <th>dealer_id</th>\n",
       "      <th>dealer_name</th>\n",
       "      <th>dealer_city</th>\n",
       "      <th>dealer_state</th>\n",
       "      <th>car_vin</th>\n",
       "      <th>car_year</th>\n",
       "      <th>car_make</th>\n",
       "      <th>car_topOptions</th>\n",
       "      <th>car_model</th>\n",
       "      <th>car_trim</th>\n",
       "      <th>...</th>\n",
       "      <th>car_fuel</th>\n",
       "      <th>car_mpgCity</th>\n",
       "      <th>car_mpgHighway</th>\n",
       "      <th>car_mpgCombined</th>\n",
       "      <th>car_bodytype</th>\n",
       "      <th>car_oneOwner</th>\n",
       "      <th>car_noAccidents</th>\n",
       "      <th>car_serviceRecords</th>\n",
       "      <th>car_personalUse</th>\n",
       "      <th>crawl_time</th>\n",
       "    </tr>\n",
       "  </thead>\n",
       "  <tbody>\n",
       "    <tr>\n",
       "      <th>0</th>\n",
       "      <td>Z85NXXUGI1</td>\n",
       "      <td>Hovey Motorcars</td>\n",
       "      <td>San Antonio</td>\n",
       "      <td>TX</td>\n",
       "      <td>124CS000177342000</td>\n",
       "      <td>1981</td>\n",
       "      <td>Fiat</td>\n",
       "      <td>NaN</td>\n",
       "      <td>2000</td>\n",
       "      <td>Unspecified</td>\n",
       "      <td>...</td>\n",
       "      <td>Unspecified</td>\n",
       "      <td>0</td>\n",
       "      <td>0</td>\n",
       "      <td>0</td>\n",
       "      <td>Unspecified</td>\n",
       "      <td>0</td>\n",
       "      <td>1</td>\n",
       "      <td>0</td>\n",
       "      <td>0</td>\n",
       "      <td>2017-11-30 19:53:27</td>\n",
       "    </tr>\n",
       "    <tr>\n",
       "      <th>1</th>\n",
       "      <td>F0RXAC2JP1</td>\n",
       "      <td>Jem Motor Corp</td>\n",
       "      <td>Los Angeles</td>\n",
       "      <td>CA</td>\n",
       "      <td>137DA8430TE172220</td>\n",
       "      <td>1996</td>\n",
       "      <td>AM General</td>\n",
       "      <td>Leather Seats,Power Steering,AM/FM,Power Locks</td>\n",
       "      <td>Hummer</td>\n",
       "      <td>Unspecified</td>\n",
       "      <td>...</td>\n",
       "      <td>Gasoline</td>\n",
       "      <td>0</td>\n",
       "      <td>0</td>\n",
       "      <td>0</td>\n",
       "      <td>SUV</td>\n",
       "      <td>0</td>\n",
       "      <td>1</td>\n",
       "      <td>1</td>\n",
       "      <td>0</td>\n",
       "      <td>2017-11-30 13:31:57</td>\n",
       "    </tr>\n",
       "    <tr>\n",
       "      <th>2</th>\n",
       "      <td>NPHDR1H001</td>\n",
       "      <td>Brentwood Auto Brokers LLC</td>\n",
       "      <td>Columbia</td>\n",
       "      <td>TN</td>\n",
       "      <td>137DA8433SE161923</td>\n",
       "      <td>1995</td>\n",
       "      <td>AM General</td>\n",
       "      <td>Air Conditioning,Power Windows</td>\n",
       "      <td>Hummer</td>\n",
       "      <td>Unspecified</td>\n",
       "      <td>...</td>\n",
       "      <td>Gasoline</td>\n",
       "      <td>0</td>\n",
       "      <td>0</td>\n",
       "      <td>0</td>\n",
       "      <td>SUV</td>\n",
       "      <td>0</td>\n",
       "      <td>0</td>\n",
       "      <td>1</td>\n",
       "      <td>0</td>\n",
       "      <td>2017-11-30 13:31:57</td>\n",
       "    </tr>\n",
       "    <tr>\n",
       "      <th>3</th>\n",
       "      <td>SZWPB1B001</td>\n",
       "      <td>Radical Auto Deals</td>\n",
       "      <td>Burbank</td>\n",
       "      <td>CA</td>\n",
       "      <td>137DA9036SE167517</td>\n",
       "      <td>1995</td>\n",
       "      <td>AM General</td>\n",
       "      <td>Rear-View Camera,Air Conditioning,Handsfree/Bl...</td>\n",
       "      <td>Hummer</td>\n",
       "      <td>Open Top</td>\n",
       "      <td>...</td>\n",
       "      <td>Gasoline</td>\n",
       "      <td>0</td>\n",
       "      <td>0</td>\n",
       "      <td>0</td>\n",
       "      <td>SUV</td>\n",
       "      <td>0</td>\n",
       "      <td>1</td>\n",
       "      <td>1</td>\n",
       "      <td>0</td>\n",
       "      <td>2017-11-30 13:30:48</td>\n",
       "    </tr>\n",
       "    <tr>\n",
       "      <th>4</th>\n",
       "      <td>QYYR3WAINK</td>\n",
       "      <td>McLaren Scottsdale</td>\n",
       "      <td>Scottsdale</td>\n",
       "      <td>AZ</td>\n",
       "      <td>137FA57353E205179</td>\n",
       "      <td>2003</td>\n",
       "      <td>Hummer</td>\n",
       "      <td>Towing Package,Rear-View Camera,DVD,Power Stee...</td>\n",
       "      <td>H1</td>\n",
       "      <td>Unspecified</td>\n",
       "      <td>...</td>\n",
       "      <td>Diesel</td>\n",
       "      <td>0</td>\n",
       "      <td>0</td>\n",
       "      <td>0</td>\n",
       "      <td>SUV</td>\n",
       "      <td>0</td>\n",
       "      <td>1</td>\n",
       "      <td>1</td>\n",
       "      <td>0</td>\n",
       "      <td>2017-11-30 19:25:17</td>\n",
       "    </tr>\n",
       "  </tbody>\n",
       "</table>\n",
       "<p>5 rows × 29 columns</p>\n",
       "</div>"
      ],
      "text/plain": [
       "    dealer_id                 dealer_name  dealer_city dealer_state  \\\n",
       "0  Z85NXXUGI1             Hovey Motorcars  San Antonio           TX   \n",
       "1  F0RXAC2JP1              Jem Motor Corp  Los Angeles           CA   \n",
       "2  NPHDR1H001  Brentwood Auto Brokers LLC     Columbia           TN   \n",
       "3  SZWPB1B001          Radical Auto Deals      Burbank           CA   \n",
       "4  QYYR3WAINK          McLaren Scottsdale   Scottsdale           AZ   \n",
       "\n",
       "             car_vin  car_year    car_make  \\\n",
       "0  124CS000177342000      1981        Fiat   \n",
       "1  137DA8430TE172220      1996  AM General   \n",
       "2  137DA8433SE161923      1995  AM General   \n",
       "3  137DA9036SE167517      1995  AM General   \n",
       "4  137FA57353E205179      2003      Hummer   \n",
       "\n",
       "                                      car_topOptions car_model     car_trim  \\\n",
       "0                                                NaN      2000  Unspecified   \n",
       "1     Leather Seats,Power Steering,AM/FM,Power Locks    Hummer  Unspecified   \n",
       "2                     Air Conditioning,Power Windows    Hummer  Unspecified   \n",
       "3  Rear-View Camera,Air Conditioning,Handsfree/Bl...    Hummer     Open Top   \n",
       "4  Towing Package,Rear-View Camera,DVD,Power Stee...        H1  Unspecified   \n",
       "\n",
       "          ...              car_fuel  car_mpgCity  car_mpgHighway  \\\n",
       "0         ...           Unspecified            0               0   \n",
       "1         ...              Gasoline            0               0   \n",
       "2         ...              Gasoline            0               0   \n",
       "3         ...              Gasoline            0               0   \n",
       "4         ...                Diesel            0               0   \n",
       "\n",
       "  car_mpgCombined car_bodytype car_oneOwner car_noAccidents  \\\n",
       "0               0  Unspecified            0               1   \n",
       "1               0          SUV            0               1   \n",
       "2               0          SUV            0               0   \n",
       "3               0          SUV            0               1   \n",
       "4               0          SUV            0               1   \n",
       "\n",
       "  car_serviceRecords car_personalUse           crawl_time  \n",
       "0                  0               0  2017-11-30 19:53:27  \n",
       "1                  1               0  2017-11-30 13:31:57  \n",
       "2                  1               0  2017-11-30 13:31:57  \n",
       "3                  1               0  2017-11-30 13:30:48  \n",
       "4                  1               0  2017-11-30 19:25:17  \n",
       "\n",
       "[5 rows x 29 columns]"
      ]
     },
     "execution_count": 6,
     "metadata": {},
     "output_type": "execute_result"
    }
   ],
   "source": [
    "car_fax.head()"
   ]
  },
  {
   "cell_type": "markdown",
   "metadata": {},
   "source": [
    "# Clean data"
   ]
  },
  {
   "cell_type": "code",
   "execution_count": 7,
   "metadata": {},
   "outputs": [
    {
     "data": {
      "text/plain": [
       "Index(['dealer_id', 'dealer_name', 'dealer_city', 'dealer_state', 'car_vin',\n",
       "       'car_year', 'car_make', 'car_topOptions', 'car_model', 'car_trim',\n",
       "       'car_mileage', 'car_list_price', 'car_current_price',\n",
       "       'car_exteriorColor', 'car_interiorColor', 'car_engine',\n",
       "       'car_displacement', 'car_drivetype', 'car_transmission', 'car_fuel',\n",
       "       'car_mpgCity', 'car_mpgHighway', 'car_mpgCombined', 'car_bodytype',\n",
       "       'car_oneOwner', 'car_noAccidents', 'car_serviceRecords',\n",
       "       'car_personalUse', 'crawl_time'],\n",
       "      dtype='object')"
      ]
     },
     "execution_count": 7,
     "metadata": {},
     "output_type": "execute_result"
    }
   ],
   "source": [
    "car_fax.columns"
   ]
  },
  {
   "cell_type": "code",
   "execution_count": 8,
   "metadata": {
    "collapsed": true
   },
   "outputs": [],
   "source": [
    "car_fax.drop(labels=['dealer_id','dealer_name','dealer_city',\n",
    "                     'car_vin', 'car_trim', 'car_model','car_list_price',\n",
    "                     'car_mpgCity','car_mpgHighway','crawl_time'],\n",
    "            axis = 1, inplace = True)"
   ]
  },
  {
   "cell_type": "code",
   "execution_count": 9,
   "metadata": {},
   "outputs": [
    {
     "data": {
      "text/plain": [
       "Index(['dealer_state', 'car_year', 'car_make', 'car_topOptions', 'car_mileage',\n",
       "       'car_current_price', 'car_exteriorColor', 'car_interiorColor',\n",
       "       'car_engine', 'car_displacement', 'car_drivetype', 'car_transmission',\n",
       "       'car_fuel', 'car_mpgCombined', 'car_bodytype', 'car_oneOwner',\n",
       "       'car_noAccidents', 'car_serviceRecords', 'car_personalUse'],\n",
       "      dtype='object')"
      ]
     },
     "execution_count": 9,
     "metadata": {},
     "output_type": "execute_result"
    }
   ],
   "source": [
    "car_fax.columns"
   ]
  },
  {
   "cell_type": "code",
   "execution_count": 10,
   "metadata": {},
   "outputs": [
    {
     "data": {
      "text/plain": [
       "4 Cyl          454414\n",
       "6 Cyl          396706\n",
       "8 Cyl          196819\n",
       "5 Cyl            7727\n",
       "3 Cyl            2051\n",
       "12 Cyl           1487\n",
       "Electric         1464\n",
       "10 Cyl           1361\n",
       "2 Cyl             242\n",
       "Rotary            148\n",
       "Unspecified        58\n",
       "Name: car_engine, dtype: int64"
      ]
     },
     "execution_count": 10,
     "metadata": {},
     "output_type": "execute_result"
    }
   ],
   "source": [
    "car_fax['car_engine'].value_counts()"
   ]
  },
  {
   "cell_type": "code",
   "execution_count": 11,
   "metadata": {},
   "outputs": [
    {
     "data": {
      "text/plain": [
       "FWD            460644\n",
       "4WD            219525\n",
       "AWD            206277\n",
       "RWD            175712\n",
       "Unspecified       316\n",
       "2WD                 3\n",
       "Name: car_drivetype, dtype: int64"
      ]
     },
     "execution_count": 11,
     "metadata": {},
     "output_type": "execute_result"
    }
   ],
   "source": [
    "car_fax['car_drivetype'].value_counts()"
   ]
  },
  {
   "cell_type": "code",
   "execution_count": 12,
   "metadata": {},
   "outputs": [
    {
     "data": {
      "text/plain": [
       "Automatic        992596\n",
       "Manual            42449\n",
       "Unspecified       27431\n",
       "Manual, 5-Spd         1\n",
       "Name: car_transmission, dtype: int64"
      ]
     },
     "execution_count": 12,
     "metadata": {},
     "output_type": "execute_result"
    }
   ],
   "source": [
    "car_fax['car_transmission'].value_counts()"
   ]
  },
  {
   "cell_type": "code",
   "execution_count": 13,
   "metadata": {},
   "outputs": [
    {
     "data": {
      "text/plain": [
       "Gasoline         883979\n",
       "Flexible-Fuel    131382\n",
       "Diesel            28113\n",
       "Hybrid            17392\n",
       "Electric           1462\n",
       "Unspecified          93\n",
       "Alternative          55\n",
       "Flex Fuel             1\n",
       "Name: car_fuel, dtype: int64"
      ]
     },
     "execution_count": 13,
     "metadata": {},
     "output_type": "execute_result"
    }
   ],
   "source": [
    "car_fax['car_fuel'].value_counts()"
   ]
  },
  {
   "cell_type": "code",
   "execution_count": 14,
   "metadata": {},
   "outputs": [
    {
     "data": {
      "text/plain": [
       "SUV            383437\n",
       "Sedan          352919\n",
       "Pickup         148509\n",
       "Coupe           45917\n",
       "Hatchback       40120\n",
       "Minivan         35595\n",
       "Wagon           22870\n",
       "Convertible     22542\n",
       "Van              8007\n",
       "Chassis          2517\n",
       "Unspecified        44\n",
       "Name: car_bodytype, dtype: int64"
      ]
     },
     "execution_count": 14,
     "metadata": {},
     "output_type": "execute_result"
    }
   ],
   "source": [
    "car_fax['car_bodytype'].value_counts()"
   ]
  },
  {
   "cell_type": "code",
   "execution_count": 15,
   "metadata": {
    "collapsed": true
   },
   "outputs": [],
   "source": [
    "car_fax = car_fax[(car_fax['car_engine']!='Unspecified') & \n",
    "        (car_fax['car_drivetype']!='Unspecified') &\n",
    "        (car_fax['car_transmission']!='Unspecified') &\n",
    "        (car_fax['car_fuel']!='Unspecified')&\n",
    "        (car_fax['car_bodytype']!='Unspecified')]"
   ]
  },
  {
   "cell_type": "code",
   "execution_count": 16,
   "metadata": {
    "collapsed": true
   },
   "outputs": [],
   "source": [
    "car_fax.dropna(inplace=True)"
   ]
  },
  {
   "cell_type": "code",
   "execution_count": 17,
   "metadata": {
    "collapsed": true
   },
   "outputs": [],
   "source": [
    "car_fax['car_age'] = 2018 - car_fax['car_year']"
   ]
  },
  {
   "cell_type": "code",
   "execution_count": 18,
   "metadata": {
    "collapsed": true
   },
   "outputs": [],
   "source": [
    "car_fax = car_fax[car_fax['car_displacement']!='Unspecified']"
   ]
  },
  {
   "cell_type": "code",
   "execution_count": 19,
   "metadata": {
    "collapsed": true
   },
   "outputs": [],
   "source": [
    "def displacement_converter(x):\n",
    "    return float(x.rstrip('L').strip()) "
   ]
  },
  {
   "cell_type": "code",
   "execution_count": 20,
   "metadata": {
    "collapsed": true
   },
   "outputs": [],
   "source": [
    "def options_counter(x):\n",
    "    return len(x.split(','))"
   ]
  },
  {
   "cell_type": "code",
   "execution_count": 21,
   "metadata": {
    "collapsed": true
   },
   "outputs": [],
   "source": [
    "car_fax['car_displacement'] = car_fax['car_displacement'].apply(displacement_converter)"
   ]
  },
  {
   "cell_type": "code",
   "execution_count": 22,
   "metadata": {
    "collapsed": true
   },
   "outputs": [],
   "source": [
    "car_fax['car_options_count'] = car_fax['car_topOptions'].apply(options_counter)"
   ]
  },
  {
   "cell_type": "code",
   "execution_count": 23,
   "metadata": {},
   "outputs": [
    {
     "data": {
      "text/plain": [
       "FWD    426387\n",
       "4WD    205498\n",
       "AWD    198426\n",
       "RWD    161009\n",
       "2WD         1\n",
       "Name: car_drivetype, dtype: int64"
      ]
     },
     "execution_count": 23,
     "metadata": {},
     "output_type": "execute_result"
    }
   ],
   "source": [
    "car_fax['car_drivetype'].value_counts()"
   ]
  },
  {
   "cell_type": "code",
   "execution_count": 24,
   "metadata": {},
   "outputs": [
    {
     "data": {
      "text/plain": [
       "Automatic        951042\n",
       "Manual            40278\n",
       "Manual, 5-Spd         1\n",
       "Name: car_transmission, dtype: int64"
      ]
     },
     "execution_count": 24,
     "metadata": {},
     "output_type": "execute_result"
    }
   ],
   "source": [
    "car_fax['car_transmission'].value_counts()"
   ]
  },
  {
   "cell_type": "code",
   "execution_count": 25,
   "metadata": {},
   "outputs": [
    {
     "data": {
      "text/plain": [
       "Gasoline         824404\n",
       "Flexible-Fuel    125068\n",
       "Diesel            24993\n",
       "Hybrid            16759\n",
       "Electric             52\n",
       "Alternative          44\n",
       "Flex Fuel             1\n",
       "Name: car_fuel, dtype: int64"
      ]
     },
     "execution_count": 25,
     "metadata": {},
     "output_type": "execute_result"
    }
   ],
   "source": [
    "car_fax['car_fuel'].value_counts()"
   ]
  },
  {
   "cell_type": "code",
   "execution_count": 26,
   "metadata": {
    "collapsed": true
   },
   "outputs": [],
   "source": [
    "car_fax = car_fax[car_fax['car_drivetype']!='2WD']"
   ]
  },
  {
   "cell_type": "code",
   "execution_count": 27,
   "metadata": {
    "collapsed": true
   },
   "outputs": [],
   "source": [
    "car_fax['car_transmission'] = car_fax['car_transmission'].apply(lambda x : x if x!='Manual, 5-Spd' else 'Manual')"
   ]
  },
  {
   "cell_type": "code",
   "execution_count": 28,
   "metadata": {
    "collapsed": true
   },
   "outputs": [],
   "source": [
    "car_fax['car_fuel'] = car_fax['car_fuel'].apply(lambda x : x if x!='Flex Fuel' else 'Flexible-Fuel')"
   ]
  },
  {
   "cell_type": "code",
   "execution_count": 29,
   "metadata": {
    "collapsed": true
   },
   "outputs": [],
   "source": [
    "car_fax = car_fax[(car_fax['car_mpgCombined']!=0) & (car_fax['car_current_price']!=0)]"
   ]
  },
  {
   "cell_type": "code",
   "execution_count": 30,
   "metadata": {
    "collapsed": true
   },
   "outputs": [],
   "source": [
    "car_fax= car_fax[((car_fax['car_mileage']==0)& (car_fax['car_year']<2017))==False]"
   ]
  },
  {
   "cell_type": "code",
   "execution_count": 31,
   "metadata": {
    "collapsed": true
   },
   "outputs": [],
   "source": [
    "car_fax.drop(labels=['car_year','car_topOptions'], axis=1, inplace=True)"
   ]
  },
  {
   "cell_type": "code",
   "execution_count": 32,
   "metadata": {
    "collapsed": true
   },
   "outputs": [],
   "source": [
    "car_fax['dealer_state'] = car_fax['dealer_state'].apply(lambda x : x if x!='DC' else 'MD')"
   ]
  },
  {
   "cell_type": "code",
   "execution_count": 33,
   "metadata": {
    "collapsed": true
   },
   "outputs": [],
   "source": [
    "car_fax = car_fax[(car_fax['car_make']!= 'Daewoo') & (car_fax['car_make']!= 'Tesla')]"
   ]
  },
  {
   "cell_type": "code",
   "execution_count": 34,
   "metadata": {
    "collapsed": true
   },
   "outputs": [],
   "source": [
    "car_fax.reset_index(drop=True, inplace=True)"
   ]
  },
  {
   "cell_type": "code",
   "execution_count": 35,
   "metadata": {},
   "outputs": [
    {
     "name": "stdout",
     "output_type": "stream",
     "text": [
      "<class 'pandas.core.frame.DataFrame'>\n",
      "RangeIndex: 881926 entries, 0 to 881925\n",
      "Data columns (total 19 columns):\n",
      "dealer_state          881926 non-null object\n",
      "car_make              881926 non-null object\n",
      "car_mileage           881926 non-null int64\n",
      "car_current_price     881926 non-null float64\n",
      "car_exteriorColor     881926 non-null object\n",
      "car_interiorColor     881926 non-null object\n",
      "car_engine            881926 non-null object\n",
      "car_displacement      881926 non-null float64\n",
      "car_drivetype         881926 non-null object\n",
      "car_transmission      881926 non-null object\n",
      "car_fuel              881926 non-null object\n",
      "car_mpgCombined       881926 non-null int64\n",
      "car_bodytype          881926 non-null object\n",
      "car_oneOwner          881926 non-null int64\n",
      "car_noAccidents       881926 non-null int64\n",
      "car_serviceRecords    881926 non-null int64\n",
      "car_personalUse       881926 non-null int64\n",
      "car_age               881926 non-null int64\n",
      "car_options_count     881926 non-null int64\n",
      "dtypes: float64(2), int64(8), object(9)\n",
      "memory usage: 127.8+ MB\n"
     ]
    }
   ],
   "source": [
    "car_fax.info()"
   ]
  },
  {
   "cell_type": "code",
   "execution_count": 36,
   "metadata": {},
   "outputs": [
    {
     "data": {
      "text/html": [
       "<div>\n",
       "<style>\n",
       "    .dataframe thead tr:only-child th {\n",
       "        text-align: right;\n",
       "    }\n",
       "\n",
       "    .dataframe thead th {\n",
       "        text-align: left;\n",
       "    }\n",
       "\n",
       "    .dataframe tbody tr th {\n",
       "        vertical-align: top;\n",
       "    }\n",
       "</style>\n",
       "<table border=\"1\" class=\"dataframe\">\n",
       "  <thead>\n",
       "    <tr style=\"text-align: right;\">\n",
       "      <th></th>\n",
       "      <th>car_mileage</th>\n",
       "      <th>car_current_price</th>\n",
       "      <th>car_displacement</th>\n",
       "      <th>car_mpgCombined</th>\n",
       "      <th>car_oneOwner</th>\n",
       "      <th>car_noAccidents</th>\n",
       "      <th>car_serviceRecords</th>\n",
       "      <th>car_personalUse</th>\n",
       "      <th>car_age</th>\n",
       "      <th>car_options_count</th>\n",
       "    </tr>\n",
       "  </thead>\n",
       "  <tbody>\n",
       "    <tr>\n",
       "      <th>count</th>\n",
       "      <td>881,926.00</td>\n",
       "      <td>881,926.00</td>\n",
       "      <td>881,926.00</td>\n",
       "      <td>881,926.00</td>\n",
       "      <td>881,926.00</td>\n",
       "      <td>881,926.00</td>\n",
       "      <td>881,926.00</td>\n",
       "      <td>881,926.00</td>\n",
       "      <td>881,926.00</td>\n",
       "      <td>881,926.00</td>\n",
       "    </tr>\n",
       "    <tr>\n",
       "      <th>mean</th>\n",
       "      <td>54,039.00</td>\n",
       "      <td>21,479.26</td>\n",
       "      <td>3.18</td>\n",
       "      <td>22.66</td>\n",
       "      <td>0.63</td>\n",
       "      <td>0.82</td>\n",
       "      <td>0.90</td>\n",
       "      <td>0.68</td>\n",
       "      <td>4.80</td>\n",
       "      <td>9.45</td>\n",
       "    </tr>\n",
       "    <tr>\n",
       "      <th>std</th>\n",
       "      <td>42,280.65</td>\n",
       "      <td>15,377.00</td>\n",
       "      <td>1.21</td>\n",
       "      <td>5.43</td>\n",
       "      <td>0.48</td>\n",
       "      <td>0.39</td>\n",
       "      <td>0.30</td>\n",
       "      <td>0.47</td>\n",
       "      <td>3.67</td>\n",
       "      <td>1.77</td>\n",
       "    </tr>\n",
       "    <tr>\n",
       "      <th>min</th>\n",
       "      <td>0.00</td>\n",
       "      <td>499.00</td>\n",
       "      <td>0.60</td>\n",
       "      <td>7.00</td>\n",
       "      <td>0.00</td>\n",
       "      <td>0.00</td>\n",
       "      <td>0.00</td>\n",
       "      <td>0.00</td>\n",
       "      <td>0.00</td>\n",
       "      <td>1.00</td>\n",
       "    </tr>\n",
       "    <tr>\n",
       "      <th>25%</th>\n",
       "      <td>24,054.00</td>\n",
       "      <td>12,950.00</td>\n",
       "      <td>2.40</td>\n",
       "      <td>19.00</td>\n",
       "      <td>0.00</td>\n",
       "      <td>1.00</td>\n",
       "      <td>1.00</td>\n",
       "      <td>0.00</td>\n",
       "      <td>2.00</td>\n",
       "      <td>10.00</td>\n",
       "    </tr>\n",
       "    <tr>\n",
       "      <th>50%</th>\n",
       "      <td>41,356.00</td>\n",
       "      <td>18,500.00</td>\n",
       "      <td>3.00</td>\n",
       "      <td>22.00</td>\n",
       "      <td>1.00</td>\n",
       "      <td>1.00</td>\n",
       "      <td>1.00</td>\n",
       "      <td>1.00</td>\n",
       "      <td>4.00</td>\n",
       "      <td>10.00</td>\n",
       "    </tr>\n",
       "    <tr>\n",
       "      <th>75%</th>\n",
       "      <td>75,394.00</td>\n",
       "      <td>27,188.00</td>\n",
       "      <td>3.60</td>\n",
       "      <td>26.00</td>\n",
       "      <td>1.00</td>\n",
       "      <td>1.00</td>\n",
       "      <td>1.00</td>\n",
       "      <td>1.00</td>\n",
       "      <td>6.00</td>\n",
       "      <td>10.00</td>\n",
       "    </tr>\n",
       "    <tr>\n",
       "      <th>max</th>\n",
       "      <td>490,055.00</td>\n",
       "      <td>1,685,000.00</td>\n",
       "      <td>8.40</td>\n",
       "      <td>107.00</td>\n",
       "      <td>1.00</td>\n",
       "      <td>1.00</td>\n",
       "      <td>1.00</td>\n",
       "      <td>1.00</td>\n",
       "      <td>34.00</td>\n",
       "      <td>10.00</td>\n",
       "    </tr>\n",
       "  </tbody>\n",
       "</table>\n",
       "</div>"
      ],
      "text/plain": [
       "       car_mileage  car_current_price  car_displacement  car_mpgCombined  \\\n",
       "count   881,926.00         881,926.00        881,926.00       881,926.00   \n",
       "mean     54,039.00          21,479.26              3.18            22.66   \n",
       "std      42,280.65          15,377.00              1.21             5.43   \n",
       "min           0.00             499.00              0.60             7.00   \n",
       "25%      24,054.00          12,950.00              2.40            19.00   \n",
       "50%      41,356.00          18,500.00              3.00            22.00   \n",
       "75%      75,394.00          27,188.00              3.60            26.00   \n",
       "max     490,055.00       1,685,000.00              8.40           107.00   \n",
       "\n",
       "       car_oneOwner  car_noAccidents  car_serviceRecords  car_personalUse  \\\n",
       "count    881,926.00       881,926.00          881,926.00       881,926.00   \n",
       "mean           0.63             0.82                0.90             0.68   \n",
       "std            0.48             0.39                0.30             0.47   \n",
       "min            0.00             0.00                0.00             0.00   \n",
       "25%            0.00             1.00                1.00             0.00   \n",
       "50%            1.00             1.00                1.00             1.00   \n",
       "75%            1.00             1.00                1.00             1.00   \n",
       "max            1.00             1.00                1.00             1.00   \n",
       "\n",
       "         car_age  car_options_count  \n",
       "count 881,926.00         881,926.00  \n",
       "mean        4.80               9.45  \n",
       "std         3.67               1.77  \n",
       "min         0.00               1.00  \n",
       "25%         2.00              10.00  \n",
       "50%         4.00              10.00  \n",
       "75%         6.00              10.00  \n",
       "max        34.00              10.00  "
      ]
     },
     "execution_count": 36,
     "metadata": {},
     "output_type": "execute_result"
    }
   ],
   "source": [
    "car_fax.describe()"
   ]
  },
  {
   "cell_type": "markdown",
   "metadata": {},
   "source": [
    "# Splite Dataset &Feature Processing"
   ]
  },
  {
   "cell_type": "code",
   "execution_count": 37,
   "metadata": {
    "collapsed": true
   },
   "outputs": [],
   "source": [
    "from sklearn.model_selection import StratifiedShuffleSplit"
   ]
  },
  {
   "cell_type": "code",
   "execution_count": 38,
   "metadata": {
    "collapsed": true
   },
   "outputs": [],
   "source": [
    "y = car_fax['car_current_price'].copy()\n",
    "X = car_fax.drop('car_current_price', axis = 1).copy()"
   ]
  },
  {
   "cell_type": "code",
   "execution_count": 39,
   "metadata": {
    "collapsed": true
   },
   "outputs": [],
   "source": [
    "sss = StratifiedShuffleSplit(n_splits=1, test_size=0.2, random_state=1)\n",
    "for train_index, test_index in sss.split(X, X['car_make']):    \n",
    "    X_train, X_test = X.loc[train_index], X.loc[test_index]\n",
    "    y_train, y_test = y.loc[train_index], y.loc[test_index]"
   ]
  },
  {
   "cell_type": "code",
   "execution_count": 40,
   "metadata": {
    "collapsed": true
   },
   "outputs": [],
   "source": [
    "from sklearn.preprocessing import StandardScaler\n",
    "from sklearn.pipeline import Pipeline"
   ]
  },
  {
   "cell_type": "code",
   "execution_count": 41,
   "metadata": {
    "collapsed": true
   },
   "outputs": [],
   "source": [
    "# Definition of the CategoricalEncoder class, copied from PR #9151.\n",
    "# Just run this cell, or copy it to your code, do not try to understand it (yet).\n",
    "\n",
    "from sklearn.base import BaseEstimator, TransformerMixin\n",
    "from sklearn.utils import check_array\n",
    "from sklearn.preprocessing import LabelEncoder\n",
    "from scipy import sparse\n",
    "\n",
    "class CategoricalEncoder(BaseEstimator, TransformerMixin):\n",
    "    \"\"\"Encode categorical features as a numeric array.\n",
    "    The input to this transformer should be a matrix of integers or strings,\n",
    "    denoting the values taken on by categorical (discrete) features.\n",
    "    The features can be encoded using a one-hot aka one-of-K scheme\n",
    "    (``encoding='onehot'``, the default) or converted to ordinal integers\n",
    "    (``encoding='ordinal'``).\n",
    "    This encoding is needed for feeding categorical data to many scikit-learn\n",
    "    estimators, notably linear models and SVMs with the standard kernels.\n",
    "    Read more in the :ref:`User Guide <preprocessing_categorical_features>`.\n",
    "    Parameters\n",
    "    ----------\n",
    "    encoding : str, 'onehot', 'onehot-dense' or 'ordinal'\n",
    "        The type of encoding to use (default is 'onehot'):\n",
    "        - 'onehot': encode the features using a one-hot aka one-of-K scheme\n",
    "          (or also called 'dummy' encoding). This creates a binary column for\n",
    "          each category and returns a sparse matrix.\n",
    "        - 'onehot-dense': the same as 'onehot' but returns a dense array\n",
    "          instead of a sparse matrix.\n",
    "        - 'ordinal': encode the features as ordinal integers. This results in\n",
    "          a single column of integers (0 to n_categories - 1) per feature.\n",
    "    categories : 'auto' or a list of lists/arrays of values.\n",
    "        Categories (unique values) per feature:\n",
    "        - 'auto' : Determine categories automatically from the training data.\n",
    "        - list : ``categories[i]`` holds the categories expected in the ith\n",
    "          column. The passed categories are sorted before encoding the data\n",
    "          (used categories can be found in the ``categories_`` attribute).\n",
    "    dtype : number type, default np.float64\n",
    "        Desired dtype of output.\n",
    "    handle_unknown : 'error' (default) or 'ignore'\n",
    "        Whether to raise an error or ignore if a unknown categorical feature is\n",
    "        present during transform (default is to raise). When this is parameter\n",
    "        is set to 'ignore' and an unknown category is encountered during\n",
    "        transform, the resulting one-hot encoded columns for this feature\n",
    "        will be all zeros.\n",
    "        Ignoring unknown categories is not supported for\n",
    "        ``encoding='ordinal'``.\n",
    "    Attributes\n",
    "    ----------\n",
    "    categories_ : list of arrays\n",
    "        The categories of each feature determined during fitting. When\n",
    "        categories were specified manually, this holds the sorted categories\n",
    "        (in order corresponding with output of `transform`).\n",
    "    Examples\n",
    "    --------\n",
    "    Given a dataset with three features and two samples, we let the encoder\n",
    "    find the maximum value per feature and transform the data to a binary\n",
    "    one-hot encoding.\n",
    "    >>> from sklearn.preprocessing import CategoricalEncoder\n",
    "    >>> enc = CategoricalEncoder(handle_unknown='ignore')\n",
    "    >>> enc.fit([[0, 0, 3], [1, 1, 0], [0, 2, 1], [1, 0, 2]])\n",
    "    ... # doctest: +ELLIPSIS\n",
    "    CategoricalEncoder(categories='auto', dtype=<... 'numpy.float64'>,\n",
    "              encoding='onehot', handle_unknown='ignore')\n",
    "    >>> enc.transform([[0, 1, 1], [1, 0, 4]]).toarray()\n",
    "    array([[ 1.,  0.,  0.,  1.,  0.,  0.,  1.,  0.,  0.],\n",
    "           [ 0.,  1.,  1.,  0.,  0.,  0.,  0.,  0.,  0.]])\n",
    "    See also\n",
    "    --------\n",
    "    sklearn.preprocessing.OneHotEncoder : performs a one-hot encoding of\n",
    "      integer ordinal features. The ``OneHotEncoder assumes`` that input\n",
    "      features take on values in the range ``[0, max(feature)]`` instead of\n",
    "      using the unique values.\n",
    "    sklearn.feature_extraction.DictVectorizer : performs a one-hot encoding of\n",
    "      dictionary items (also handles string-valued features).\n",
    "    sklearn.feature_extraction.FeatureHasher : performs an approximate one-hot\n",
    "      encoding of dictionary items or strings.\n",
    "    \"\"\"\n",
    "\n",
    "    def __init__(self, encoding='onehot', categories='auto', dtype=np.float64,\n",
    "                 handle_unknown='error'):\n",
    "        self.encoding = encoding\n",
    "        self.categories = categories\n",
    "        self.dtype = dtype\n",
    "        self.handle_unknown = handle_unknown\n",
    "\n",
    "    def fit(self, X, y=None):\n",
    "        \"\"\"Fit the CategoricalEncoder to X.\n",
    "        Parameters\n",
    "        ----------\n",
    "        X : array-like, shape [n_samples, n_feature]\n",
    "            The data to determine the categories of each feature.\n",
    "        Returns\n",
    "        -------\n",
    "        self\n",
    "        \"\"\"\n",
    "\n",
    "        if self.encoding not in ['onehot', 'onehot-dense', 'ordinal']:\n",
    "            template = (\"encoding should be either 'onehot', 'onehot-dense' \"\n",
    "                        \"or 'ordinal', got %s\")\n",
    "            raise ValueError(template % self.handle_unknown)\n",
    "\n",
    "        if self.handle_unknown not in ['error', 'ignore']:\n",
    "            template = (\"handle_unknown should be either 'error' or \"\n",
    "                        \"'ignore', got %s\")\n",
    "            raise ValueError(template % self.handle_unknown)\n",
    "\n",
    "        if self.encoding == 'ordinal' and self.handle_unknown == 'ignore':\n",
    "            raise ValueError(\"handle_unknown='ignore' is not supported for\"\n",
    "                             \" encoding='ordinal'\")\n",
    "\n",
    "        X = check_array(X, dtype=np.object, accept_sparse='csc', copy=True)\n",
    "        n_samples, n_features = X.shape\n",
    "\n",
    "        self._label_encoders_ = [LabelEncoder() for _ in range(n_features)]\n",
    "\n",
    "        for i in range(n_features):\n",
    "            le = self._label_encoders_[i]\n",
    "            Xi = X[:, i]\n",
    "            if self.categories == 'auto':\n",
    "                le.fit(Xi)\n",
    "            else:\n",
    "                valid_mask = np.in1d(Xi, self.categories[i])\n",
    "                if not np.all(valid_mask):\n",
    "                    if self.handle_unknown == 'error':\n",
    "                        diff = np.unique(Xi[~valid_mask])\n",
    "                        msg = (\"Found unknown categories {0} in column {1}\"\n",
    "                               \" during fit\".format(diff, i))\n",
    "                        raise ValueError(msg)\n",
    "                le.classes_ = np.array(np.sort(self.categories[i]))\n",
    "\n",
    "        self.categories_ = [le.classes_ for le in self._label_encoders_]\n",
    "\n",
    "        return self\n",
    "\n",
    "    def transform(self, X):\n",
    "        \"\"\"Transform X using one-hot encoding.\n",
    "        Parameters\n",
    "        ----------\n",
    "        X : array-like, shape [n_samples, n_features]\n",
    "            The data to encode.\n",
    "        Returns\n",
    "        -------\n",
    "        X_out : sparse matrix or a 2-d array\n",
    "            Transformed input.\n",
    "        \"\"\"\n",
    "        X = check_array(X, accept_sparse='csc', dtype=np.object, copy=True)\n",
    "        n_samples, n_features = X.shape\n",
    "        X_int = np.zeros_like(X, dtype=np.int)\n",
    "        X_mask = np.ones_like(X, dtype=np.bool)\n",
    "\n",
    "        for i in range(n_features):\n",
    "            valid_mask = np.in1d(X[:, i], self.categories_[i])\n",
    "\n",
    "            if not np.all(valid_mask):\n",
    "                if self.handle_unknown == 'error':\n",
    "                    diff = np.unique(X[~valid_mask, i])\n",
    "                    msg = (\"Found unknown categories {0} in column {1}\"\n",
    "                           \" during transform\".format(diff, i))\n",
    "                    raise ValueError(msg)\n",
    "                else:\n",
    "                    # Set the problematic rows to an acceptable value and\n",
    "                    # continue `The rows are marked `X_mask` and will be\n",
    "                    # removed later.\n",
    "                    X_mask[:, i] = valid_mask\n",
    "                    X[:, i][~valid_mask] = self.categories_[i][0]\n",
    "            X_int[:, i] = self._label_encoders_[i].transform(X[:, i])\n",
    "\n",
    "        if self.encoding == 'ordinal':\n",
    "            return X_int.astype(self.dtype, copy=False)\n",
    "\n",
    "        mask = X_mask.ravel()\n",
    "        n_values = [cats.shape[0] for cats in self.categories_]\n",
    "        n_values = np.array([0] + n_values)\n",
    "        indices = np.cumsum(n_values)\n",
    "\n",
    "        column_indices = (X_int + indices[:-1]).ravel()[mask]\n",
    "        row_indices = np.repeat(np.arange(n_samples, dtype=np.int32),\n",
    "                                n_features)[mask]\n",
    "        data = np.ones(n_samples * n_features)[mask]\n",
    "\n",
    "        out = sparse.csc_matrix((data, (row_indices, column_indices)),\n",
    "                                shape=(n_samples, indices[-1]),\n",
    "                                dtype=self.dtype).tocsr()\n",
    "        if self.encoding == 'onehot-dense':\n",
    "            return out.toarray()\n",
    "        else:\n",
    "            return out"
   ]
  },
  {
   "cell_type": "code",
   "execution_count": 42,
   "metadata": {
    "collapsed": true
   },
   "outputs": [],
   "source": [
    "class DataFrameSelector(BaseEstimator, TransformerMixin):\n",
    "    def __init__(self, attr_list):\n",
    "        self.attr_list = attr_list\n",
    "        \n",
    "    def fit(self, X, y=None):\n",
    "        return self\n",
    "    \n",
    "    def transform(self, X):\n",
    "        return X[self.attr_list].values"
   ]
  },
  {
   "cell_type": "code",
   "execution_count": 43,
   "metadata": {
    "collapsed": true
   },
   "outputs": [],
   "source": [
    "from sklearn.pipeline import FeatureUnion"
   ]
  },
  {
   "cell_type": "code",
   "execution_count": 44,
   "metadata": {},
   "outputs": [
    {
     "data": {
      "text/plain": [
       "Index(['dealer_state', 'car_make', 'car_mileage', 'car_exteriorColor',\n",
       "       'car_interiorColor', 'car_engine', 'car_displacement', 'car_drivetype',\n",
       "       'car_transmission', 'car_fuel', 'car_mpgCombined', 'car_bodytype',\n",
       "       'car_oneOwner', 'car_noAccidents', 'car_serviceRecords',\n",
       "       'car_personalUse', 'car_age', 'car_options_count'],\n",
       "      dtype='object')"
      ]
     },
     "execution_count": 44,
     "metadata": {},
     "output_type": "execute_result"
    }
   ],
   "source": [
    "X_train.columns"
   ]
  },
  {
   "cell_type": "code",
   "execution_count": 45,
   "metadata": {
    "collapsed": true
   },
   "outputs": [],
   "source": [
    "cat_attr_list = ['dealer_state', 'car_make', 'car_exteriorColor',\n",
    "                   'car_interiorColor', u'car_engine', \n",
    "                   'car_drivetype', 'car_transmission', 'car_fuel', \n",
    "                   'car_bodytype']\n",
    "\n",
    "num_attr_list = ['car_age','car_options_count','car_displacement','car_mpgCombined','car_mileage']\n",
    "\n",
    "binary_attr_list = ['car_oneOwner', 'car_noAccidents',\n",
    "                   'car_serviceRecords', 'car_personalUse']\n",
    "\n",
    "num_pipeline = Pipeline([\n",
    "    ('num_selector', DataFrameSelector(num_attr_list)),\n",
    "    ('std_scaler', StandardScaler())\n",
    "])\n",
    "\n",
    "cat_pipeline = Pipeline([\n",
    "    ('cat_seletcor', DataFrameSelector(cat_attr_list)),\n",
    "    ('cat_encoder', CategoricalEncoder(encoding='onehot-dense'))\n",
    "])\n",
    "\n",
    "binary_pipeline = Pipeline([\n",
    "    ('binary_selector', DataFrameSelector(binary_attr_list))\n",
    "])\n",
    "\n",
    "feature_union = FeatureUnion(transformer_list=[\n",
    "    ('num_pipe',num_pipeline), \n",
    "    ('cat_pipe',cat_pipeline), \n",
    "    ('binary_pipe',binary_pipeline)\n",
    "])"
   ]
  },
  {
   "cell_type": "code",
   "execution_count": 46,
   "metadata": {
    "collapsed": true
   },
   "outputs": [],
   "source": [
    "from sklearn.decomposition import PCA"
   ]
  },
  {
   "cell_type": "code",
   "execution_count": 47,
   "metadata": {
    "collapsed": true
   },
   "outputs": [],
   "source": [
    "feature_union_pca = Pipeline([\n",
    "    ('feature_union', feature_union),\n",
    "    ('pca', PCA(n_components=0.95))\n",
    "])"
   ]
  },
  {
   "cell_type": "code",
   "execution_count": 48,
   "metadata": {
    "collapsed": true
   },
   "outputs": [],
   "source": [
    "X_processed = feature_union.fit_transform(X_train)"
   ]
  },
  {
   "cell_type": "code",
   "execution_count": 49,
   "metadata": {},
   "outputs": [
    {
     "data": {
      "text/plain": [
       "(705540, 175)"
      ]
     },
     "execution_count": 49,
     "metadata": {},
     "output_type": "execute_result"
    }
   ],
   "source": [
    "X_processed.shape"
   ]
  },
  {
   "cell_type": "code",
   "execution_count": 50,
   "metadata": {
    "collapsed": true
   },
   "outputs": [],
   "source": [
    "X_processed_pca = feature_union_pca.fit_transform(X_train)"
   ]
  },
  {
   "cell_type": "code",
   "execution_count": 51,
   "metadata": {},
   "outputs": [
    {
     "data": {
      "text/plain": [
       "(705540, 64)"
      ]
     },
     "execution_count": 51,
     "metadata": {},
     "output_type": "execute_result"
    }
   ],
   "source": [
    "X_processed_pca.shape"
   ]
  },
  {
   "cell_type": "markdown",
   "metadata": {},
   "source": [
    "# Training and Tuning Models"
   ]
  },
  {
   "cell_type": "code",
   "execution_count": 52,
   "metadata": {
    "collapsed": true
   },
   "outputs": [],
   "source": [
    "from sklearn.model_selection import GridSearchCV"
   ]
  },
  {
   "cell_type": "code",
   "execution_count": 53,
   "metadata": {
    "collapsed": true
   },
   "outputs": [],
   "source": [
    "from sklearn.metrics import mean_squared_error"
   ]
  },
  {
   "cell_type": "markdown",
   "metadata": {},
   "source": [
    "## Randomforest"
   ]
  },
  {
   "cell_type": "code",
   "execution_count": 66,
   "metadata": {
    "collapsed": true
   },
   "outputs": [],
   "source": [
    "from sklearn.ensemble import RandomForestRegressor"
   ]
  },
  {
   "cell_type": "code",
   "execution_count": 56,
   "metadata": {
    "collapsed": true
   },
   "outputs": [],
   "source": [
    "def regressor_flow(estimator,name, para_grid, X_train, y_train, X_test, y_test, n_jobs=-1):\n",
    "    X_train_processed_pca = feature_union_pca.fit_transform(X_train)\n",
    "    regressor_grid = GridSearchCV(estimator= estimator, param_grid= para_grid, verbose=2,\n",
    "                       n_jobs=n_jobs, cv=3, scoring='neg_mean_squared_error')\n",
    "    regressor_grid.fit(X_train_processed_pca, y_train)\n",
    "    \n",
    "    X_test_processed_pca = feature_union_pca.transform(X_test)\n",
    "    y_pred = regressor_grid.predict(X_test_processed_pca)\n",
    "    \n",
    "    print(name) \n",
    "    print('The mean of the y_test is {}'.format(y_test.mean()))\n",
    "    print('The median of the y_test is {}'.format(y_test.median())) \n",
    "    print('The RMSE of the model is {}'.format(np.sqrt(mean_squared_error(y_test, y_pred)))) \n",
    "    print('The best_parameters is {}'.format(regressor_grid.best_params_ )) "
   ]
  },
  {
   "cell_type": "code",
   "execution_count": 72,
   "metadata": {},
   "outputs": [
    {
     "name": "stdout",
     "output_type": "stream",
     "text": [
      "Fitting 3 folds for each of 32 candidates, totalling 96 fits\n"
     ]
    },
    {
     "name": "stderr",
     "output_type": "stream",
     "text": [
      "[Parallel(n_jobs=-1)]: Done  25 tasks      | elapsed: 30.8min\n",
      "[Parallel(n_jobs=-1)]: Done  96 out of  96 | elapsed: 88.5min finished\n"
     ]
    },
    {
     "name": "stdout",
     "output_type": "stream",
     "text": [
      "Random Forest Regressor\n",
      "The mean of the y_test is 21485.696580227457\n",
      "The median of the y_test is 18500.0\n",
      "The MSE of the model is 69172522.4940932\n",
      "The best_parameters is {'max_features': 'sqrt', 'min_samples_leaf': 50, 'n_estimators': 120}\n"
     ]
    }
   ],
   "source": [
    "rf_reg = RandomForestRegressor()\n",
    "param_grid = {\"max_features\": ['sqrt', 'log2'],\n",
    "              \"min_samples_leaf\" : [50,100,150,200],\n",
    "              \"n_estimators\" : np.arange(30, 121, 30)}\n",
    "\n",
    "regressor_flow(rf_reg, 'Random Forest Regressor',param_grid, X_train, y_train, X_test, y_test)"
   ]
  },
  {
   "cell_type": "code",
   "execution_count": 75,
   "metadata": {},
   "outputs": [
    {
     "data": {
      "text/plain": [
       "8317.0020135919895"
      ]
     },
     "execution_count": 75,
     "metadata": {},
     "output_type": "execute_result"
    }
   ],
   "source": [
    "np.sqrt(69172522.4940932)"
   ]
  },
  {
   "cell_type": "markdown",
   "metadata": {},
   "source": [
    "## Lasso"
   ]
  },
  {
   "cell_type": "code",
   "execution_count": 57,
   "metadata": {
    "collapsed": true
   },
   "outputs": [],
   "source": [
    "from sklearn.linear_model import Lasso"
   ]
  },
  {
   "cell_type": "code",
   "execution_count": 58,
   "metadata": {},
   "outputs": [
    {
     "name": "stdout",
     "output_type": "stream",
     "text": [
      "Fitting 3 folds for each of 20 candidates, totalling 60 fits\n",
      "[CV] alpha=0.2 .......................................................\n",
      "[CV] alpha=0.2 .......................................................\n",
      "[CV] alpha=0.2 .......................................................\n",
      "[CV] ........................................ alpha=0.2, total=   1.5s\n",
      "[CV] alpha=0.4 .......................................................\n",
      "[CV] ........................................ alpha=0.2, total=   1.5s\n",
      "[CV] alpha=0.4 .......................................................\n",
      "[CV] ........................................ alpha=0.2, total=   1.6s\n",
      "[CV] alpha=0.4 .......................................................\n",
      "[CV] ........................................ alpha=0.4, total=   1.7s\n",
      "[CV] alpha=0.6 .......................................................\n",
      "[CV] ........................................ alpha=0.4, total=   1.7s\n",
      "[CV] alpha=0.6 .......................................................\n",
      "[CV] ........................................ alpha=0.4, total=   1.7s\n",
      "[CV] alpha=0.6 .......................................................\n",
      "[CV] ........................................ alpha=0.6, total=   1.7s\n",
      "[CV] alpha=0.8 .......................................................\n",
      "[CV] alpha=0.8 .......................................................\n",
      "[CV] ........................................ alpha=0.6, total=   1.9s\n",
      "[CV] ........................................ alpha=0.6, total=   1.8s\n",
      "[CV] alpha=0.8 .......................................................\n",
      "[CV] ........................................ alpha=0.8, total=   1.8s\n",
      "[CV] alpha=1.0 .......................................................\n",
      "[CV] alpha=1.0 .......................................................\n",
      "[CV] ........................................ alpha=0.8, total=   1.8s\n",
      "[CV] alpha=1.0 .......................................................\n",
      "[CV] ........................................ alpha=0.8, total=   2.1s\n",
      "[CV] alpha=1.2 .......................................................\n",
      "[CV] ........................................ alpha=1.0, total=   1.9s\n",
      "[CV] alpha=1.2 .......................................................\n",
      "[CV] ........................................ alpha=1.0, total=   1.8s\n",
      "[CV] alpha=1.2 .......................................................\n",
      "[CV] ........................................ alpha=1.0, total=   1.9s\n",
      "[CV] alpha=1.4 .......................................................\n",
      "[CV] ........................................ alpha=1.2, total=   1.9s\n",
      "[CV] alpha=1.4 .......................................................\n",
      "[CV] ........................................ alpha=1.2, total=   1.8s\n",
      "[CV] alpha=1.4 .......................................................\n",
      "[CV] ........................................ alpha=1.2, total=   1.8s\n",
      "[CV] ........................................ alpha=1.4, total=   1.7s\n",
      "[CV] alpha=1.6 .......................................................\n",
      "[CV] ........................................ alpha=1.4, total=   1.6s\n",
      "[CV] alpha=1.6 .......................................................\n",
      "[CV] ........................................ alpha=1.4, total=   1.6s\n",
      "[CV] alpha=1.6 .......................................................\n",
      "[CV] ........................................ alpha=1.6, total=   1.7s\n",
      "[CV] alpha=1.8 .......................................................\n",
      "[CV] ........................................ alpha=1.6, total=   1.6s\n",
      "[CV] alpha=1.8 .......................................................\n",
      "[CV] ........................................ alpha=1.6, total=   1.7s\n",
      "[CV] alpha=1.8 .......................................................\n",
      "[CV] ........................................ alpha=1.8, total=   1.6s\n",
      "[CV] alpha=2.0 .......................................................\n"
     ]
    },
    {
     "name": "stderr",
     "output_type": "stream",
     "text": [
      "[Parallel(n_jobs=-1)]: Done  25 tasks      | elapsed:   17.3s\n"
     ]
    },
    {
     "name": "stdout",
     "output_type": "stream",
     "text": [
      "[CV] ........................................ alpha=1.8, total=   1.7s\n",
      "[CV] alpha=2.0 .......................................................\n",
      "[CV] ........................................ alpha=1.8, total=   1.6s\n",
      "[CV] alpha=2.0 .......................................................\n",
      "[CV] ........................................ alpha=2.0, total=   1.6s\n",
      "[CV] alpha=2.2 .......................................................\n",
      "[CV] ........................................ alpha=2.0, total=   1.6s\n",
      "[CV] alpha=2.2 .......................................................\n",
      "[CV] ........................................ alpha=2.0, total=   1.7s\n",
      "[CV] alpha=2.2 .......................................................\n",
      "[CV] alpha=2.4 .......................................................\n",
      "[CV] ........................................ alpha=2.2, total=   1.9s\n",
      "[CV] alpha=2.4 .......................................................\n",
      "[CV] ........................................ alpha=2.2, total=   2.0s\n",
      "[CV] alpha=2.4 .......................................................\n",
      "[CV] ........................................ alpha=2.2, total=   2.2s\n",
      "[CV] alpha=2.6 .......................................................\n",
      "[CV] ........................................ alpha=2.4, total=   2.0s\n",
      "[CV] alpha=2.6 .......................................................\n",
      "[CV] ........................................ alpha=2.4, total=   2.0s\n",
      "[CV] alpha=2.6 .......................................................\n",
      "[CV] ........................................ alpha=2.4, total=   2.0s\n",
      "[CV] ........................................ alpha=2.6, total=   1.8s\n",
      "[CV] alpha=2.8 .......................................................\n",
      "[CV] ........................................ alpha=2.6, total=   1.7s\n",
      "[CV] alpha=2.8 .......................................................\n",
      "[CV] alpha=2.8 .......................................................\n",
      "[CV] ........................................ alpha=2.6, total=   1.8s\n",
      "[CV] alpha=3.0 .......................................................\n",
      "[CV] ........................................ alpha=2.8, total=   1.8s\n",
      "[CV] ........................................ alpha=2.8, total=   1.7s\n",
      "[CV] alpha=3.0 .......................................................\n",
      "[CV] alpha=3.0 .......................................................\n",
      "[CV] ........................................ alpha=2.8, total=   1.9s\n",
      "[CV] alpha=3.2 .......................................................\n",
      "[CV] ........................................ alpha=3.0, total=   1.9s\n",
      "[CV] alpha=3.2 .......................................................\n",
      "[CV] ........................................ alpha=3.0, total=   1.7s\n",
      "[CV] ........................................ alpha=3.0, total=   1.8s\n",
      "[CV] alpha=3.2 .......................................................\n",
      "[CV] alpha=3.4 .......................................................\n",
      "[CV] ........................................ alpha=3.2, total=   1.7s\n",
      "[CV] alpha=3.4 .......................................................\n",
      "[CV] ........................................ alpha=3.2, total=   2.0s\n",
      "[CV] alpha=3.4 .......................................................\n",
      "[CV] ........................................ alpha=3.2, total=   2.0s\n",
      "[CV] alpha=3.6 .......................................................\n",
      "[CV] ........................................ alpha=3.4, total=   1.9s\n",
      "[CV] alpha=3.6 .......................................................\n",
      "[CV] ........................................ alpha=3.4, total=   2.0s\n",
      "[CV] alpha=3.6 .......................................................\n",
      "[CV] ........................................ alpha=3.4, total=   1.8s\n",
      "[CV] ........................................ alpha=3.6, total=   1.6s\n",
      "[CV] alpha=3.8 .......................................................\n",
      "[CV] ........................................ alpha=3.6, total=   1.7s\n",
      "[CV] alpha=3.8 .......................................................\n",
      "[CV] ........................................ alpha=3.6, total=   1.6s\n",
      "[CV] alpha=3.8 .......................................................\n",
      "[CV] ........................................ alpha=3.8, total=   1.7s\n",
      "[CV] alpha=4.0 .......................................................\n",
      "[CV] alpha=4.0 .......................................................\n",
      "[CV] ........................................ alpha=3.8, total=   1.9s\n",
      "[CV] ........................................ alpha=3.8, total=   1.7s\n",
      "[CV] alpha=4.0 .......................................................\n",
      "[CV] ........................................ alpha=4.0, total=   1.8s\n",
      "[CV] ........................................ alpha=4.0, total=   1.6s\n",
      "[CV] ........................................ alpha=4.0, total=   1.5s\n"
     ]
    },
    {
     "name": "stderr",
     "output_type": "stream",
     "text": [
      "[Parallel(n_jobs=-1)]: Done  60 out of  60 | elapsed:   38.6s finished\n"
     ]
    },
    {
     "name": "stdout",
     "output_type": "stream",
     "text": [
      "Lasso Regressor\n",
      "The mean of the y_test is 21485.696580227457\n",
      "The median of the y_test is 18500.0\n",
      "The RMSE of the model is 11291.090358607848\n",
      "The best_parameters is {'alpha': 0.20000000000000001}\n"
     ]
    }
   ],
   "source": [
    "lasso_reg = Lasso()\n",
    "lasso_param_grid = {\n",
    "    'alpha': np.linspace(0.2,4,20)\n",
    "}\n",
    "\n",
    "regressor_flow(lasso_reg,'Lasso Regressor',lasso_param_grid, X_train, y_train, X_test, y_test)"
   ]
  },
  {
   "cell_type": "markdown",
   "metadata": {},
   "source": [
    "## SVM"
   ]
  },
  {
   "cell_type": "code",
   "execution_count": null,
   "metadata": {
    "collapsed": true
   },
   "outputs": [],
   "source": [
    "from sklearn.svm import SVR"
   ]
  },
  {
   "cell_type": "code",
   "execution_count": null,
   "metadata": {},
   "outputs": [
    {
     "name": "stdout",
     "output_type": "stream",
     "text": [
      "Fitting 3 folds for each of 36 candidates, totalling 108 fits\n",
      "[CV] C=0.1, gamma=1.4173540833971142e-06, kernel=poly ................\n",
      "[CV] C=0.1, gamma=1.4173540833971142e-06, kernel=poly ................\n",
      "[CV] C=0.1, gamma=1.4173540833971142e-06, kernel=poly ................\n",
      "[CV] C=0.1, gamma=1.4173540833971142e-06, kernel=rbf .................\n",
      "[CV] C=0.1, gamma=1.4173540833971142e-06, kernel=rbf .................\n",
      "[CV] C=0.1, gamma=1.4173540833971142e-06, kernel=rbf .................\n",
      "[CV] C=0.1, gamma=1.4173540833971142e-06, kernel=sigmoid .............\n",
      "[CV] C=0.1, gamma=1.4173540833971142e-06, kernel=sigmoid .............\n",
      "[CV]  C=0.1, gamma=1.4173540833971142e-06, kernel=poly, total=726.1min\n",
      "[CV] C=0.1, gamma=1.4173540833971142e-06, kernel=sigmoid .............\n",
      "[CV]  C=0.1, gamma=1.4173540833971142e-06, kernel=poly, total=730.9min\n",
      "[CV] C=0.1, gamma=2.8347081667942284e-06, kernel=poly ................\n",
      "[CV]  C=0.1, gamma=1.4173540833971142e-06, kernel=sigmoid, total=885.4min\n",
      "[CV] C=0.1, gamma=2.8347081667942284e-06, kernel=poly ................\n",
      "[CV] . C=0.1, gamma=1.4173540833971142e-06, kernel=rbf, total=904.5min\n",
      "[CV] C=0.1, gamma=2.8347081667942284e-06, kernel=poly ................\n",
      "[CV] . C=0.1, gamma=1.4173540833971142e-06, kernel=rbf, total=906.1min\n",
      "[CV] C=0.1, gamma=2.8347081667942284e-06, kernel=rbf .................\n",
      "[CV]  C=0.1, gamma=1.4173540833971142e-06, kernel=poly, total=1462.1min\n",
      "[CV] C=0.1, gamma=2.8347081667942284e-06, kernel=rbf .................\n",
      "[CV]  C=0.1, gamma=2.8347081667942284e-06, kernel=poly, total=723.7min\n",
      "[CV] C=0.1, gamma=2.8347081667942284e-06, kernel=rbf .................\n",
      "[CV]  C=0.1, gamma=1.4173540833971142e-06, kernel=sigmoid, total=1765.8min\n",
      "[CV] C=0.1, gamma=2.8347081667942284e-06, kernel=sigmoid .............\n",
      "[CV]  C=0.1, gamma=2.8347081667942284e-06, kernel=poly, total=1458.5min\n",
      "[CV] C=0.1, gamma=4.252062250191343e-06, kernel=poly .................\n",
      "[CV] . C=0.1, gamma=2.8347081667942284e-06, kernel=rbf, total=901.4min\n",
      "[CV] C=0.1, gamma=4.252062250191343e-06, kernel=rbf ..................\n",
      "[CV] . C=0.1, gamma=4.252062250191343e-06, kernel=poly, total=726.7min\n",
      "[CV] C=0.1, gamma=4.252062250191343e-06, kernel=rbf ..................\n",
      "[CV]  C=0.1, gamma=2.8347081667942284e-06, kernel=sigmoid, total=881.5min\n",
      "[CV] C=0.1, gamma=4.252062250191343e-06, kernel=rbf ..................\n",
      "[CV]  C=0.1, gamma=2.8347081667942284e-06, kernel=sigmoid, total=1763.5min\n",
      "[CV] C=0.1, gamma=4.252062250191343e-06, kernel=sigmoid ..............\n",
      "[CV]  C=0.1, gamma=2.8347081667942284e-06, kernel=rbf, total=1808.8min\n",
      "[CV] C=3.1, gamma=1.4173540833971142e-06, kernel=poly ................\n",
      "[CV]  C=0.1, gamma=4.252062250191343e-06, kernel=poly, total=1463.5min\n",
      "[CV] C=3.1, gamma=1.4173540833971142e-06, kernel=poly ................\n"
     ]
    }
   ],
   "source": [
    "svm_reg = SVR()\n",
    "svm_param_grid = {\n",
    "    'C': np.arange(0.1,10,3),\n",
    "    'gamma': [1.0/len(X_train), 2.0/len(X_train), 3.0/len(X_train)],\n",
    "    'kernel': ['poly', 'rbf', 'sigmoid']\n",
    "}\n",
    "\n",
    "regressor_flow(svm_reg,'SVM Regressor',svm_param_grid, X_train, y_train, X_test, y_test)"
   ]
  },
  {
   "cell_type": "code",
   "execution_count": null,
   "metadata": {
    "collapsed": true
   },
   "outputs": [],
   "source": []
  },
  {
   "cell_type": "markdown",
   "metadata": {},
   "source": [
    "## Polynomial + Lasso"
   ]
  },
  {
   "cell_type": "markdown",
   "metadata": {},
   "source": [
    "## XG_Boost"
   ]
  }
 ],
 "metadata": {
  "kernelspec": {
   "display_name": "Python 3",
   "language": "python",
   "name": "python3"
  },
  "language_info": {
   "codemirror_mode": {
    "name": "ipython",
    "version": 3
   },
   "file_extension": ".py",
   "mimetype": "text/x-python",
   "name": "python",
   "nbconvert_exporter": "python",
   "pygments_lexer": "ipython3",
   "version": "3.6.3"
  }
 },
 "nbformat": 4,
 "nbformat_minor": 2
}
