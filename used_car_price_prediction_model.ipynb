{
 "cells": [
  {
   "cell_type": "code",
   "execution_count": 1,
   "metadata": {
    "collapsed": true
   },
   "outputs": [],
   "source": [
    "import pandas as pd\n",
    "import matplotlib.pyplot as plt\n",
    "import seaborn as sns"
   ]
  },
  {
   "cell_type": "code",
   "execution_count": 2,
   "metadata": {
    "collapsed": true
   },
   "outputs": [],
   "source": [
    "%matplotlib inline"
   ]
  },
  {
   "cell_type": "code",
   "execution_count": 3,
   "metadata": {
    "collapsed": true
   },
   "outputs": [],
   "source": [
    "import MySQLdb"
   ]
  },
  {
   "cell_type": "code",
   "execution_count": 62,
   "metadata": {
    "collapsed": true
   },
   "outputs": [],
   "source": [
    "import numpy as np"
   ]
  },
  {
   "cell_type": "markdown",
   "metadata": {},
   "source": [
    "# Read Data From Database"
   ]
  },
  {
   "cell_type": "code",
   "execution_count": 4,
   "metadata": {},
   "outputs": [
    {
     "name": "stdout",
     "output_type": "stream",
     "text": [
      "loaded 1062477 records from MySQL into dataframe:\n"
     ]
    }
   ],
   "source": [
    "mysql_cn= MySQLdb.connect(host='spider.c0kwpumescj5.us-east-1.rds.amazonaws.com', \n",
    "                port=3306,user='root', passwd='Zuoqian690712', \n",
    "                db='spider')\n",
    "car_fax = pd.read_sql('select * from carfax;', con=mysql_cn) \n",
    "\n",
    "print 'loaded {} records from MySQL into dataframe:'.format(len(car_fax)) \n",
    "mysql_cn.close()"
   ]
  },
  {
   "cell_type": "code",
   "execution_count": 5,
   "metadata": {
    "collapsed": true
   },
   "outputs": [],
   "source": [
    "pd.options.display.float_format = '{:,.2f}'.format"
   ]
  },
  {
   "cell_type": "code",
   "execution_count": 6,
   "metadata": {},
   "outputs": [
    {
     "name": "stdout",
     "output_type": "stream",
     "text": [
      "<class 'pandas.core.frame.DataFrame'>\n",
      "RangeIndex: 1062477 entries, 0 to 1062476\n",
      "Data columns (total 29 columns):\n",
      "dealer_id             1062477 non-null object\n",
      "dealer_name           1062477 non-null object\n",
      "dealer_city           1062477 non-null object\n",
      "dealer_state          1062477 non-null object\n",
      "car_vin               1062477 non-null object\n",
      "car_year              1062477 non-null int64\n",
      "car_make              1062477 non-null object\n",
      "car_topOptions        1062477 non-null object\n",
      "car_model             1062477 non-null object\n",
      "car_trim              1062477 non-null object\n",
      "car_mileage           1062477 non-null int64\n",
      "car_list_price        1062477 non-null float64\n",
      "car_current_price     1062477 non-null float64\n",
      "car_exteriorColor     1062477 non-null object\n",
      "car_interiorColor     1062477 non-null object\n",
      "car_engine            1062477 non-null object\n",
      "car_displacement      1062477 non-null object\n",
      "car_drivetype         1062477 non-null object\n",
      "car_transmission      1062477 non-null object\n",
      "car_fuel              1062477 non-null object\n",
      "car_mpgCity           1062477 non-null int64\n",
      "car_mpgHighway        1062477 non-null int64\n",
      "car_mpgCombined       1062477 non-null int64\n",
      "car_bodytype          1062477 non-null object\n",
      "car_oneOwner          1062477 non-null int64\n",
      "car_noAccidents       1062477 non-null int64\n",
      "car_serviceRecords    1062477 non-null int64\n",
      "car_personalUse       1062477 non-null int64\n",
      "crawl_time            1062477 non-null datetime64[ns]\n",
      "dtypes: datetime64[ns](1), float64(2), int64(9), object(17)\n",
      "memory usage: 235.1+ MB\n"
     ]
    }
   ],
   "source": [
    "car_fax.info()"
   ]
  },
  {
   "cell_type": "code",
   "execution_count": 6,
   "metadata": {},
   "outputs": [
    {
     "data": {
      "text/html": [
       "<div>\n",
       "<style>\n",
       "    .dataframe thead tr:only-child th {\n",
       "        text-align: right;\n",
       "    }\n",
       "\n",
       "    .dataframe thead th {\n",
       "        text-align: left;\n",
       "    }\n",
       "\n",
       "    .dataframe tbody tr th {\n",
       "        vertical-align: top;\n",
       "    }\n",
       "</style>\n",
       "<table border=\"1\" class=\"dataframe\">\n",
       "  <thead>\n",
       "    <tr style=\"text-align: right;\">\n",
       "      <th></th>\n",
       "      <th>car_year</th>\n",
       "      <th>car_mileage</th>\n",
       "      <th>car_list_price</th>\n",
       "      <th>car_current_price</th>\n",
       "      <th>car_mpgCity</th>\n",
       "      <th>car_mpgHighway</th>\n",
       "      <th>car_mpgCombined</th>\n",
       "      <th>car_oneOwner</th>\n",
       "      <th>car_noAccidents</th>\n",
       "      <th>car_serviceRecords</th>\n",
       "      <th>car_personalUse</th>\n",
       "    </tr>\n",
       "  </thead>\n",
       "  <tbody>\n",
       "    <tr>\n",
       "      <th>count</th>\n",
       "      <td>1,062,477.00</td>\n",
       "      <td>1,062,477.00</td>\n",
       "      <td>1,062,477.00</td>\n",
       "      <td>1,062,477.00</td>\n",
       "      <td>1,062,477.00</td>\n",
       "      <td>1,062,477.00</td>\n",
       "      <td>1,062,477.00</td>\n",
       "      <td>1,062,477.00</td>\n",
       "      <td>1,062,477.00</td>\n",
       "      <td>1,062,477.00</td>\n",
       "      <td>1,062,477.00</td>\n",
       "    </tr>\n",
       "    <tr>\n",
       "      <th>mean</th>\n",
       "      <td>2,012.90</td>\n",
       "      <td>56,441.57</td>\n",
       "      <td>20,187.67</td>\n",
       "      <td>20,191.42</td>\n",
       "      <td>19.26</td>\n",
       "      <td>26.17</td>\n",
       "      <td>21.78</td>\n",
       "      <td>0.61</td>\n",
       "      <td>0.81</td>\n",
       "      <td>0.90</td>\n",
       "      <td>0.67</td>\n",
       "    </tr>\n",
       "    <tr>\n",
       "      <th>std</th>\n",
       "      <td>4.01</td>\n",
       "      <td>45,768.92</td>\n",
       "      <td>17,068.02</td>\n",
       "      <td>17,056.76</td>\n",
       "      <td>7.48</td>\n",
       "      <td>8.50</td>\n",
       "      <td>7.73</td>\n",
       "      <td>0.49</td>\n",
       "      <td>0.39</td>\n",
       "      <td>0.30</td>\n",
       "      <td>0.47</td>\n",
       "    </tr>\n",
       "    <tr>\n",
       "      <th>min</th>\n",
       "      <td>1,981.00</td>\n",
       "      <td>0.00</td>\n",
       "      <td>0.00</td>\n",
       "      <td>0.00</td>\n",
       "      <td>0.00</td>\n",
       "      <td>0.00</td>\n",
       "      <td>0.00</td>\n",
       "      <td>0.00</td>\n",
       "      <td>0.00</td>\n",
       "      <td>0.00</td>\n",
       "      <td>0.00</td>\n",
       "    </tr>\n",
       "    <tr>\n",
       "      <th>25%</th>\n",
       "      <td>2,011.00</td>\n",
       "      <td>23,944.00</td>\n",
       "      <td>10,995.00</td>\n",
       "      <td>10,996.00</td>\n",
       "      <td>16.00</td>\n",
       "      <td>22.00</td>\n",
       "      <td>18.00</td>\n",
       "      <td>0.00</td>\n",
       "      <td>1.00</td>\n",
       "      <td>1.00</td>\n",
       "      <td>0.00</td>\n",
       "    </tr>\n",
       "    <tr>\n",
       "      <th>50%</th>\n",
       "      <td>2,014.00</td>\n",
       "      <td>42,385.00</td>\n",
       "      <td>17,598.00</td>\n",
       "      <td>17,597.00</td>\n",
       "      <td>19.00</td>\n",
       "      <td>26.00</td>\n",
       "      <td>21.00</td>\n",
       "      <td>1.00</td>\n",
       "      <td>1.00</td>\n",
       "      <td>1.00</td>\n",
       "      <td>1.00</td>\n",
       "    </tr>\n",
       "    <tr>\n",
       "      <th>75%</th>\n",
       "      <td>2,016.00</td>\n",
       "      <td>79,886.00</td>\n",
       "      <td>26,950.00</td>\n",
       "      <td>26,938.00</td>\n",
       "      <td>23.00</td>\n",
       "      <td>31.00</td>\n",
       "      <td>26.00</td>\n",
       "      <td>1.00</td>\n",
       "      <td>1.00</td>\n",
       "      <td>1.00</td>\n",
       "      <td>1.00</td>\n",
       "    </tr>\n",
       "    <tr>\n",
       "      <th>max</th>\n",
       "      <td>2,018.00</td>\n",
       "      <td>494,888.00</td>\n",
       "      <td>2,299,900.00</td>\n",
       "      <td>2,299,900.00</td>\n",
       "      <td>150.00</td>\n",
       "      <td>122.00</td>\n",
       "      <td>136.00</td>\n",
       "      <td>1.00</td>\n",
       "      <td>1.00</td>\n",
       "      <td>1.00</td>\n",
       "      <td>1.00</td>\n",
       "    </tr>\n",
       "  </tbody>\n",
       "</table>\n",
       "</div>"
      ],
      "text/plain": [
       "          car_year  car_mileage  car_list_price  car_current_price  \\\n",
       "count 1,062,477.00 1,062,477.00    1,062,477.00       1,062,477.00   \n",
       "mean      2,012.90    56,441.57       20,187.67          20,191.42   \n",
       "std           4.01    45,768.92       17,068.02          17,056.76   \n",
       "min       1,981.00         0.00            0.00               0.00   \n",
       "25%       2,011.00    23,944.00       10,995.00          10,996.00   \n",
       "50%       2,014.00    42,385.00       17,598.00          17,597.00   \n",
       "75%       2,016.00    79,886.00       26,950.00          26,938.00   \n",
       "max       2,018.00   494,888.00    2,299,900.00       2,299,900.00   \n",
       "\n",
       "       car_mpgCity  car_mpgHighway  car_mpgCombined  car_oneOwner  \\\n",
       "count 1,062,477.00    1,062,477.00     1,062,477.00  1,062,477.00   \n",
       "mean         19.26           26.17            21.78          0.61   \n",
       "std           7.48            8.50             7.73          0.49   \n",
       "min           0.00            0.00             0.00          0.00   \n",
       "25%          16.00           22.00            18.00          0.00   \n",
       "50%          19.00           26.00            21.00          1.00   \n",
       "75%          23.00           31.00            26.00          1.00   \n",
       "max         150.00          122.00           136.00          1.00   \n",
       "\n",
       "       car_noAccidents  car_serviceRecords  car_personalUse  \n",
       "count     1,062,477.00        1,062,477.00     1,062,477.00  \n",
       "mean              0.81                0.90             0.67  \n",
       "std               0.39                0.30             0.47  \n",
       "min               0.00                0.00             0.00  \n",
       "25%               1.00                1.00             0.00  \n",
       "50%               1.00                1.00             1.00  \n",
       "75%               1.00                1.00             1.00  \n",
       "max               1.00                1.00             1.00  "
      ]
     },
     "execution_count": 6,
     "metadata": {},
     "output_type": "execute_result"
    }
   ],
   "source": [
    "car_fax.describe()"
   ]
  },
  {
   "cell_type": "code",
   "execution_count": 7,
   "metadata": {
    "collapsed": true
   },
   "outputs": [],
   "source": [
    "is_current_price = car_fax['car_list_price']!=0\n",
    "is_car_mpgCity = car_fax['car_mpgCity']!=0\n",
    "is_car_mpgHighway = car_fax['car_mpgHighway']!=0\n",
    "is_car_mpgCombined = car_fax['car_mpgCombined']!=0"
   ]
  },
  {
   "cell_type": "code",
   "execution_count": 8,
   "metadata": {
    "collapsed": true
   },
   "outputs": [],
   "source": [
    "car_fax_clean = car_fax[is_current_price & is_car_mpgCity & is_car_mpgHighway &is_car_mpgCombined]"
   ]
  },
  {
   "cell_type": "code",
   "execution_count": 103,
   "metadata": {},
   "outputs": [],
   "source": [
    "car_fax_clean['dealer_state'] = car_fax_clean['dealer_state'].apply(lambda x : x if x!='DC' else 'MD')"
   ]
  },
  {
   "cell_type": "code",
   "execution_count": 10,
   "metadata": {},
   "outputs": [
    {
     "name": "stdout",
     "output_type": "stream",
     "text": [
      "<class 'pandas.core.frame.DataFrame'>\n",
      "Int64Index: 939336 entries, 69 to 1062476\n",
      "Data columns (total 29 columns):\n",
      "dealer_id             939336 non-null object\n",
      "dealer_name           939336 non-null object\n",
      "dealer_city           939336 non-null object\n",
      "dealer_state          939336 non-null object\n",
      "car_vin               939336 non-null object\n",
      "car_year              939336 non-null int64\n",
      "car_make              939336 non-null object\n",
      "car_topOptions        939336 non-null object\n",
      "car_model             939336 non-null object\n",
      "car_trim              939336 non-null object\n",
      "car_mileage           939336 non-null int64\n",
      "car_list_price        939336 non-null float64\n",
      "car_current_price     939336 non-null float64\n",
      "car_exteriorColor     939336 non-null object\n",
      "car_interiorColor     939336 non-null object\n",
      "car_engine            939336 non-null object\n",
      "car_displacement      939336 non-null object\n",
      "car_drivetype         939336 non-null object\n",
      "car_transmission      939336 non-null object\n",
      "car_fuel              939336 non-null object\n",
      "car_mpgCity           939336 non-null int64\n",
      "car_mpgHighway        939336 non-null int64\n",
      "car_mpgCombined       939336 non-null int64\n",
      "car_bodytype          939336 non-null object\n",
      "car_oneOwner          939336 non-null int64\n",
      "car_noAccidents       939336 non-null int64\n",
      "car_serviceRecords    939336 non-null int64\n",
      "car_personalUse       939336 non-null int64\n",
      "crawl_time            939336 non-null datetime64[ns]\n",
      "dtypes: datetime64[ns](1), float64(2), int64(9), object(17)\n",
      "memory usage: 255.0+ MB\n"
     ]
    }
   ],
   "source": [
    "car_fax_clean.info()"
   ]
  },
  {
   "cell_type": "code",
   "execution_count": 11,
   "metadata": {},
   "outputs": [
    {
     "data": {
      "text/html": [
       "<div>\n",
       "<style>\n",
       "    .dataframe thead tr:only-child th {\n",
       "        text-align: right;\n",
       "    }\n",
       "\n",
       "    .dataframe thead th {\n",
       "        text-align: left;\n",
       "    }\n",
       "\n",
       "    .dataframe tbody tr th {\n",
       "        vertical-align: top;\n",
       "    }\n",
       "</style>\n",
       "<table border=\"1\" class=\"dataframe\">\n",
       "  <thead>\n",
       "    <tr style=\"text-align: right;\">\n",
       "      <th></th>\n",
       "      <th>dealer_id</th>\n",
       "      <th>dealer_name</th>\n",
       "      <th>dealer_city</th>\n",
       "      <th>dealer_state</th>\n",
       "      <th>car_vin</th>\n",
       "      <th>car_year</th>\n",
       "      <th>car_make</th>\n",
       "      <th>car_topOptions</th>\n",
       "      <th>car_model</th>\n",
       "      <th>car_trim</th>\n",
       "      <th>...</th>\n",
       "      <th>car_fuel</th>\n",
       "      <th>car_mpgCity</th>\n",
       "      <th>car_mpgHighway</th>\n",
       "      <th>car_mpgCombined</th>\n",
       "      <th>car_bodytype</th>\n",
       "      <th>car_oneOwner</th>\n",
       "      <th>car_noAccidents</th>\n",
       "      <th>car_serviceRecords</th>\n",
       "      <th>car_personalUse</th>\n",
       "      <th>crawl_time</th>\n",
       "    </tr>\n",
       "  </thead>\n",
       "  <tbody>\n",
       "    <tr>\n",
       "      <th>69</th>\n",
       "      <td>TELH2I4001</td>\n",
       "      <td>Bradshaw Acura</td>\n",
       "      <td>Greenville</td>\n",
       "      <td>SC</td>\n",
       "      <td>19UDE2F30GA010968</td>\n",
       "      <td>2016</td>\n",
       "      <td>Acura</td>\n",
       "      <td>Alloy Wheels,Keyless Entry,Cruise Control,Heat...</td>\n",
       "      <td>ILX</td>\n",
       "      <td>Unspecified</td>\n",
       "      <td>...</td>\n",
       "      <td>Gasoline</td>\n",
       "      <td>25</td>\n",
       "      <td>35</td>\n",
       "      <td>29</td>\n",
       "      <td>Sedan</td>\n",
       "      <td>1</td>\n",
       "      <td>1</td>\n",
       "      <td>1</td>\n",
       "      <td>1</td>\n",
       "      <td>2017-11-26 17:06:06</td>\n",
       "    </tr>\n",
       "    <tr>\n",
       "      <th>70</th>\n",
       "      <td>ZX1ZT8U001</td>\n",
       "      <td>Champion Chrysler Dodge Jeep</td>\n",
       "      <td>Indianapolis</td>\n",
       "      <td>IN</td>\n",
       "      <td>19UDE2F30GA011246</td>\n",
       "      <td>2016</td>\n",
       "      <td>Acura</td>\n",
       "      <td>Leather Seats,Power Sun/Moonroof,Alloy Wheels,...</td>\n",
       "      <td>ILX</td>\n",
       "      <td>Unspecified</td>\n",
       "      <td>...</td>\n",
       "      <td>Gasoline</td>\n",
       "      <td>25</td>\n",
       "      <td>35</td>\n",
       "      <td>29</td>\n",
       "      <td>Sedan</td>\n",
       "      <td>1</td>\n",
       "      <td>1</td>\n",
       "      <td>1</td>\n",
       "      <td>1</td>\n",
       "      <td>2017-11-27 14:10:31</td>\n",
       "    </tr>\n",
       "    <tr>\n",
       "      <th>71</th>\n",
       "      <td>HZOJ5Z3001</td>\n",
       "      <td>AUTOSOURCE</td>\n",
       "      <td>Honolulu</td>\n",
       "      <td>HI</td>\n",
       "      <td>19UDE2F30GA021243</td>\n",
       "      <td>2016</td>\n",
       "      <td>Acura</td>\n",
       "      <td></td>\n",
       "      <td>ILX</td>\n",
       "      <td>Unspecified</td>\n",
       "      <td>...</td>\n",
       "      <td>Gasoline</td>\n",
       "      <td>25</td>\n",
       "      <td>35</td>\n",
       "      <td>29</td>\n",
       "      <td>Sedan</td>\n",
       "      <td>0</td>\n",
       "      <td>1</td>\n",
       "      <td>1</td>\n",
       "      <td>1</td>\n",
       "      <td>2017-11-26 18:23:52</td>\n",
       "    </tr>\n",
       "    <tr>\n",
       "      <th>72</th>\n",
       "      <td>E4LL4YNR91</td>\n",
       "      <td>Acura North Scottsdale</td>\n",
       "      <td>Phoenix</td>\n",
       "      <td>AZ</td>\n",
       "      <td>19UDE2F30HA001625</td>\n",
       "      <td>2017</td>\n",
       "      <td>Acura</td>\n",
       "      <td>Power Sun/Moonroof,Alloy Wheels,Keyless Entry,...</td>\n",
       "      <td>ILX</td>\n",
       "      <td>Unspecified</td>\n",
       "      <td>...</td>\n",
       "      <td>Gasoline</td>\n",
       "      <td>25</td>\n",
       "      <td>35</td>\n",
       "      <td>29</td>\n",
       "      <td>Sedan</td>\n",
       "      <td>0</td>\n",
       "      <td>1</td>\n",
       "      <td>0</td>\n",
       "      <td>0</td>\n",
       "      <td>2017-11-26 19:25:50</td>\n",
       "    </tr>\n",
       "    <tr>\n",
       "      <th>73</th>\n",
       "      <td>URPEJINF81</td>\n",
       "      <td>South Coast Acura</td>\n",
       "      <td>Costa Mesa</td>\n",
       "      <td>CA</td>\n",
       "      <td>19UDE2F30HA001642</td>\n",
       "      <td>2017</td>\n",
       "      <td>Acura</td>\n",
       "      <td>Power Sun/Moonroof,Alloy Wheels,Keyless Entry,...</td>\n",
       "      <td>ILX</td>\n",
       "      <td>Unspecified</td>\n",
       "      <td>...</td>\n",
       "      <td>Gasoline</td>\n",
       "      <td>25</td>\n",
       "      <td>35</td>\n",
       "      <td>29</td>\n",
       "      <td>Sedan</td>\n",
       "      <td>1</td>\n",
       "      <td>1</td>\n",
       "      <td>1</td>\n",
       "      <td>0</td>\n",
       "      <td>2017-11-30 03:19:00</td>\n",
       "    </tr>\n",
       "  </tbody>\n",
       "</table>\n",
       "<p>5 rows × 29 columns</p>\n",
       "</div>"
      ],
      "text/plain": [
       "     dealer_id                   dealer_name   dealer_city dealer_state  \\\n",
       "69  TELH2I4001                Bradshaw Acura    Greenville           SC   \n",
       "70  ZX1ZT8U001  Champion Chrysler Dodge Jeep  Indianapolis           IN   \n",
       "71  HZOJ5Z3001                    AUTOSOURCE      Honolulu           HI   \n",
       "72  E4LL4YNR91        Acura North Scottsdale       Phoenix           AZ   \n",
       "73  URPEJINF81             South Coast Acura    Costa Mesa           CA   \n",
       "\n",
       "              car_vin  car_year car_make  \\\n",
       "69  19UDE2F30GA010968      2016    Acura   \n",
       "70  19UDE2F30GA011246      2016    Acura   \n",
       "71  19UDE2F30GA021243      2016    Acura   \n",
       "72  19UDE2F30HA001625      2017    Acura   \n",
       "73  19UDE2F30HA001642      2017    Acura   \n",
       "\n",
       "                                       car_topOptions car_model     car_trim  \\\n",
       "69  Alloy Wheels,Keyless Entry,Cruise Control,Heat...       ILX  Unspecified   \n",
       "70  Leather Seats,Power Sun/Moonroof,Alloy Wheels,...       ILX  Unspecified   \n",
       "71                                                          ILX  Unspecified   \n",
       "72  Power Sun/Moonroof,Alloy Wheels,Keyless Entry,...       ILX  Unspecified   \n",
       "73  Power Sun/Moonroof,Alloy Wheels,Keyless Entry,...       ILX  Unspecified   \n",
       "\n",
       "           ...          car_fuel  car_mpgCity  car_mpgHighway car_mpgCombined  \\\n",
       "69         ...          Gasoline           25              35              29   \n",
       "70         ...          Gasoline           25              35              29   \n",
       "71         ...          Gasoline           25              35              29   \n",
       "72         ...          Gasoline           25              35              29   \n",
       "73         ...          Gasoline           25              35              29   \n",
       "\n",
       "   car_bodytype car_oneOwner car_noAccidents car_serviceRecords  \\\n",
       "69        Sedan            1               1                  1   \n",
       "70        Sedan            1               1                  1   \n",
       "71        Sedan            0               1                  1   \n",
       "72        Sedan            0               1                  0   \n",
       "73        Sedan            1               1                  1   \n",
       "\n",
       "   car_personalUse          crawl_time  \n",
       "69               1 2017-11-26 17:06:06  \n",
       "70               1 2017-11-27 14:10:31  \n",
       "71               1 2017-11-26 18:23:52  \n",
       "72               0 2017-11-26 19:25:50  \n",
       "73               0 2017-11-30 03:19:00  \n",
       "\n",
       "[5 rows x 29 columns]"
      ]
     },
     "execution_count": 11,
     "metadata": {},
     "output_type": "execute_result"
    }
   ],
   "source": [
    "car_fax_clean.head()"
   ]
  },
  {
   "cell_type": "code",
   "execution_count": 17,
   "metadata": {
    "collapsed": true
   },
   "outputs": [],
   "source": [
    "from sklearn.ensemble import RandomForestRegressor"
   ]
  },
  {
   "cell_type": "code",
   "execution_count": 18,
   "metadata": {
    "collapsed": true
   },
   "outputs": [],
   "source": [
    "from sklearn.model_selection import train_test_split"
   ]
  },
  {
   "cell_type": "code",
   "execution_count": 19,
   "metadata": {
    "collapsed": true
   },
   "outputs": [],
   "source": [
    "from sklearn.model_selection import GridSearchCV"
   ]
  },
  {
   "cell_type": "code",
   "execution_count": 83,
   "metadata": {
    "collapsed": true
   },
   "outputs": [],
   "source": [
    "from sklearn.preprocessing import LabelEncoder, OneHotEncoder"
   ]
  },
  {
   "cell_type": "code",
   "execution_count": 122,
   "metadata": {
    "collapsed": true
   },
   "outputs": [],
   "source": [
    "from sklearn.metrics import r2_score"
   ]
  },
  {
   "cell_type": "code",
   "execution_count": 71,
   "metadata": {
    "collapsed": true
   },
   "outputs": [],
   "source": [
    "le = LabelEncoder()"
   ]
  },
  {
   "cell_type": "code",
   "execution_count": 85,
   "metadata": {
    "collapsed": true
   },
   "outputs": [],
   "source": [
    "he = OneHotEncoder()"
   ]
  },
  {
   "cell_type": "code",
   "execution_count": 34,
   "metadata": {},
   "outputs": [],
   "source": [
    "car_fax_clean['car_displacement'] = car_fax_clean['car_displacement'].apply(lambda x : float(x.replace('L','')))"
   ]
  },
  {
   "cell_type": "code",
   "execution_count": 37,
   "metadata": {},
   "outputs": [
    {
     "data": {
      "text/plain": [
       "<matplotlib.axes._subplots.AxesSubplot at 0x14043d6d0>"
      ]
     },
     "execution_count": 37,
     "metadata": {},
     "output_type": "execute_result"
    },
    {
     "data": {
      "image/png": "[encoded data removed]",
      "text/plain": [
       "<matplotlib.figure.Figure at 0x1422c32d0>"
      ]
     },
     "metadata": {},
     "output_type": "display_data"
    }
   ],
   "source": [
    "car_fax_clean['car_displacement'].hist(bins = 30)"
   ]
  },
  {
   "cell_type": "code",
   "execution_count": 39,
   "metadata": {},
   "outputs": [
    {
     "data": {
      "text/plain": [
       "0.31217665186458748"
      ]
     },
     "execution_count": 39,
     "metadata": {},
     "output_type": "execute_result"
    }
   ],
   "source": [
    "car_fax_clean['car_displacement'].corr(car_fax_clean['car_current_price'])"
   ]
  },
  {
   "cell_type": "code",
   "execution_count": 53,
   "metadata": {},
   "outputs": [
    {
     "data": {
      "image/png": "[encoded data removed]",
      "text/plain": [
       "<matplotlib.figure.Figure at 0x14f2cca50>"
      ]
     },
     "metadata": {},
     "output_type": "display_data"
    }
   ],
   "source": [
    "fig,ax = plt.subplots(figsize = (20,10))\n",
    "ax.plot(car_fax_clean.groupby(by=['car_displacement'])['car_current_price'].mean())\n",
    "ax.set_title('Used Car Displacement vs Current Price')\n",
    "ax.set_xlabel('Displacement')\n",
    "ax.set_ylabel('Current Price')\n",
    "ax.grid(b = False)\n",
    "plt.show()"
   ]
  },
  {
   "cell_type": "code",
   "execution_count": 110,
   "metadata": {
    "collapsed": true
   },
   "outputs": [],
   "source": [
    "X = car_fax_clean[['dealer_state', 'car_year', u'car_make', 'car_exteriorColor',\n",
    "                   'car_interiorColor', 'car_model', 'car_mileage', 'car_engine',\n",
    "                   'car_displacement', 'car_drivetype', 'car_transmission','car_fuel',\n",
    "                  'car_mpgCombined', 'car_bodytype','car_oneOwner', 'car_noAccidents',\n",
    "                   'car_serviceRecords', 'car_personalUse']]"
   ]
  },
  {
   "cell_type": "code",
   "execution_count": 111,
   "metadata": {
    "collapsed": true
   },
   "outputs": [],
   "source": [
    "y = car_fax_clean['car_current_price']"
   ]
  },
  {
   "cell_type": "code",
   "execution_count": 112,
   "metadata": {},
   "outputs": [],
   "source": [
    "X_label_encoded = le.fit_transform(X[['dealer_state']])"
   ]
  },
  {
   "cell_type": "code",
   "execution_count": 113,
   "metadata": {},
   "outputs": [
    {
     "data": {
      "text/plain": [
       "array([39, 14, 10, ..., 30, 26,  6])"
      ]
     },
     "execution_count": 113,
     "metadata": {},
     "output_type": "execute_result"
    }
   ],
   "source": [
    "X_label_encoded"
   ]
  },
  {
   "cell_type": "code",
   "execution_count": 114,
   "metadata": {},
   "outputs": [],
   "source": [
    "X_onehot_encoded = he.fit_transform(X_label_encoded.reshape(-1,1)).toarray()"
   ]
  },
  {
   "cell_type": "code",
   "execution_count": 119,
   "metadata": {},
   "outputs": [],
   "source": [
    "X_encoded = pd.get_dummies(X)"
   ]
  },
  {
   "cell_type": "code",
   "execution_count": 120,
   "metadata": {},
   "outputs": [
    {
     "name": "stdout",
     "output_type": "stream",
     "text": [
      "<class 'pandas.core.frame.DataFrame'>\n",
      "Int64Index: 938079 entries, 69 to 1062476\n",
      "Columns: 934 entries, car_year to car_bodytype_Wagon\n",
      "dtypes: float64(1), int64(7), uint8(926)\n",
      "memory usage: 932.8 MB\n"
     ]
    }
   ],
   "source": [
    "X_encoded.info()"
   ]
  },
  {
   "cell_type": "code",
   "execution_count": 121,
   "metadata": {},
   "outputs": [],
   "source": [
    "X_train, X_test, y_train, y_test = train_test_split(X_encoded, y, test_size=0.25, random_state=42)"
   ]
  },
  {
   "cell_type": "code",
   "execution_count": 123,
   "metadata": {
    "collapsed": true
   },
   "outputs": [],
   "source": [
    "rf = RandomForestRegressor(n_jobs=-1, verbose =1)\n",
    "parameters = {'n_estimators':np.arange(10,100,10),\n",
    "              'max_features':['auto','sqrt', 'log2'],\n",
    "              'min_samples_split': np.arange(2,15,1),\n",
    "              'min_samples_leaf': np.arange(5,100,10),\n",
    "              'oob_score':[True, False],\n",
    "              'warm_start':[True, False]}"
   ]
  },
  {
   "cell_type": "code",
   "execution_count": 126,
   "metadata": {
    "collapsed": true
   },
   "outputs": [],
   "source": [
    "regression = GridSearchCV(estimator=rf,param_grid= parameters,verbose = 5)"
   ]
  },
  {
   "cell_type": "code",
   "execution_count": null,
   "metadata": {
    "scrolled": true
   },
   "outputs": [
    {
     "name": "stdout",
     "output_type": "stream",
     "text": [
      "Fitting 3 folds for each of 14040 candidates, totalling 42120 fits\n",
      "[CV] warm_start=True, oob_score=True, min_samples_leaf=5, n_estimators=10, min_samples_split=2, max_features=auto \n"
     ]
    },
    {
     "name": "stderr",
     "output_type": "stream",
     "text": [
      "[Parallel(n_jobs=-1)]: Done  10 out of  10 | elapsed:  2.7min finished\n",
      "/Users/shaowei/anaconda2/envs/ML_learning/lib/python2.7/site-packages/sklearn/ensemble/forest.py:723: UserWarning: Some inputs do not have OOB scores. This probably means too few trees were used to compute any reliable oob estimates.\n",
      "  warn(\"Some inputs do not have OOB scores. \"\n",
      "[Parallel(n_jobs=4)]: Done  10 out of  10 | elapsed:    0.7s finished\n",
      "[Parallel(n_jobs=4)]: Done  10 out of  10 | elapsed:    1.5s finished\n"
     ]
    },
    {
     "name": "stdout",
     "output_type": "stream",
     "text": [
      "[CV]  warm_start=True, oob_score=True, min_samples_leaf=5, n_estimators=10, min_samples_split=2, max_features=auto, score=0.862766, total= 3.3min\n",
      "[CV] warm_start=True, oob_score=True, min_samples_leaf=5, n_estimators=10, min_samples_split=2, max_features=auto \n"
     ]
    },
    {
     "name": "stderr",
     "output_type": "stream",
     "text": [
      "[Parallel(n_jobs=1)]: Done   1 out of   1 | elapsed:  3.4min remaining:    0.0s\n",
      "[Parallel(n_jobs=-1)]: Done  10 out of  10 | elapsed:  2.6min finished\n",
      "[Parallel(n_jobs=4)]: Done  10 out of  10 | elapsed:    0.8s finished\n",
      "[Parallel(n_jobs=4)]: Done  10 out of  10 | elapsed:    1.6s finished\n"
     ]
    },
    {
     "name": "stdout",
     "output_type": "stream",
     "text": [
      "[CV]  warm_start=True, oob_score=True, min_samples_leaf=5, n_estimators=10, min_samples_split=2, max_features=auto, score=0.890499, total= 3.1min\n",
      "[CV] warm_start=True, oob_score=True, min_samples_leaf=5, n_estimators=10, min_samples_split=2, max_features=auto \n"
     ]
    },
    {
     "name": "stderr",
     "output_type": "stream",
     "text": [
      "[Parallel(n_jobs=1)]: Done   2 out of   2 | elapsed:  6.7min remaining:    0.0s\n",
      "[Parallel(n_jobs=-1)]: Done  10 out of  10 | elapsed:  2.7min finished\n",
      "[Parallel(n_jobs=4)]: Done  10 out of  10 | elapsed:    0.8s finished\n",
      "[Parallel(n_jobs=4)]: Done  10 out of  10 | elapsed:    1.6s finished\n"
     ]
    },
    {
     "name": "stdout",
     "output_type": "stream",
     "text": [
      "[CV]  warm_start=True, oob_score=True, min_samples_leaf=5, n_estimators=10, min_samples_split=2, max_features=auto, score=0.888451, total= 3.2min\n",
      "[CV] warm_start=False, oob_score=True, min_samples_leaf=5, n_estimators=10, min_samples_split=2, max_features=auto \n"
     ]
    },
    {
     "name": "stderr",
     "output_type": "stream",
     "text": [
      "[Parallel(n_jobs=1)]: Done   3 out of   3 | elapsed: 10.0min remaining:    0.0s\n",
      "[Parallel(n_jobs=-1)]: Done  10 out of  10 | elapsed:  2.8min finished\n",
      "[Parallel(n_jobs=4)]: Done  10 out of  10 | elapsed:    0.9s finished\n",
      "[Parallel(n_jobs=4)]: Done  10 out of  10 | elapsed:    1.6s finished\n"
     ]
    },
    {
     "name": "stdout",
     "output_type": "stream",
     "text": [
      "[CV]  warm_start=False, oob_score=True, min_samples_leaf=5, n_estimators=10, min_samples_split=2, max_features=auto, score=0.856022, total= 3.2min\n",
      "[CV] warm_start=False, oob_score=True, min_samples_leaf=5, n_estimators=10, min_samples_split=2, max_features=auto \n"
     ]
    },
    {
     "name": "stderr",
     "output_type": "stream",
     "text": [
      "[Parallel(n_jobs=1)]: Done   4 out of   4 | elapsed: 13.4min remaining:    0.0s\n",
      "[Parallel(n_jobs=-1)]: Done  10 out of  10 | elapsed:  2.6min finished\n",
      "[Parallel(n_jobs=4)]: Done  10 out of  10 | elapsed:    0.7s finished\n",
      "[Parallel(n_jobs=4)]: Done  10 out of  10 | elapsed:    1.6s finished\n"
     ]
    },
    {
     "name": "stdout",
     "output_type": "stream",
     "text": [
      "[CV]  warm_start=False, oob_score=True, min_samples_leaf=5, n_estimators=10, min_samples_split=2, max_features=auto, score=0.884950, total= 3.1min\n",
      "[CV] warm_start=False, oob_score=True, min_samples_leaf=5, n_estimators=10, min_samples_split=2, max_features=auto \n"
     ]
    },
    {
     "name": "stderr",
     "output_type": "stream",
     "text": [
      "[Parallel(n_jobs=-1)]: Done  10 out of  10 | elapsed:  2.6min finished\n",
      "[Parallel(n_jobs=4)]: Done  10 out of  10 | elapsed:    0.8s finished\n",
      "[Parallel(n_jobs=4)]: Done  10 out of  10 | elapsed:    1.6s finished\n"
     ]
    },
    {
     "name": "stdout",
     "output_type": "stream",
     "text": [
      "[CV]  warm_start=False, oob_score=True, min_samples_leaf=5, n_estimators=10, min_samples_split=2, max_features=auto, score=0.883602, total= 3.0min\n",
      "[CV] warm_start=True, oob_score=False, min_samples_leaf=5, n_estimators=10, min_samples_split=2, max_features=auto \n"
     ]
    },
    {
     "name": "stderr",
     "output_type": "stream",
     "text": [
      "[Parallel(n_jobs=-1)]: Done  10 out of  10 | elapsed:  2.6min finished\n",
      "[Parallel(n_jobs=4)]: Done  10 out of  10 | elapsed:    0.9s finished\n",
      "[Parallel(n_jobs=4)]: Done  10 out of  10 | elapsed:    1.5s finished\n"
     ]
    },
    {
     "name": "stdout",
     "output_type": "stream",
     "text": [
      "[CV]  warm_start=True, oob_score=False, min_samples_leaf=5, n_estimators=10, min_samples_split=2, max_features=auto, score=0.860336, total= 2.9min\n",
      "[CV] warm_start=True, oob_score=False, min_samples_leaf=5, n_estimators=10, min_samples_split=2, max_features=auto \n"
     ]
    },
    {
     "name": "stderr",
     "output_type": "stream",
     "text": [
      "[Parallel(n_jobs=-1)]: Done  10 out of  10 | elapsed:  2.7min finished\n",
      "[Parallel(n_jobs=4)]: Done  10 out of  10 | elapsed:    0.9s finished\n",
      "[Parallel(n_jobs=4)]: Done  10 out of  10 | elapsed:    1.5s finished\n"
     ]
    },
    {
     "name": "stdout",
     "output_type": "stream",
     "text": [
      "[CV]  warm_start=True, oob_score=False, min_samples_leaf=5, n_estimators=10, min_samples_split=2, max_features=auto, score=0.890046, total= 3.0min\n",
      "[CV] warm_start=True, oob_score=False, min_samples_leaf=5, n_estimators=10, min_samples_split=2, max_features=auto \n"
     ]
    },
    {
     "name": "stderr",
     "output_type": "stream",
     "text": [
      "[Parallel(n_jobs=-1)]: Done  10 out of  10 | elapsed:  2.6min finished\n",
      "[Parallel(n_jobs=4)]: Done  10 out of  10 | elapsed:    0.7s finished\n",
      "[Parallel(n_jobs=4)]: Done  10 out of  10 | elapsed:    1.3s finished\n"
     ]
    },
    {
     "name": "stdout",
     "output_type": "stream",
     "text": [
      "[CV]  warm_start=True, oob_score=False, min_samples_leaf=5, n_estimators=10, min_samples_split=2, max_features=auto, score=0.893658, total= 2.8min\n",
      "[CV] warm_start=False, oob_score=False, min_samples_leaf=5, n_estimators=10, min_samples_split=2, max_features=auto \n"
     ]
    },
    {
     "name": "stderr",
     "output_type": "stream",
     "text": [
      "[Parallel(n_jobs=-1)]: Done  10 out of  10 | elapsed:  2.5min finished\n",
      "[Parallel(n_jobs=4)]: Done  10 out of  10 | elapsed:    0.8s finished\n",
      "[Parallel(n_jobs=4)]: Done  10 out of  10 | elapsed:    1.4s finished\n"
     ]
    },
    {
     "name": "stdout",
     "output_type": "stream",
     "text": [
      "[CV]  warm_start=False, oob_score=False, min_samples_leaf=5, n_estimators=10, min_samples_split=2, max_features=auto, score=0.865799, total= 2.7min\n",
      "[CV] warm_start=False, oob_score=False, min_samples_leaf=5, n_estimators=10, min_samples_split=2, max_features=auto \n"
     ]
    },
    {
     "name": "stderr",
     "output_type": "stream",
     "text": [
      "[Parallel(n_jobs=-1)]: Done  10 out of  10 | elapsed:  2.6min finished\n",
      "[Parallel(n_jobs=4)]: Done  10 out of  10 | elapsed:    0.6s finished\n",
      "[Parallel(n_jobs=4)]: Done  10 out of  10 | elapsed:    1.5s finished\n"
     ]
    },
    {
     "name": "stdout",
     "output_type": "stream",
     "text": [
      "[CV]  warm_start=False, oob_score=False, min_samples_leaf=5, n_estimators=10, min_samples_split=2, max_features=auto, score=0.891265, total= 2.8min\n",
      "[CV] warm_start=False, oob_score=False, min_samples_leaf=5, n_estimators=10, min_samples_split=2, max_features=auto \n"
     ]
    },
    {
     "name": "stderr",
     "output_type": "stream",
     "text": [
      "[Parallel(n_jobs=-1)]: Done  10 out of  10 | elapsed:  2.6min finished\n",
      "[Parallel(n_jobs=4)]: Done  10 out of  10 | elapsed:    0.9s finished\n",
      "[Parallel(n_jobs=4)]: Done  10 out of  10 | elapsed:    1.3s finished\n"
     ]
    },
    {
     "name": "stdout",
     "output_type": "stream",
     "text": [
      "[CV]  warm_start=False, oob_score=False, min_samples_leaf=5, n_estimators=10, min_samples_split=2, max_features=auto, score=0.874893, total= 2.8min\n",
      "[CV] warm_start=True, oob_score=True, min_samples_leaf=5, n_estimators=20, min_samples_split=2, max_features=auto \n"
     ]
    },
    {
     "name": "stderr",
     "output_type": "stream",
     "text": [
      "[Parallel(n_jobs=-1)]: Done  20 out of  20 | elapsed:  5.0min finished\n",
      "[Parallel(n_jobs=4)]: Done  20 out of  20 | elapsed:    1.3s finished\n",
      "[Parallel(n_jobs=4)]: Done  20 out of  20 | elapsed:    3.0s finished\n"
     ]
    },
    {
     "name": "stdout",
     "output_type": "stream",
     "text": [
      "[CV]  warm_start=True, oob_score=True, min_samples_leaf=5, n_estimators=20, min_samples_split=2, max_features=auto, score=0.861798, total= 5.6min\n",
      "[CV] warm_start=True, oob_score=True, min_samples_leaf=5, n_estimators=20, min_samples_split=2, max_features=auto \n"
     ]
    },
    {
     "name": "stderr",
     "output_type": "stream",
     "text": [
      "[Parallel(n_jobs=-1)]: Done  20 out of  20 | elapsed:  5.0min finished\n",
      "[Parallel(n_jobs=4)]: Done  20 out of  20 | elapsed:    1.3s finished\n",
      "[Parallel(n_jobs=4)]: Done  20 out of  20 | elapsed:    2.8s finished\n"
     ]
    },
    {
     "name": "stdout",
     "output_type": "stream",
     "text": [
      "[CV]  warm_start=True, oob_score=True, min_samples_leaf=5, n_estimators=20, min_samples_split=2, max_features=auto, score=0.888036, total= 5.6min\n",
      "[CV] warm_start=True, oob_score=True, min_samples_leaf=5, n_estimators=20, min_samples_split=2, max_features=auto \n"
     ]
    },
    {
     "name": "stderr",
     "output_type": "stream",
     "text": [
      "[Parallel(n_jobs=-1)]: Done  20 out of  20 | elapsed:  5.0min finished\n",
      "[Parallel(n_jobs=4)]: Done  20 out of  20 | elapsed:    1.2s finished\n",
      "[Parallel(n_jobs=4)]: Done  20 out of  20 | elapsed:    2.7s finished\n"
     ]
    },
    {
     "name": "stdout",
     "output_type": "stream",
     "text": [
      "[CV]  warm_start=True, oob_score=True, min_samples_leaf=5, n_estimators=20, min_samples_split=2, max_features=auto, score=0.884949, total= 5.6min\n",
      "[CV] warm_start=False, oob_score=True, min_samples_leaf=5, n_estimators=20, min_samples_split=2, max_features=auto \n"
     ]
    },
    {
     "name": "stderr",
     "output_type": "stream",
     "text": [
      "[Parallel(n_jobs=-1)]: Done  20 out of  20 | elapsed:  5.0min finished\n",
      "[Parallel(n_jobs=4)]: Done  20 out of  20 | elapsed:    1.3s finished\n",
      "[Parallel(n_jobs=4)]: Done  20 out of  20 | elapsed:    2.7s finished\n"
     ]
    },
    {
     "name": "stdout",
     "output_type": "stream",
     "text": [
      "[CV]  warm_start=False, oob_score=True, min_samples_leaf=5, n_estimators=20, min_samples_split=2, max_features=auto, score=0.862982, total= 5.7min\n",
      "[CV] warm_start=False, oob_score=True, min_samples_leaf=5, n_estimators=20, min_samples_split=2, max_features=auto \n"
     ]
    },
    {
     "name": "stderr",
     "output_type": "stream",
     "text": [
      "[Parallel(n_jobs=-1)]: Done  20 out of  20 | elapsed:  5.1min finished\n",
      "[Parallel(n_jobs=4)]: Done  20 out of  20 | elapsed:    1.3s finished\n",
      "[Parallel(n_jobs=4)]: Done  20 out of  20 | elapsed:    2.6s finished\n"
     ]
    },
    {
     "name": "stdout",
     "output_type": "stream",
     "text": [
      "[CV]  warm_start=False, oob_score=True, min_samples_leaf=5, n_estimators=20, min_samples_split=2, max_features=auto, score=0.892265, total= 5.8min\n",
      "[CV] warm_start=False, oob_score=True, min_samples_leaf=5, n_estimators=20, min_samples_split=2, max_features=auto \n"
     ]
    },
    {
     "name": "stderr",
     "output_type": "stream",
     "text": [
      "[Parallel(n_jobs=-1)]: Done  20 out of  20 | elapsed:  5.1min finished\n",
      "[Parallel(n_jobs=4)]: Done  20 out of  20 | elapsed:    1.3s finished\n",
      "[Parallel(n_jobs=4)]: Done  20 out of  20 | elapsed:    2.7s finished\n"
     ]
    },
    {
     "name": "stdout",
     "output_type": "stream",
     "text": [
      "[CV]  warm_start=False, oob_score=True, min_samples_leaf=5, n_estimators=20, min_samples_split=2, max_features=auto, score=0.888787, total= 5.7min\n",
      "[CV] warm_start=True, oob_score=False, min_samples_leaf=5, n_estimators=20, min_samples_split=2, max_features=auto \n"
     ]
    },
    {
     "name": "stderr",
     "output_type": "stream",
     "text": [
      "[Parallel(n_jobs=-1)]: Done  20 out of  20 | elapsed:  5.0min finished\n",
      "[Parallel(n_jobs=4)]: Done  20 out of  20 | elapsed:    1.3s finished\n",
      "[Parallel(n_jobs=4)]: Done  20 out of  20 | elapsed:    2.6s finished\n"
     ]
    },
    {
     "name": "stdout",
     "output_type": "stream",
     "text": [
      "[CV]  warm_start=True, oob_score=False, min_samples_leaf=5, n_estimators=20, min_samples_split=2, max_features=auto, score=0.864904, total= 5.2min\n",
      "[CV] warm_start=True, oob_score=False, min_samples_leaf=5, n_estimators=20, min_samples_split=2, max_features=auto \n"
     ]
    },
    {
     "name": "stderr",
     "output_type": "stream",
     "text": [
      "[Parallel(n_jobs=-1)]: Done  20 out of  20 | elapsed:  5.0min finished\n",
      "[Parallel(n_jobs=4)]: Done  20 out of  20 | elapsed:    1.6s finished\n",
      "[Parallel(n_jobs=4)]: Done  20 out of  20 | elapsed:    2.6s finished\n"
     ]
    },
    {
     "name": "stdout",
     "output_type": "stream",
     "text": [
      "[CV]  warm_start=True, oob_score=False, min_samples_leaf=5, n_estimators=20, min_samples_split=2, max_features=auto, score=0.890533, total= 5.2min\n",
      "[CV] warm_start=True, oob_score=False, min_samples_leaf=5, n_estimators=20, min_samples_split=2, max_features=auto \n"
     ]
    },
    {
     "name": "stderr",
     "output_type": "stream",
     "text": [
      "[Parallel(n_jobs=-1)]: Done  20 out of  20 | elapsed:  5.0min finished\n",
      "[Parallel(n_jobs=4)]: Done  20 out of  20 | elapsed:    1.3s finished\n",
      "[Parallel(n_jobs=4)]: Done  20 out of  20 | elapsed:    2.7s finished\n"
     ]
    },
    {
     "name": "stdout",
     "output_type": "stream",
     "text": [
      "[CV]  warm_start=True, oob_score=False, min_samples_leaf=5, n_estimators=20, min_samples_split=2, max_features=auto, score=0.888270, total= 5.3min\n",
      "[CV] warm_start=False, oob_score=False, min_samples_leaf=5, n_estimators=20, min_samples_split=2, max_features=auto \n"
     ]
    },
    {
     "name": "stderr",
     "output_type": "stream",
     "text": [
      "[Parallel(n_jobs=-1)]: Done  20 out of  20 | elapsed:  4.9min finished\n",
      "[Parallel(n_jobs=4)]: Done  20 out of  20 | elapsed:    1.3s finished\n",
      "[Parallel(n_jobs=4)]: Done  20 out of  20 | elapsed:    2.7s finished\n"
     ]
    },
    {
     "name": "stdout",
     "output_type": "stream",
     "text": [
      "[CV]  warm_start=False, oob_score=False, min_samples_leaf=5, n_estimators=20, min_samples_split=2, max_features=auto, score=0.866925, total= 5.1min\n",
      "[CV] warm_start=False, oob_score=False, min_samples_leaf=5, n_estimators=20, min_samples_split=2, max_features=auto \n"
     ]
    },
    {
     "name": "stderr",
     "output_type": "stream",
     "text": [
      "[Parallel(n_jobs=-1)]: Done  20 out of  20 | elapsed:  5.0min finished\n",
      "[Parallel(n_jobs=4)]: Done  20 out of  20 | elapsed:    1.3s finished\n",
      "[Parallel(n_jobs=4)]: Done  20 out of  20 | elapsed:    2.6s finished\n"
     ]
    },
    {
     "name": "stdout",
     "output_type": "stream",
     "text": [
      "[CV]  warm_start=False, oob_score=False, min_samples_leaf=5, n_estimators=20, min_samples_split=2, max_features=auto, score=0.889734, total= 5.3min\n",
      "[CV] warm_start=False, oob_score=False, min_samples_leaf=5, n_estimators=20, min_samples_split=2, max_features=auto \n"
     ]
    },
    {
     "name": "stderr",
     "output_type": "stream",
     "text": [
      "[Parallel(n_jobs=-1)]: Done  20 out of  20 | elapsed:  5.0min finished\n",
      "[Parallel(n_jobs=4)]: Done  20 out of  20 | elapsed:    1.3s finished\n",
      "[Parallel(n_jobs=4)]: Done  20 out of  20 | elapsed:    2.7s finished\n"
     ]
    },
    {
     "name": "stdout",
     "output_type": "stream",
     "text": [
      "[CV]  warm_start=False, oob_score=False, min_samples_leaf=5, n_estimators=20, min_samples_split=2, max_features=auto, score=0.888482, total= 5.2min\n",
      "[CV] warm_start=True, oob_score=True, min_samples_leaf=5, n_estimators=30, min_samples_split=2, max_features=auto \n"
     ]
    },
    {
     "name": "stderr",
     "output_type": "stream",
     "text": [
      "[Parallel(n_jobs=-1)]: Done  30 out of  30 | elapsed:  7.4min finished\n",
      "[Parallel(n_jobs=4)]: Done  30 out of  30 | elapsed:    1.9s finished\n",
      "[Parallel(n_jobs=4)]: Done  30 out of  30 | elapsed:    4.1s finished\n"
     ]
    },
    {
     "name": "stdout",
     "output_type": "stream",
     "text": [
      "[CV]  warm_start=True, oob_score=True, min_samples_leaf=5, n_estimators=30, min_samples_split=2, max_features=auto, score=0.863292, total= 8.3min\n",
      "[CV] warm_start=True, oob_score=True, min_samples_leaf=5, n_estimators=30, min_samples_split=2, max_features=auto \n"
     ]
    },
    {
     "name": "stderr",
     "output_type": "stream",
     "text": [
      "[Parallel(n_jobs=-1)]: Done  30 out of  30 | elapsed:  7.5min finished\n",
      "[Parallel(n_jobs=4)]: Done  30 out of  30 | elapsed:    1.9s finished\n",
      "[Parallel(n_jobs=4)]: Done  30 out of  30 | elapsed:    4.1s finished\n"
     ]
    },
    {
     "name": "stdout",
     "output_type": "stream",
     "text": [
      "[CV]  warm_start=True, oob_score=True, min_samples_leaf=5, n_estimators=30, min_samples_split=2, max_features=auto, score=0.893239, total= 8.4min\n",
      "[CV] warm_start=True, oob_score=True, min_samples_leaf=5, n_estimators=30, min_samples_split=2, max_features=auto \n"
     ]
    },
    {
     "name": "stderr",
     "output_type": "stream",
     "text": [
      "[Parallel(n_jobs=-1)]: Done  30 out of  30 | elapsed:  7.7min finished\n",
      "[Parallel(n_jobs=4)]: Done  30 out of  30 | elapsed:    1.9s finished\n",
      "[Parallel(n_jobs=4)]: Done  30 out of  30 | elapsed:    4.1s finished\n"
     ]
    },
    {
     "name": "stdout",
     "output_type": "stream",
     "text": [
      "[CV]  warm_start=True, oob_score=True, min_samples_leaf=5, n_estimators=30, min_samples_split=2, max_features=auto, score=0.883930, total= 8.5min\n",
      "[CV] warm_start=False, oob_score=True, min_samples_leaf=5, n_estimators=30, min_samples_split=2, max_features=auto \n"
     ]
    },
    {
     "name": "stderr",
     "output_type": "stream",
     "text": [
      "[Parallel(n_jobs=-1)]: Done  30 out of  30 | elapsed:  7.7min finished\n",
      "[Parallel(n_jobs=4)]: Done  30 out of  30 | elapsed:    1.9s finished\n",
      "[Parallel(n_jobs=4)]: Done  30 out of  30 | elapsed:    4.0s finished\n"
     ]
    },
    {
     "name": "stdout",
     "output_type": "stream",
     "text": [
      "[CV]  warm_start=False, oob_score=True, min_samples_leaf=5, n_estimators=30, min_samples_split=2, max_features=auto, score=0.863918, total= 8.6min\n",
      "[CV] warm_start=False, oob_score=True, min_samples_leaf=5, n_estimators=30, min_samples_split=2, max_features=auto \n"
     ]
    },
    {
     "name": "stderr",
     "output_type": "stream",
     "text": [
      "[Parallel(n_jobs=-1)]: Done  30 out of  30 | elapsed:  7.7min finished\n",
      "[Parallel(n_jobs=4)]: Done  30 out of  30 | elapsed:    2.0s finished\n",
      "[Parallel(n_jobs=4)]: Done  30 out of  30 | elapsed:    4.1s finished\n"
     ]
    },
    {
     "name": "stdout",
     "output_type": "stream",
     "text": [
      "[CV]  warm_start=False, oob_score=True, min_samples_leaf=5, n_estimators=30, min_samples_split=2, max_features=auto, score=0.887451, total= 8.7min\n",
      "[CV] warm_start=False, oob_score=True, min_samples_leaf=5, n_estimators=30, min_samples_split=2, max_features=auto \n"
     ]
    },
    {
     "name": "stderr",
     "output_type": "stream",
     "text": [
      "[Parallel(n_jobs=-1)]: Done  30 out of  30 | elapsed:  7.7min finished\n",
      "[Parallel(n_jobs=4)]: Done  30 out of  30 | elapsed:    2.0s finished\n",
      "[Parallel(n_jobs=4)]: Done  30 out of  30 | elapsed:    4.3s finished\n"
     ]
    },
    {
     "name": "stdout",
     "output_type": "stream",
     "text": [
      "[CV]  warm_start=False, oob_score=True, min_samples_leaf=5, n_estimators=30, min_samples_split=2, max_features=auto, score=0.887528, total= 8.5min\n",
      "[CV] warm_start=True, oob_score=False, min_samples_leaf=5, n_estimators=30, min_samples_split=2, max_features=auto \n"
     ]
    },
    {
     "name": "stderr",
     "output_type": "stream",
     "text": [
      "[Parallel(n_jobs=-1)]: Done  30 out of  30 | elapsed:  7.6min finished\n",
      "[Parallel(n_jobs=4)]: Done  30 out of  30 | elapsed:    2.7s finished\n",
      "[Parallel(n_jobs=4)]: Done  30 out of  30 | elapsed:    4.0s finished\n"
     ]
    },
    {
     "name": "stdout",
     "output_type": "stream",
     "text": [
      "[CV]  warm_start=True, oob_score=False, min_samples_leaf=5, n_estimators=30, min_samples_split=2, max_features=auto, score=0.865813, total= 7.9min\n",
      "[CV] warm_start=True, oob_score=False, min_samples_leaf=5, n_estimators=30, min_samples_split=2, max_features=auto \n"
     ]
    },
    {
     "name": "stderr",
     "output_type": "stream",
     "text": [
      "[Parallel(n_jobs=-1)]: Done  30 out of  30 | elapsed:  7.4min finished\n",
      "[Parallel(n_jobs=4)]: Done  30 out of  30 | elapsed:    2.2s finished\n",
      "[Parallel(n_jobs=4)]: Done  30 out of  30 | elapsed:    4.5s finished\n"
     ]
    },
    {
     "name": "stdout",
     "output_type": "stream",
     "text": [
      "[CV]  warm_start=True, oob_score=False, min_samples_leaf=5, n_estimators=30, min_samples_split=2, max_features=auto, score=0.888749, total= 7.7min\n",
      "[CV] warm_start=True, oob_score=False, min_samples_leaf=5, n_estimators=30, min_samples_split=2, max_features=auto \n"
     ]
    },
    {
     "name": "stderr",
     "output_type": "stream",
     "text": [
      "[Parallel(n_jobs=-1)]: Done  30 out of  30 | elapsed:  7.6min finished\n",
      "[Parallel(n_jobs=4)]: Done  30 out of  30 | elapsed:    2.0s finished\n",
      "[Parallel(n_jobs=4)]: Done  30 out of  30 | elapsed:    4.0s finished\n"
     ]
    },
    {
     "name": "stdout",
     "output_type": "stream",
     "text": [
      "[CV]  warm_start=True, oob_score=False, min_samples_leaf=5, n_estimators=30, min_samples_split=2, max_features=auto, score=0.887562, total= 7.8min\n",
      "[CV] warm_start=False, oob_score=False, min_samples_leaf=5, n_estimators=30, min_samples_split=2, max_features=auto \n"
     ]
    },
    {
     "name": "stderr",
     "output_type": "stream",
     "text": [
      "[Parallel(n_jobs=-1)]: Done  30 out of  30 | elapsed:  7.6min finished\n",
      "[Parallel(n_jobs=4)]: Done  30 out of  30 | elapsed:    2.0s finished\n",
      "[Parallel(n_jobs=4)]: Done  30 out of  30 | elapsed:    3.9s finished\n"
     ]
    },
    {
     "name": "stdout",
     "output_type": "stream",
     "text": [
      "[CV]  warm_start=False, oob_score=False, min_samples_leaf=5, n_estimators=30, min_samples_split=2, max_features=auto, score=0.867231, total= 7.9min\n",
      "[CV] warm_start=False, oob_score=False, min_samples_leaf=5, n_estimators=30, min_samples_split=2, max_features=auto \n"
     ]
    },
    {
     "name": "stderr",
     "output_type": "stream",
     "text": [
      "[Parallel(n_jobs=-1)]: Done  30 out of  30 | elapsed:  7.6min finished\n",
      "[Parallel(n_jobs=4)]: Done  30 out of  30 | elapsed:    2.2s finished\n",
      "[Parallel(n_jobs=4)]: Done  30 out of  30 | elapsed:    4.4s finished\n"
     ]
    },
    {
     "name": "stdout",
     "output_type": "stream",
     "text": [
      "[CV]  warm_start=False, oob_score=False, min_samples_leaf=5, n_estimators=30, min_samples_split=2, max_features=auto, score=0.886891, total= 7.8min\n",
      "[CV] warm_start=False, oob_score=False, min_samples_leaf=5, n_estimators=30, min_samples_split=2, max_features=auto \n"
     ]
    },
    {
     "name": "stderr",
     "output_type": "stream",
     "text": [
      "[Parallel(n_jobs=-1)]: Done  30 out of  30 | elapsed:  7.6min finished\n",
      "[Parallel(n_jobs=4)]: Done  30 out of  30 | elapsed:    2.0s finished\n",
      "[Parallel(n_jobs=4)]: Done  30 out of  30 | elapsed:    4.1s finished\n"
     ]
    },
    {
     "name": "stdout",
     "output_type": "stream",
     "text": [
      "[CV]  warm_start=False, oob_score=False, min_samples_leaf=5, n_estimators=30, min_samples_split=2, max_features=auto, score=0.887554, total= 7.9min\n",
      "[CV] warm_start=True, oob_score=True, min_samples_leaf=5, n_estimators=40, min_samples_split=2, max_features=auto \n"
     ]
    },
    {
     "name": "stderr",
     "output_type": "stream",
     "text": [
      "[Parallel(n_jobs=-1)]: Done  40 out of  40 | elapsed: 10.1min finished\n",
      "[Parallel(n_jobs=4)]: Done  40 out of  40 | elapsed:    3.0s finished\n",
      "[Parallel(n_jobs=4)]: Done  40 out of  40 | elapsed:    5.4s finished\n"
     ]
    },
    {
     "name": "stdout",
     "output_type": "stream",
     "text": [
      "[CV]  warm_start=True, oob_score=True, min_samples_leaf=5, n_estimators=40, min_samples_split=2, max_features=auto, score=0.865522, total=11.2min\n",
      "[CV] warm_start=True, oob_score=True, min_samples_leaf=5, n_estimators=40, min_samples_split=2, max_features=auto \n"
     ]
    },
    {
     "name": "stderr",
     "output_type": "stream",
     "text": [
      "[Parallel(n_jobs=-1)]: Done  40 out of  40 | elapsed: 10.1min finished\n",
      "[Parallel(n_jobs=4)]: Done  40 out of  40 | elapsed:    2.7s finished\n",
      "[Parallel(n_jobs=4)]: Done  40 out of  40 | elapsed:    5.5s finished\n"
     ]
    },
    {
     "name": "stdout",
     "output_type": "stream",
     "text": [
      "[CV]  warm_start=True, oob_score=True, min_samples_leaf=5, n_estimators=40, min_samples_split=2, max_features=auto, score=0.893211, total=11.2min\n",
      "[CV] warm_start=True, oob_score=True, min_samples_leaf=5, n_estimators=40, min_samples_split=2, max_features=auto \n"
     ]
    },
    {
     "name": "stderr",
     "output_type": "stream",
     "text": [
      "[Parallel(n_jobs=-1)]: Done  40 out of  40 | elapsed: 10.1min finished\n",
      "[Parallel(n_jobs=4)]: Done  40 out of  40 | elapsed:    2.6s finished\n",
      "[Parallel(n_jobs=4)]: Done  40 out of  40 | elapsed:    5.4s finished\n"
     ]
    },
    {
     "name": "stdout",
     "output_type": "stream",
     "text": [
      "[CV]  warm_start=True, oob_score=True, min_samples_leaf=5, n_estimators=40, min_samples_split=2, max_features=auto, score=0.883872, total=11.1min\n",
      "[CV] warm_start=False, oob_score=True, min_samples_leaf=5, n_estimators=40, min_samples_split=2, max_features=auto \n"
     ]
    },
    {
     "name": "stderr",
     "output_type": "stream",
     "text": [
      "[Parallel(n_jobs=-1)]: Done  40 out of  40 | elapsed: 10.2min finished\n",
      "[Parallel(n_jobs=4)]: Done  40 out of  40 | elapsed:    3.2s finished\n",
      "[Parallel(n_jobs=4)]: Done  40 out of  40 | elapsed:    5.3s finished\n"
     ]
    },
    {
     "name": "stdout",
     "output_type": "stream",
     "text": [
      "[CV]  warm_start=False, oob_score=True, min_samples_leaf=5, n_estimators=40, min_samples_split=2, max_features=auto, score=0.866232, total=11.3min\n",
      "[CV] warm_start=False, oob_score=True, min_samples_leaf=5, n_estimators=40, min_samples_split=2, max_features=auto \n"
     ]
    },
    {
     "name": "stderr",
     "output_type": "stream",
     "text": [
      "[Parallel(n_jobs=-1)]: Done  40 out of  40 | elapsed: 10.1min finished\n",
      "[Parallel(n_jobs=4)]: Done  40 out of  40 | elapsed:    2.6s finished\n",
      "[Parallel(n_jobs=4)]: Done  40 out of  40 | elapsed:    5.3s finished\n"
     ]
    },
    {
     "name": "stdout",
     "output_type": "stream",
     "text": [
      "[CV]  warm_start=False, oob_score=True, min_samples_leaf=5, n_estimators=40, min_samples_split=2, max_features=auto, score=0.889796, total=11.2min\n",
      "[CV] warm_start=False, oob_score=True, min_samples_leaf=5, n_estimators=40, min_samples_split=2, max_features=auto \n"
     ]
    },
    {
     "name": "stderr",
     "output_type": "stream",
     "text": [
      "[Parallel(n_jobs=-1)]: Done  40 out of  40 | elapsed: 10.1min finished\n",
      "[Parallel(n_jobs=4)]: Done  40 out of  40 | elapsed:    2.6s finished\n",
      "[Parallel(n_jobs=4)]: Done  40 out of  40 | elapsed:    5.4s finished\n"
     ]
    },
    {
     "name": "stdout",
     "output_type": "stream",
     "text": [
      "[CV]  warm_start=False, oob_score=True, min_samples_leaf=5, n_estimators=40, min_samples_split=2, max_features=auto, score=0.885806, total=11.1min\n",
      "[CV] warm_start=True, oob_score=False, min_samples_leaf=5, n_estimators=40, min_samples_split=2, max_features=auto \n"
     ]
    },
    {
     "name": "stderr",
     "output_type": "stream",
     "text": [
      "[Parallel(n_jobs=-1)]: Done  40 out of  40 | elapsed:  9.9min finished\n",
      "[Parallel(n_jobs=4)]: Done  40 out of  40 | elapsed:    3.0s finished\n",
      "[Parallel(n_jobs=4)]: Done  40 out of  40 | elapsed:    5.3s finished\n"
     ]
    },
    {
     "name": "stdout",
     "output_type": "stream",
     "text": [
      "[CV]  warm_start=True, oob_score=False, min_samples_leaf=5, n_estimators=40, min_samples_split=2, max_features=auto, score=0.864713, total=10.2min\n",
      "[CV] warm_start=True, oob_score=False, min_samples_leaf=5, n_estimators=40, min_samples_split=2, max_features=auto \n"
     ]
    },
    {
     "name": "stderr",
     "output_type": "stream",
     "text": [
      "[Parallel(n_jobs=-1)]: Done  40 out of  40 | elapsed: 10.2min finished\n",
      "[Parallel(n_jobs=4)]: Done  40 out of  40 | elapsed:    3.1s finished\n",
      "[Parallel(n_jobs=4)]: Done  40 out of  40 | elapsed:    5.4s finished\n"
     ]
    },
    {
     "name": "stdout",
     "output_type": "stream",
     "text": [
      "[CV]  warm_start=True, oob_score=False, min_samples_leaf=5, n_estimators=40, min_samples_split=2, max_features=auto, score=0.895887, total=10.5min\n",
      "[CV] warm_start=True, oob_score=False, min_samples_leaf=5, n_estimators=40, min_samples_split=2, max_features=auto \n"
     ]
    },
    {
     "name": "stderr",
     "output_type": "stream",
     "text": [
      "[Parallel(n_jobs=-1)]: Done  40 out of  40 | elapsed: 10.2min finished\n",
      "[Parallel(n_jobs=4)]: Done  40 out of  40 | elapsed:    2.7s finished\n",
      "[Parallel(n_jobs=4)]: Done  40 out of  40 | elapsed:    5.5s finished\n"
     ]
    },
    {
     "name": "stdout",
     "output_type": "stream",
     "text": [
      "[CV]  warm_start=True, oob_score=False, min_samples_leaf=5, n_estimators=40, min_samples_split=2, max_features=auto, score=0.884311, total=10.4min\n",
      "[CV] warm_start=False, oob_score=False, min_samples_leaf=5, n_estimators=40, min_samples_split=2, max_features=auto \n"
     ]
    },
    {
     "name": "stderr",
     "output_type": "stream",
     "text": [
      "[Parallel(n_jobs=-1)]: Done  40 out of  40 | elapsed: 10.2min finished\n",
      "[Parallel(n_jobs=4)]: Done  40 out of  40 | elapsed:    2.7s finished\n",
      "[Parallel(n_jobs=4)]: Done  40 out of  40 | elapsed:    5.0s finished\n"
     ]
    },
    {
     "name": "stdout",
     "output_type": "stream",
     "text": [
      "[CV]  warm_start=False, oob_score=False, min_samples_leaf=5, n_estimators=40, min_samples_split=2, max_features=auto, score=0.863155, total=10.4min\n",
      "[CV] warm_start=False, oob_score=False, min_samples_leaf=5, n_estimators=40, min_samples_split=2, max_features=auto \n"
     ]
    },
    {
     "name": "stderr",
     "output_type": "stream",
     "text": [
      "[Parallel(n_jobs=-1)]: Done  40 out of  40 | elapsed: 10.2min finished\n",
      "[Parallel(n_jobs=4)]: Done  40 out of  40 | elapsed:    3.4s finished\n",
      "[Parallel(n_jobs=4)]: Done  40 out of  40 | elapsed:    5.7s finished\n"
     ]
    },
    {
     "name": "stdout",
     "output_type": "stream",
     "text": [
      "[CV]  warm_start=False, oob_score=False, min_samples_leaf=5, n_estimators=40, min_samples_split=2, max_features=auto, score=0.890022, total=10.4min\n",
      "[CV] warm_start=False, oob_score=False, min_samples_leaf=5, n_estimators=40, min_samples_split=2, max_features=auto \n"
     ]
    },
    {
     "name": "stderr",
     "output_type": "stream",
     "text": [
      "[Parallel(n_jobs=-1)]: Done  40 out of  40 | elapsed: 10.1min finished\n",
      "[Parallel(n_jobs=4)]: Done  40 out of  40 | elapsed:    2.7s finished\n",
      "[Parallel(n_jobs=4)]: Done  40 out of  40 | elapsed:    5.3s finished\n"
     ]
    },
    {
     "name": "stdout",
     "output_type": "stream",
     "text": [
      "[CV]  warm_start=False, oob_score=False, min_samples_leaf=5, n_estimators=40, min_samples_split=2, max_features=auto, score=0.884762, total=10.4min\n",
      "[CV] warm_start=True, oob_score=True, min_samples_leaf=5, n_estimators=50, min_samples_split=2, max_features=auto \n"
     ]
    },
    {
     "name": "stderr",
     "output_type": "stream",
     "text": [
      "[Parallel(n_jobs=-1)]: Done  42 tasks      | elapsed: 11.1min\n",
      "[Parallel(n_jobs=-1)]: Done  50 out of  50 | elapsed: 12.7min finished\n",
      "[Parallel(n_jobs=4)]: Done  42 tasks      | elapsed:    3.0s\n",
      "[Parallel(n_jobs=4)]: Done  50 out of  50 | elapsed:    3.5s finished\n",
      "[Parallel(n_jobs=4)]: Done  42 tasks      | elapsed:    5.8s\n",
      "[Parallel(n_jobs=4)]: Done  50 out of  50 | elapsed:    6.7s finished\n"
     ]
    },
    {
     "name": "stdout",
     "output_type": "stream",
     "text": [
      "[CV]  warm_start=True, oob_score=True, min_samples_leaf=5, n_estimators=50, min_samples_split=2, max_features=auto, score=0.863827, total=14.0min\n",
      "[CV] warm_start=True, oob_score=True, min_samples_leaf=5, n_estimators=50, min_samples_split=2, max_features=auto \n"
     ]
    },
    {
     "name": "stderr",
     "output_type": "stream",
     "text": [
      "[Parallel(n_jobs=-1)]: Done  42 tasks      | elapsed: 11.2min\n",
      "[Parallel(n_jobs=-1)]: Done  50 out of  50 | elapsed: 12.8min finished\n",
      "[Parallel(n_jobs=4)]: Done  42 tasks      | elapsed:    2.8s\n",
      "[Parallel(n_jobs=4)]: Done  50 out of  50 | elapsed:    3.2s finished\n",
      "[Parallel(n_jobs=4)]: Done  42 tasks      | elapsed:    5.9s\n",
      "[Parallel(n_jobs=4)]: Done  50 out of  50 | elapsed:    6.8s finished\n"
     ]
    },
    {
     "name": "stdout",
     "output_type": "stream",
     "text": [
      "[CV]  warm_start=True, oob_score=True, min_samples_leaf=5, n_estimators=50, min_samples_split=2, max_features=auto, score=0.890863, total=14.1min\n",
      "[CV] warm_start=True, oob_score=True, min_samples_leaf=5, n_estimators=50, min_samples_split=2, max_features=auto \n"
     ]
    },
    {
     "name": "stderr",
     "output_type": "stream",
     "text": [
      "[Parallel(n_jobs=-1)]: Done  42 tasks      | elapsed: 11.1min\n",
      "[Parallel(n_jobs=-1)]: Done  50 out of  50 | elapsed: 12.7min finished\n",
      "[Parallel(n_jobs=4)]: Done  42 tasks      | elapsed:    2.8s\n",
      "[Parallel(n_jobs=4)]: Done  50 out of  50 | elapsed:    3.2s finished\n",
      "[Parallel(n_jobs=4)]: Done  42 tasks      | elapsed:    5.8s\n",
      "[Parallel(n_jobs=4)]: Done  50 out of  50 | elapsed:    6.7s finished\n"
     ]
    },
    {
     "name": "stdout",
     "output_type": "stream",
     "text": [
      "[CV]  warm_start=True, oob_score=True, min_samples_leaf=5, n_estimators=50, min_samples_split=2, max_features=auto, score=0.889680, total=13.9min\n",
      "[CV] warm_start=False, oob_score=True, min_samples_leaf=5, n_estimators=50, min_samples_split=2, max_features=auto \n"
     ]
    },
    {
     "name": "stderr",
     "output_type": "stream",
     "text": [
      "[Parallel(n_jobs=-1)]: Done  42 tasks      | elapsed: 11.1min\n",
      "[Parallel(n_jobs=-1)]: Done  50 out of  50 | elapsed: 12.7min finished\n",
      "[Parallel(n_jobs=4)]: Done  42 tasks      | elapsed:    2.8s\n",
      "[Parallel(n_jobs=4)]: Done  50 out of  50 | elapsed:    3.2s finished\n",
      "[Parallel(n_jobs=4)]: Done  42 tasks      | elapsed:    5.9s\n",
      "[Parallel(n_jobs=4)]: Done  50 out of  50 | elapsed:    6.7s finished\n"
     ]
    },
    {
     "name": "stdout",
     "output_type": "stream",
     "text": [
      "[CV]  warm_start=False, oob_score=True, min_samples_leaf=5, n_estimators=50, min_samples_split=2, max_features=auto, score=0.865052, total=14.0min\n",
      "[CV] warm_start=False, oob_score=True, min_samples_leaf=5, n_estimators=50, min_samples_split=2, max_features=auto \n"
     ]
    },
    {
     "name": "stderr",
     "output_type": "stream",
     "text": [
      "[Parallel(n_jobs=-1)]: Done  42 tasks      | elapsed: 11.1min\n",
      "[Parallel(n_jobs=-1)]: Done  50 out of  50 | elapsed: 12.7min finished\n",
      "[Parallel(n_jobs=4)]: Done  42 tasks      | elapsed:    2.8s\n",
      "[Parallel(n_jobs=4)]: Done  50 out of  50 | elapsed:    3.3s finished\n",
      "[Parallel(n_jobs=4)]: Done  42 tasks      | elapsed:    5.8s\n",
      "[Parallel(n_jobs=4)]: Done  50 out of  50 | elapsed:    6.7s finished\n"
     ]
    },
    {
     "name": "stdout",
     "output_type": "stream",
     "text": [
      "[CV]  warm_start=False, oob_score=True, min_samples_leaf=5, n_estimators=50, min_samples_split=2, max_features=auto, score=0.890475, total=14.0min\n",
      "[CV] warm_start=False, oob_score=True, min_samples_leaf=5, n_estimators=50, min_samples_split=2, max_features=auto \n"
     ]
    },
    {
     "name": "stderr",
     "output_type": "stream",
     "text": [
      "[Parallel(n_jobs=-1)]: Done  42 tasks      | elapsed: 11.1min\n",
      "[Parallel(n_jobs=-1)]: Done  50 out of  50 | elapsed: 12.7min finished\n",
      "[Parallel(n_jobs=4)]: Done  42 tasks      | elapsed:    3.1s\n",
      "[Parallel(n_jobs=4)]: Done  50 out of  50 | elapsed:    3.6s finished\n",
      "[Parallel(n_jobs=4)]: Done  42 tasks      | elapsed:    5.8s\n",
      "[Parallel(n_jobs=4)]: Done  50 out of  50 | elapsed:    6.7s finished\n"
     ]
    },
    {
     "name": "stdout",
     "output_type": "stream",
     "text": [
      "[CV]  warm_start=False, oob_score=True, min_samples_leaf=5, n_estimators=50, min_samples_split=2, max_features=auto, score=0.885233, total=13.9min\n",
      "[CV] warm_start=True, oob_score=False, min_samples_leaf=5, n_estimators=50, min_samples_split=2, max_features=auto \n"
     ]
    },
    {
     "name": "stderr",
     "output_type": "stream",
     "text": [
      "[Parallel(n_jobs=-1)]: Done  42 tasks      | elapsed: 11.0min\n",
      "[Parallel(n_jobs=-1)]: Done  50 out of  50 | elapsed: 12.6min finished\n",
      "[Parallel(n_jobs=4)]: Done  42 tasks      | elapsed:    3.0s\n",
      "[Parallel(n_jobs=4)]: Done  50 out of  50 | elapsed:    3.4s finished\n",
      "[Parallel(n_jobs=4)]: Done  42 tasks      | elapsed:    5.8s\n",
      "[Parallel(n_jobs=4)]: Done  50 out of  50 | elapsed:    6.8s finished\n"
     ]
    },
    {
     "name": "stdout",
     "output_type": "stream",
     "text": [
      "[CV]  warm_start=True, oob_score=False, min_samples_leaf=5, n_estimators=50, min_samples_split=2, max_features=auto, score=0.865612, total=12.9min\n",
      "[CV] warm_start=True, oob_score=False, min_samples_leaf=5, n_estimators=50, min_samples_split=2, max_features=auto \n"
     ]
    },
    {
     "name": "stderr",
     "output_type": "stream",
     "text": [
      "[Parallel(n_jobs=-1)]: Done  42 tasks      | elapsed: 11.1min\n",
      "[Parallel(n_jobs=-1)]: Done  50 out of  50 | elapsed: 12.7min finished\n",
      "[Parallel(n_jobs=4)]: Done  42 tasks      | elapsed:    3.2s\n",
      "[Parallel(n_jobs=4)]: Done  50 out of  50 | elapsed:    3.7s finished\n",
      "[Parallel(n_jobs=4)]: Done  42 tasks      | elapsed:    6.1s\n",
      "[Parallel(n_jobs=4)]: Done  50 out of  50 | elapsed:    7.1s finished\n"
     ]
    },
    {
     "name": "stdout",
     "output_type": "stream",
     "text": [
      "[CV]  warm_start=True, oob_score=False, min_samples_leaf=5, n_estimators=50, min_samples_split=2, max_features=auto, score=0.889790, total=13.0min\n",
      "[CV] warm_start=True, oob_score=False, min_samples_leaf=5, n_estimators=50, min_samples_split=2, max_features=auto \n"
     ]
    },
    {
     "name": "stderr",
     "output_type": "stream",
     "text": [
      "[Parallel(n_jobs=-1)]: Done  42 tasks      | elapsed: 11.1min\n",
      "[Parallel(n_jobs=-1)]: Done  50 out of  50 | elapsed: 12.7min finished\n",
      "[Parallel(n_jobs=4)]: Done  42 tasks      | elapsed:    3.5s\n",
      "[Parallel(n_jobs=4)]: Done  50 out of  50 | elapsed:    4.0s finished\n",
      "[Parallel(n_jobs=4)]: Done  42 tasks      | elapsed:    6.3s\n",
      "[Parallel(n_jobs=4)]: Done  50 out of  50 | elapsed:    7.4s finished\n"
     ]
    },
    {
     "name": "stdout",
     "output_type": "stream",
     "text": [
      "[CV]  warm_start=True, oob_score=False, min_samples_leaf=5, n_estimators=50, min_samples_split=2, max_features=auto, score=0.888641, total=13.0min\n",
      "[CV] warm_start=False, oob_score=False, min_samples_leaf=5, n_estimators=50, min_samples_split=2, max_features=auto \n"
     ]
    },
    {
     "name": "stderr",
     "output_type": "stream",
     "text": [
      "[Parallel(n_jobs=-1)]: Done  42 tasks      | elapsed: 11.0min\n",
      "[Parallel(n_jobs=-1)]: Done  50 out of  50 | elapsed: 12.6min finished\n",
      "[Parallel(n_jobs=4)]: Done  42 tasks      | elapsed:    3.1s\n",
      "[Parallel(n_jobs=4)]: Done  50 out of  50 | elapsed:    3.6s finished\n",
      "[Parallel(n_jobs=4)]: Done  42 tasks      | elapsed:    5.8s\n",
      "[Parallel(n_jobs=4)]: Done  50 out of  50 | elapsed:    6.6s finished\n"
     ]
    },
    {
     "name": "stdout",
     "output_type": "stream",
     "text": [
      "[CV]  warm_start=False, oob_score=False, min_samples_leaf=5, n_estimators=50, min_samples_split=2, max_features=auto, score=0.864191, total=12.9min\n",
      "[CV] warm_start=False, oob_score=False, min_samples_leaf=5, n_estimators=50, min_samples_split=2, max_features=auto \n"
     ]
    },
    {
     "name": "stderr",
     "output_type": "stream",
     "text": [
      "[Parallel(n_jobs=-1)]: Done  42 tasks      | elapsed: 11.1min\n",
      "[Parallel(n_jobs=-1)]: Done  50 out of  50 | elapsed: 12.7min finished\n",
      "[Parallel(n_jobs=4)]: Done  42 tasks      | elapsed:    3.2s\n",
      "[Parallel(n_jobs=4)]: Done  50 out of  50 | elapsed:    3.6s finished\n",
      "[Parallel(n_jobs=4)]: Done  42 tasks      | elapsed:    6.1s\n",
      "[Parallel(n_jobs=4)]: Done  50 out of  50 | elapsed:    7.0s finished\n"
     ]
    },
    {
     "name": "stdout",
     "output_type": "stream",
     "text": [
      "[CV]  warm_start=False, oob_score=False, min_samples_leaf=5, n_estimators=50, min_samples_split=2, max_features=auto, score=0.890441, total=13.0min\n",
      "[CV] warm_start=False, oob_score=False, min_samples_leaf=5, n_estimators=50, min_samples_split=2, max_features=auto \n"
     ]
    },
    {
     "name": "stderr",
     "output_type": "stream",
     "text": [
      "[Parallel(n_jobs=-1)]: Done  42 tasks      | elapsed: 11.1min\n",
      "[Parallel(n_jobs=-1)]: Done  50 out of  50 | elapsed: 12.7min finished\n",
      "[Parallel(n_jobs=4)]: Done  42 tasks      | elapsed:    2.9s\n",
      "[Parallel(n_jobs=4)]: Done  50 out of  50 | elapsed:    3.3s finished\n",
      "[Parallel(n_jobs=4)]: Done  42 tasks      | elapsed:    6.0s\n",
      "[Parallel(n_jobs=4)]: Done  50 out of  50 | elapsed:    6.8s finished\n"
     ]
    },
    {
     "name": "stdout",
     "output_type": "stream",
     "text": [
      "[CV]  warm_start=False, oob_score=False, min_samples_leaf=5, n_estimators=50, min_samples_split=2, max_features=auto, score=0.885492, total=13.0min\n",
      "[CV] warm_start=True, oob_score=True, min_samples_leaf=5, n_estimators=60, min_samples_split=2, max_features=auto \n"
     ]
    },
    {
     "name": "stderr",
     "output_type": "stream",
     "text": [
      "[Parallel(n_jobs=-1)]: Done  42 tasks      | elapsed: 11.2min\n",
      "[Parallel(n_jobs=-1)]: Done  60 out of  60 | elapsed: 15.2min finished\n",
      "[Parallel(n_jobs=4)]: Done  42 tasks      | elapsed:    3.3s\n",
      "[Parallel(n_jobs=4)]: Done  60 out of  60 | elapsed:    4.4s finished\n",
      "[Parallel(n_jobs=4)]: Done  42 tasks      | elapsed:    6.1s\n",
      "[Parallel(n_jobs=4)]: Done  60 out of  60 | elapsed:    8.3s finished\n"
     ]
    },
    {
     "name": "stdout",
     "output_type": "stream",
     "text": [
      "[CV]  warm_start=True, oob_score=True, min_samples_leaf=5, n_estimators=60, min_samples_split=2, max_features=auto, score=0.864645, total=16.7min\n",
      "[CV] warm_start=True, oob_score=True, min_samples_leaf=5, n_estimators=60, min_samples_split=2, max_features=auto \n"
     ]
    },
    {
     "name": "stderr",
     "output_type": "stream",
     "text": [
      "[Parallel(n_jobs=-1)]: Done  42 tasks      | elapsed: 11.0min\n",
      "[Parallel(n_jobs=-1)]: Done  60 out of  60 | elapsed: 15.2min finished\n",
      "[Parallel(n_jobs=4)]: Done  42 tasks      | elapsed:    3.1s\n",
      "[Parallel(n_jobs=4)]: Done  60 out of  60 | elapsed:    4.3s finished\n",
      "[Parallel(n_jobs=4)]: Done  42 tasks      | elapsed:    5.8s\n",
      "[Parallel(n_jobs=4)]: Done  60 out of  60 | elapsed:    8.0s finished\n"
     ]
    },
    {
     "name": "stdout",
     "output_type": "stream",
     "text": [
      "[CV]  warm_start=True, oob_score=True, min_samples_leaf=5, n_estimators=60, min_samples_split=2, max_features=auto, score=0.888853, total=16.7min\n",
      "[CV] warm_start=True, oob_score=True, min_samples_leaf=5, n_estimators=60, min_samples_split=2, max_features=auto \n"
     ]
    },
    {
     "name": "stderr",
     "output_type": "stream",
     "text": [
      "[Parallel(n_jobs=-1)]: Done  42 tasks      | elapsed: 11.1min\n",
      "[Parallel(n_jobs=-1)]: Done  60 out of  60 | elapsed: 15.1min finished\n",
      "[Parallel(n_jobs=4)]: Done  42 tasks      | elapsed:    2.8s\n",
      "[Parallel(n_jobs=4)]: Done  60 out of  60 | elapsed:    3.9s finished\n",
      "[Parallel(n_jobs=4)]: Done  42 tasks      | elapsed:    5.8s\n",
      "[Parallel(n_jobs=4)]: Done  60 out of  60 | elapsed:    8.0s finished\n"
     ]
    },
    {
     "name": "stdout",
     "output_type": "stream",
     "text": [
      "[CV]  warm_start=True, oob_score=True, min_samples_leaf=5, n_estimators=60, min_samples_split=2, max_features=auto, score=0.888995, total=16.6min\n",
      "[CV] warm_start=False, oob_score=True, min_samples_leaf=5, n_estimators=60, min_samples_split=2, max_features=auto \n"
     ]
    },
    {
     "name": "stderr",
     "output_type": "stream",
     "text": [
      "[Parallel(n_jobs=-1)]: Done  42 tasks      | elapsed: 11.1min\n",
      "[Parallel(n_jobs=-1)]: Done  60 out of  60 | elapsed: 15.2min finished\n",
      "[Parallel(n_jobs=4)]: Done  42 tasks      | elapsed:    2.8s\n",
      "[Parallel(n_jobs=4)]: Done  60 out of  60 | elapsed:    3.9s finished\n",
      "[Parallel(n_jobs=4)]: Done  42 tasks      | elapsed:    5.9s\n",
      "[Parallel(n_jobs=4)]: Done  60 out of  60 | elapsed:    8.2s finished\n"
     ]
    },
    {
     "name": "stdout",
     "output_type": "stream",
     "text": [
      "[CV]  warm_start=False, oob_score=True, min_samples_leaf=5, n_estimators=60, min_samples_split=2, max_features=auto, score=0.867166, total=16.8min\n",
      "[CV] warm_start=False, oob_score=True, min_samples_leaf=5, n_estimators=60, min_samples_split=2, max_features=auto \n"
     ]
    },
    {
     "name": "stderr",
     "output_type": "stream",
     "text": [
      "[Parallel(n_jobs=-1)]: Done  42 tasks      | elapsed: 11.1min\n",
      "[Parallel(n_jobs=-1)]: Done  60 out of  60 | elapsed: 15.3min finished\n",
      "[Parallel(n_jobs=4)]: Done  42 tasks      | elapsed:    2.9s\n",
      "[Parallel(n_jobs=4)]: Done  60 out of  60 | elapsed:    3.9s finished\n",
      "[Parallel(n_jobs=4)]: Done  42 tasks      | elapsed:    5.8s\n",
      "[Parallel(n_jobs=4)]: Done  60 out of  60 | elapsed:    8.1s finished\n"
     ]
    },
    {
     "name": "stdout",
     "output_type": "stream",
     "text": [
      "[CV]  warm_start=False, oob_score=True, min_samples_leaf=5, n_estimators=60, min_samples_split=2, max_features=auto, score=0.889449, total=16.8min\n",
      "[CV] warm_start=False, oob_score=True, min_samples_leaf=5, n_estimators=60, min_samples_split=2, max_features=auto \n"
     ]
    },
    {
     "name": "stderr",
     "output_type": "stream",
     "text": [
      "[Parallel(n_jobs=-1)]: Done  42 tasks      | elapsed: 11.2min\n",
      "[Parallel(n_jobs=-1)]: Done  60 out of  60 | elapsed: 15.3min finished\n",
      "[Parallel(n_jobs=4)]: Done  42 tasks      | elapsed:    2.8s\n",
      "[Parallel(n_jobs=4)]: Done  60 out of  60 | elapsed:    3.9s finished\n",
      "[Parallel(n_jobs=4)]: Done  42 tasks      | elapsed:    5.8s\n",
      "[Parallel(n_jobs=4)]: Done  60 out of  60 | elapsed:    8.1s finished\n"
     ]
    },
    {
     "name": "stdout",
     "output_type": "stream",
     "text": [
      "[CV]  warm_start=False, oob_score=True, min_samples_leaf=5, n_estimators=60, min_samples_split=2, max_features=auto, score=0.886221, total=16.7min\n",
      "[CV] warm_start=True, oob_score=False, min_samples_leaf=5, n_estimators=60, min_samples_split=2, max_features=auto \n"
     ]
    },
    {
     "name": "stderr",
     "output_type": "stream",
     "text": [
      "[Parallel(n_jobs=-1)]: Done  42 tasks      | elapsed: 11.0min\n",
      "[Parallel(n_jobs=-1)]: Done  60 out of  60 | elapsed: 15.1min finished\n",
      "[Parallel(n_jobs=4)]: Done  42 tasks      | elapsed:    3.0s\n",
      "[Parallel(n_jobs=4)]: Done  60 out of  60 | elapsed:    4.1s finished\n",
      "[Parallel(n_jobs=4)]: Done  42 tasks      | elapsed:    5.9s\n",
      "[Parallel(n_jobs=4)]: Done  60 out of  60 | elapsed:    8.2s finished\n"
     ]
    },
    {
     "name": "stdout",
     "output_type": "stream",
     "text": [
      "[CV]  warm_start=True, oob_score=False, min_samples_leaf=5, n_estimators=60, min_samples_split=2, max_features=auto, score=0.863796, total=15.4min\n",
      "[CV] warm_start=True, oob_score=False, min_samples_leaf=5, n_estimators=60, min_samples_split=2, max_features=auto \n"
     ]
    },
    {
     "name": "stderr",
     "output_type": "stream",
     "text": [
      "[Parallel(n_jobs=-1)]: Done  42 tasks      | elapsed: 11.2min\n",
      "[Parallel(n_jobs=-1)]: Done  60 out of  60 | elapsed: 15.3min finished\n",
      "[Parallel(n_jobs=4)]: Done  42 tasks      | elapsed:    2.9s\n",
      "[Parallel(n_jobs=4)]: Done  60 out of  60 | elapsed:    4.0s finished\n",
      "[Parallel(n_jobs=4)]: Done  42 tasks      | elapsed:    5.9s\n",
      "[Parallel(n_jobs=4)]: Done  60 out of  60 | elapsed:    8.2s finished\n"
     ]
    },
    {
     "name": "stdout",
     "output_type": "stream",
     "text": [
      "[CV]  warm_start=True, oob_score=False, min_samples_leaf=5, n_estimators=60, min_samples_split=2, max_features=auto, score=0.889744, total=15.6min\n",
      "[CV] warm_start=True, oob_score=False, min_samples_leaf=5, n_estimators=60, min_samples_split=2, max_features=auto \n"
     ]
    },
    {
     "name": "stderr",
     "output_type": "stream",
     "text": [
      "[Parallel(n_jobs=-1)]: Done  42 tasks      | elapsed: 10.9min\n",
      "[Parallel(n_jobs=-1)]: Done  60 out of  60 | elapsed: 15.1min finished\n",
      "[Parallel(n_jobs=4)]: Done  42 tasks      | elapsed:    3.0s\n",
      "[Parallel(n_jobs=4)]: Done  60 out of  60 | elapsed:    4.1s finished\n",
      "[Parallel(n_jobs=4)]: Done  42 tasks      | elapsed:    5.8s\n",
      "[Parallel(n_jobs=4)]: Done  60 out of  60 | elapsed:    8.1s finished\n"
     ]
    },
    {
     "name": "stdout",
     "output_type": "stream",
     "text": [
      "[CV]  warm_start=True, oob_score=False, min_samples_leaf=5, n_estimators=60, min_samples_split=2, max_features=auto, score=0.891909, total=15.4min\n",
      "[CV] warm_start=False, oob_score=False, min_samples_leaf=5, n_estimators=60, min_samples_split=2, max_features=auto \n"
     ]
    },
    {
     "name": "stderr",
     "output_type": "stream",
     "text": [
      "[Parallel(n_jobs=-1)]: Done  42 tasks      | elapsed: 11.2min\n",
      "[Parallel(n_jobs=-1)]: Done  60 out of  60 | elapsed: 15.3min finished\n",
      "[Parallel(n_jobs=4)]: Done  42 tasks      | elapsed:    3.3s\n",
      "[Parallel(n_jobs=4)]: Done  60 out of  60 | elapsed:    4.3s finished\n",
      "[Parallel(n_jobs=4)]: Done  42 tasks      | elapsed:    6.1s\n",
      "[Parallel(n_jobs=4)]: Done  60 out of  60 | elapsed:    8.4s finished\n"
     ]
    },
    {
     "name": "stdout",
     "output_type": "stream",
     "text": [
      "[CV]  warm_start=False, oob_score=False, min_samples_leaf=5, n_estimators=60, min_samples_split=2, max_features=auto, score=0.864250, total=15.6min\n",
      "[CV] warm_start=False, oob_score=False, min_samples_leaf=5, n_estimators=60, min_samples_split=2, max_features=auto \n"
     ]
    },
    {
     "name": "stderr",
     "output_type": "stream",
     "text": [
      "[Parallel(n_jobs=-1)]: Done  42 tasks      | elapsed: 11.2min\n",
      "[Parallel(n_jobs=-1)]: Done  60 out of  60 | elapsed: 15.3min finished\n",
      "[Parallel(n_jobs=4)]: Done  42 tasks      | elapsed:    2.9s\n",
      "[Parallel(n_jobs=4)]: Done  60 out of  60 | elapsed:    3.9s finished\n",
      "[Parallel(n_jobs=4)]: Done  42 tasks      | elapsed:    6.0s\n",
      "[Parallel(n_jobs=4)]: Done  60 out of  60 | elapsed:    8.2s finished\n"
     ]
    },
    {
     "name": "stdout",
     "output_type": "stream",
     "text": [
      "[CV]  warm_start=False, oob_score=False, min_samples_leaf=5, n_estimators=60, min_samples_split=2, max_features=auto, score=0.889794, total=15.6min\n",
      "[CV] warm_start=False, oob_score=False, min_samples_leaf=5, n_estimators=60, min_samples_split=2, max_features=auto \n"
     ]
    },
    {
     "name": "stderr",
     "output_type": "stream",
     "text": [
      "[Parallel(n_jobs=-1)]: Done  42 tasks      | elapsed: 13.7min\n",
      "[Parallel(n_jobs=-1)]: Done  60 out of  60 | elapsed: 19.9min finished\n",
      "[Parallel(n_jobs=4)]: Done  42 tasks      | elapsed:    3.8s\n",
      "[Parallel(n_jobs=4)]: Done  60 out of  60 | elapsed:    5.9s finished\n",
      "[Parallel(n_jobs=4)]: Done  42 tasks      | elapsed:    6.6s\n",
      "[Parallel(n_jobs=4)]: Done  60 out of  60 | elapsed:    9.2s finished\n"
     ]
    },
    {
     "name": "stdout",
     "output_type": "stream",
     "text": [
      "[CV]  warm_start=False, oob_score=False, min_samples_leaf=5, n_estimators=60, min_samples_split=2, max_features=auto, score=0.886106, total=20.3min\n",
      "[CV] warm_start=True, oob_score=True, min_samples_leaf=5, n_estimators=70, min_samples_split=2, max_features=auto \n"
     ]
    },
    {
     "name": "stderr",
     "output_type": "stream",
     "text": [
      "[Parallel(n_jobs=-1)]: Done  42 tasks      | elapsed: 15.4min\n",
      "[Parallel(n_jobs=-1)]: Done  70 out of  70 | elapsed: 24.4min finished\n",
      "[Parallel(n_jobs=4)]: Done  42 tasks      | elapsed:    4.0s\n",
      "[Parallel(n_jobs=4)]: Done  70 out of  70 | elapsed:    6.0s finished\n",
      "[Parallel(n_jobs=4)]: Done  42 tasks      | elapsed:    7.9s\n",
      "[Parallel(n_jobs=4)]: Done  70 out of  70 | elapsed:   12.6s finished\n"
     ]
    },
    {
     "name": "stdout",
     "output_type": "stream",
     "text": [
      "[CV]  warm_start=True, oob_score=True, min_samples_leaf=5, n_estimators=70, min_samples_split=2, max_features=auto, score=0.865429, total=27.4min\n",
      "[CV] warm_start=True, oob_score=True, min_samples_leaf=5, n_estimators=70, min_samples_split=2, max_features=auto \n"
     ]
    },
    {
     "name": "stderr",
     "output_type": "stream",
     "text": [
      "[Parallel(n_jobs=-1)]: Done  42 tasks      | elapsed: 12.9min\n",
      "[Parallel(n_jobs=-1)]: Done  70 out of  70 | elapsed: 20.8min finished\n",
      "[Parallel(n_jobs=4)]: Done  42 tasks      | elapsed:    3.9s\n",
      "[Parallel(n_jobs=4)]: Done  70 out of  70 | elapsed:    5.9s finished\n",
      "[Parallel(n_jobs=4)]: Done  42 tasks      | elapsed:    8.8s\n",
      "[Parallel(n_jobs=4)]: Done  70 out of  70 | elapsed:   14.0s finished\n"
     ]
    },
    {
     "name": "stdout",
     "output_type": "stream",
     "text": [
      "[CV]  warm_start=True, oob_score=True, min_samples_leaf=5, n_estimators=70, min_samples_split=2, max_features=auto, score=0.892356, total=23.4min\n",
      "[CV] warm_start=True, oob_score=True, min_samples_leaf=5, n_estimators=70, min_samples_split=2, max_features=auto \n"
     ]
    },
    {
     "name": "stderr",
     "output_type": "stream",
     "text": [
      "[Parallel(n_jobs=-1)]: Done  42 tasks      | elapsed: 14.8min\n",
      "[Parallel(n_jobs=-1)]: Done  70 out of  70 | elapsed: 23.0min finished\n",
      "[Parallel(n_jobs=4)]: Done  42 tasks      | elapsed:    3.9s\n",
      "[Parallel(n_jobs=4)]: Done  70 out of  70 | elapsed:    6.0s finished\n",
      "[Parallel(n_jobs=4)]: Done  42 tasks      | elapsed:    6.9s\n",
      "[Parallel(n_jobs=4)]: Done  70 out of  70 | elapsed:   10.9s finished\n"
     ]
    },
    {
     "name": "stdout",
     "output_type": "stream",
     "text": [
      "[CV]  warm_start=True, oob_score=True, min_samples_leaf=5, n_estimators=70, min_samples_split=2, max_features=auto, score=0.886674, total=25.0min\n",
      "[CV] warm_start=False, oob_score=True, min_samples_leaf=5, n_estimators=70, min_samples_split=2, max_features=auto \n"
     ]
    },
    {
     "name": "stderr",
     "output_type": "stream",
     "text": [
      "[Parallel(n_jobs=-1)]: Done  42 tasks      | elapsed: 13.2min\n",
      "[Parallel(n_jobs=-1)]: Done  70 out of  70 | elapsed: 20.8min finished\n",
      "[Parallel(n_jobs=4)]: Done  42 tasks      | elapsed:    3.3s\n",
      "[Parallel(n_jobs=4)]: Done  70 out of  70 | elapsed:    5.1s finished\n",
      "[Parallel(n_jobs=4)]: Done  42 tasks      | elapsed:    5.9s\n",
      "[Parallel(n_jobs=4)]: Done  70 out of  70 | elapsed:    9.5s finished\n"
     ]
    },
    {
     "name": "stdout",
     "output_type": "stream",
     "text": [
      "[CV]  warm_start=False, oob_score=True, min_samples_leaf=5, n_estimators=70, min_samples_split=2, max_features=auto, score=0.864810, total=22.7min\n",
      "[CV] warm_start=False, oob_score=True, min_samples_leaf=5, n_estimators=70, min_samples_split=2, max_features=auto \n"
     ]
    },
    {
     "name": "stderr",
     "output_type": "stream",
     "text": [
      "[Parallel(n_jobs=-1)]: Done  42 tasks      | elapsed: 11.3min\n",
      "[Parallel(n_jobs=-1)]: Done  70 out of  70 | elapsed: 18.7min finished\n",
      "[Parallel(n_jobs=4)]: Done  42 tasks      | elapsed:    3.7s\n",
      "[Parallel(n_jobs=4)]: Done  70 out of  70 | elapsed:    5.6s finished\n",
      "[Parallel(n_jobs=4)]: Done  42 tasks      | elapsed:    7.2s\n",
      "[Parallel(n_jobs=4)]: Done  70 out of  70 | elapsed:   10.3s finished\n"
     ]
    },
    {
     "name": "stdout",
     "output_type": "stream",
     "text": [
      "[CV]  warm_start=False, oob_score=True, min_samples_leaf=5, n_estimators=70, min_samples_split=2, max_features=auto, score=0.889631, total=20.8min\n",
      "[CV] warm_start=False, oob_score=True, min_samples_leaf=5, n_estimators=70, min_samples_split=2, max_features=auto \n"
     ]
    },
    {
     "name": "stderr",
     "output_type": "stream",
     "text": [
      "[Parallel(n_jobs=-1)]: Done  42 tasks      | elapsed: 11.5min\n",
      "[Parallel(n_jobs=-1)]: Done  70 out of  70 | elapsed: 19.1min finished\n",
      "[Parallel(n_jobs=4)]: Done  42 tasks      | elapsed:    3.7s\n",
      "[Parallel(n_jobs=4)]: Done  70 out of  70 | elapsed:    5.5s finished\n",
      "[Parallel(n_jobs=4)]: Done  42 tasks      | elapsed:    7.1s\n",
      "[Parallel(n_jobs=4)]: Done  70 out of  70 | elapsed:   11.2s finished\n"
     ]
    },
    {
     "name": "stdout",
     "output_type": "stream",
     "text": [
      "[CV]  warm_start=False, oob_score=True, min_samples_leaf=5, n_estimators=70, min_samples_split=2, max_features=auto, score=0.887831, total=21.3min\n",
      "[CV] warm_start=True, oob_score=False, min_samples_leaf=5, n_estimators=70, min_samples_split=2, max_features=auto \n"
     ]
    },
    {
     "name": "stderr",
     "output_type": "stream",
     "text": [
      "[Parallel(n_jobs=-1)]: Done  42 tasks      | elapsed: 12.2min\n",
      "[Parallel(n_jobs=-1)]: Done  70 out of  70 | elapsed: 19.6min finished\n",
      "[Parallel(n_jobs=4)]: Done  42 tasks      | elapsed:    3.7s\n",
      "[Parallel(n_jobs=4)]: Done  70 out of  70 | elapsed:    5.5s finished\n",
      "[Parallel(n_jobs=4)]: Done  42 tasks      | elapsed:    6.5s\n",
      "[Parallel(n_jobs=4)]: Done  70 out of  70 | elapsed:   10.8s finished\n"
     ]
    },
    {
     "name": "stdout",
     "output_type": "stream",
     "text": [
      "[CV]  warm_start=True, oob_score=False, min_samples_leaf=5, n_estimators=70, min_samples_split=2, max_features=auto, score=0.866767, total=20.0min\n",
      "[CV] warm_start=True, oob_score=False, min_samples_leaf=5, n_estimators=70, min_samples_split=2, max_features=auto \n"
     ]
    },
    {
     "name": "stderr",
     "output_type": "stream",
     "text": [
      "[Parallel(n_jobs=-1)]: Done  42 tasks      | elapsed: 14.7min\n",
      "[Parallel(n_jobs=-1)]: Done  70 out of  70 | elapsed: 22.9min finished\n",
      "[Parallel(n_jobs=4)]: Done  42 tasks      | elapsed:    3.5s\n",
      "[Parallel(n_jobs=4)]: Done  70 out of  70 | elapsed:    6.1s finished\n",
      "[Parallel(n_jobs=4)]: Done  42 tasks      | elapsed:    6.6s\n",
      "[Parallel(n_jobs=4)]: Done  70 out of  70 | elapsed:   10.5s finished\n"
     ]
    },
    {
     "name": "stdout",
     "output_type": "stream",
     "text": [
      "[CV]  warm_start=True, oob_score=False, min_samples_leaf=5, n_estimators=70, min_samples_split=2, max_features=auto, score=0.890570, total=23.4min\n",
      "[CV] warm_start=True, oob_score=False, min_samples_leaf=5, n_estimators=70, min_samples_split=2, max_features=auto \n"
     ]
    },
    {
     "name": "stderr",
     "output_type": "stream",
     "text": [
      "[Parallel(n_jobs=-1)]: Done  42 tasks      | elapsed: 14.0min\n",
      "[Parallel(n_jobs=-1)]: Done  70 out of  70 | elapsed: 22.3min finished\n",
      "[Parallel(n_jobs=4)]: Done  42 tasks      | elapsed:    4.0s\n",
      "[Parallel(n_jobs=4)]: Done  70 out of  70 | elapsed:    6.5s finished\n",
      "[Parallel(n_jobs=4)]: Done  42 tasks      | elapsed:    8.1s\n",
      "[Parallel(n_jobs=4)]: Done  70 out of  70 | elapsed:   12.0s finished\n"
     ]
    },
    {
     "name": "stdout",
     "output_type": "stream",
     "text": [
      "[CV]  warm_start=True, oob_score=False, min_samples_leaf=5, n_estimators=70, min_samples_split=2, max_features=auto, score=0.886879, total=22.7min\n",
      "[CV] warm_start=False, oob_score=False, min_samples_leaf=5, n_estimators=70, min_samples_split=2, max_features=auto \n"
     ]
    },
    {
     "name": "stderr",
     "output_type": "stream",
     "text": [
      "[Parallel(n_jobs=-1)]: Done  42 tasks      | elapsed: 13.4min\n",
      "[Parallel(n_jobs=-1)]: Done  70 out of  70 | elapsed: 20.8min finished\n",
      "[Parallel(n_jobs=4)]: Done  42 tasks      | elapsed:    3.5s\n",
      "[Parallel(n_jobs=4)]: Done  70 out of  70 | elapsed:    5.5s finished\n",
      "[Parallel(n_jobs=4)]: Done  42 tasks      | elapsed:    6.8s\n",
      "[Parallel(n_jobs=4)]: Done  70 out of  70 | elapsed:   10.7s finished\n"
     ]
    },
    {
     "name": "stdout",
     "output_type": "stream",
     "text": [
      "[CV]  warm_start=False, oob_score=False, min_samples_leaf=5, n_estimators=70, min_samples_split=2, max_features=auto, score=0.866610, total=21.2min\n",
      "[CV] warm_start=False, oob_score=False, min_samples_leaf=5, n_estimators=70, min_samples_split=2, max_features=auto \n"
     ]
    },
    {
     "name": "stderr",
     "output_type": "stream",
     "text": [
      "[Parallel(n_jobs=-1)]: Done  42 tasks      | elapsed: 11.3min\n",
      "[Parallel(n_jobs=-1)]: Done  70 out of  70 | elapsed: 18.1min finished\n",
      "[Parallel(n_jobs=4)]: Done  42 tasks      | elapsed:    3.6s\n",
      "[Parallel(n_jobs=4)]: Done  70 out of  70 | elapsed:    5.7s finished\n",
      "[Parallel(n_jobs=4)]: Done  42 tasks      | elapsed:    6.0s\n",
      "[Parallel(n_jobs=4)]: Done  70 out of  70 | elapsed:    9.6s finished\n"
     ]
    },
    {
     "name": "stdout",
     "output_type": "stream",
     "text": [
      "[CV]  warm_start=False, oob_score=False, min_samples_leaf=5, n_estimators=70, min_samples_split=2, max_features=auto, score=0.891929, total=18.4min\n",
      "[CV] warm_start=False, oob_score=False, min_samples_leaf=5, n_estimators=70, min_samples_split=2, max_features=auto \n"
     ]
    },
    {
     "name": "stderr",
     "output_type": "stream",
     "text": [
      "[Parallel(n_jobs=-1)]: Done  42 tasks      | elapsed: 11.1min\n",
      "[Parallel(n_jobs=-1)]: Done  70 out of  70 | elapsed: 18.0min finished\n",
      "[Parallel(n_jobs=4)]: Done  42 tasks      | elapsed:    3.1s\n",
      "[Parallel(n_jobs=4)]: Done  70 out of  70 | elapsed:    4.9s finished\n",
      "[Parallel(n_jobs=4)]: Done  42 tasks      | elapsed:    5.8s\n",
      "[Parallel(n_jobs=4)]: Done  70 out of  70 | elapsed:    9.4s finished\n"
     ]
    },
    {
     "name": "stdout",
     "output_type": "stream",
     "text": [
      "[CV]  warm_start=False, oob_score=False, min_samples_leaf=5, n_estimators=70, min_samples_split=2, max_features=auto, score=0.885780, total=18.4min\n",
      "[CV] warm_start=True, oob_score=True, min_samples_leaf=5, n_estimators=80, min_samples_split=2, max_features=auto \n"
     ]
    },
    {
     "name": "stderr",
     "output_type": "stream",
     "text": [
      "[Parallel(n_jobs=-1)]: Done  42 tasks      | elapsed: 11.2min\n",
      "[Parallel(n_jobs=-1)]: Done  80 out of  80 | elapsed: 20.3min finished\n",
      "[Parallel(n_jobs=4)]: Done  42 tasks      | elapsed:    3.0s\n",
      "[Parallel(n_jobs=4)]: Done  80 out of  80 | elapsed:    5.4s finished\n",
      "[Parallel(n_jobs=4)]: Done  42 tasks      | elapsed:    6.0s\n",
      "[Parallel(n_jobs=4)]: Done  80 out of  80 | elapsed:   10.9s finished\n"
     ]
    },
    {
     "name": "stdout",
     "output_type": "stream",
     "text": [
      "[CV]  warm_start=True, oob_score=True, min_samples_leaf=5, n_estimators=80, min_samples_split=2, max_features=auto, score=0.864703, total=22.5min\n",
      "[CV] warm_start=True, oob_score=True, min_samples_leaf=5, n_estimators=80, min_samples_split=2, max_features=auto \n"
     ]
    },
    {
     "name": "stderr",
     "output_type": "stream",
     "text": [
      "[Parallel(n_jobs=-1)]: Done  42 tasks      | elapsed: 11.2min\n",
      "[Parallel(n_jobs=-1)]: Done  80 out of  80 | elapsed: 23.3min finished\n",
      "[Parallel(n_jobs=4)]: Done  42 tasks      | elapsed:    3.6s\n",
      "[Parallel(n_jobs=4)]: Done  80 out of  80 | elapsed:    6.8s finished\n",
      "[Parallel(n_jobs=4)]: Done  42 tasks      | elapsed:    8.9s\n",
      "[Parallel(n_jobs=4)]: Done  80 out of  80 | elapsed:   16.5s finished\n"
     ]
    },
    {
     "name": "stdout",
     "output_type": "stream",
     "text": [
      "[CV]  warm_start=True, oob_score=True, min_samples_leaf=5, n_estimators=80, min_samples_split=2, max_features=auto, score=0.890158, total=26.3min\n",
      "[CV] warm_start=True, oob_score=True, min_samples_leaf=5, n_estimators=80, min_samples_split=2, max_features=auto \n"
     ]
    },
    {
     "name": "stderr",
     "output_type": "stream",
     "text": [
      "[Parallel(n_jobs=-1)]: Done  42 tasks      | elapsed: 13.3min\n",
      "[Parallel(n_jobs=-1)]: Done  80 out of  80 | elapsed: 24.0min finished\n",
      "[Parallel(n_jobs=4)]: Done  42 tasks      | elapsed:    4.0s\n",
      "[Parallel(n_jobs=4)]: Done  80 out of  80 | elapsed:    6.4s finished\n",
      "[Parallel(n_jobs=4)]: Done  42 tasks      | elapsed:    9.9s\n",
      "[Parallel(n_jobs=4)]: Done  80 out of  80 | elapsed:   18.0s finished\n"
     ]
    },
    {
     "name": "stdout",
     "output_type": "stream",
     "text": [
      "[CV]  warm_start=True, oob_score=True, min_samples_leaf=5, n_estimators=80, min_samples_split=2, max_features=auto, score=0.885560, total=26.4min\n",
      "[CV] warm_start=False, oob_score=True, min_samples_leaf=5, n_estimators=80, min_samples_split=2, max_features=auto \n"
     ]
    },
    {
     "name": "stderr",
     "output_type": "stream",
     "text": [
      "[Parallel(n_jobs=-1)]: Done  42 tasks      | elapsed: 13.7min\n",
      "[Parallel(n_jobs=-1)]: Done  80 out of  80 | elapsed: 24.6min finished\n",
      "[Parallel(n_jobs=4)]: Done  42 tasks      | elapsed:    3.0s\n",
      "[Parallel(n_jobs=4)]: Done  80 out of  80 | elapsed:    5.3s finished\n",
      "[Parallel(n_jobs=4)]: Done  42 tasks      | elapsed:    6.5s\n",
      "[Parallel(n_jobs=4)]: Done  80 out of  80 | elapsed:   11.7s finished\n"
     ]
    },
    {
     "name": "stdout",
     "output_type": "stream",
     "text": [
      "[CV]  warm_start=False, oob_score=True, min_samples_leaf=5, n_estimators=80, min_samples_split=2, max_features=auto, score=0.864893, total=27.2min\n",
      "[CV] warm_start=False, oob_score=True, min_samples_leaf=5, n_estimators=80, min_samples_split=2, max_features=auto \n"
     ]
    },
    {
     "name": "stderr",
     "output_type": "stream",
     "text": [
      "[Parallel(n_jobs=-1)]: Done  42 tasks      | elapsed: 12.9min\n",
      "[Parallel(n_jobs=-1)]: Done  80 out of  80 | elapsed: 23.2min finished\n",
      "[Parallel(n_jobs=4)]: Done  42 tasks      | elapsed:    3.7s\n",
      "[Parallel(n_jobs=4)]: Done  80 out of  80 | elapsed:    6.7s finished\n",
      "[Parallel(n_jobs=4)]: Done  42 tasks      | elapsed:    7.3s\n",
      "[Parallel(n_jobs=4)]: Done  80 out of  80 | elapsed:   13.4s finished\n"
     ]
    },
    {
     "name": "stdout",
     "output_type": "stream",
     "text": [
      "[CV]  warm_start=False, oob_score=True, min_samples_leaf=5, n_estimators=80, min_samples_split=2, max_features=auto, score=0.890774, total=25.9min\n",
      "[CV] warm_start=False, oob_score=True, min_samples_leaf=5, n_estimators=80, min_samples_split=2, max_features=auto \n"
     ]
    }
   ],
   "source": [
    "regression.fit(X_train,y_train)\n",
    "y_pred = regression.predict(X_test)\n",
    "print r2_score(y_test, y_pred)"
   ]
  }
 ],
 "metadata": {
  "kernelspec": {
   "display_name": "ML",
   "language": "python",
   "name": "ml"
  },
  "language_info": {
   "codemirror_mode": {
    "name": "ipython",
    "version": 2
   },
   "file_extension": ".py",
   "mimetype": "text/x-python",
   "name": "python",
   "nbconvert_exporter": "python",
   "pygments_lexer": "ipython2",
   "version": "2.7.13"
  }
 },
 "nbformat": 4,
 "nbformat_minor": 2
}
