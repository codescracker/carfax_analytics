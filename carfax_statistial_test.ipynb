{
 "cells": [
  {
   "cell_type": "code",
   "execution_count": 1,
   "metadata": {
    "collapsed": true
   },
   "outputs": [],
   "source": [
    "import pandas as pd\n",
    "import matplotlib.pyplot as plt\n",
    "import seaborn as sns"
   ]
  },
  {
   "cell_type": "code",
   "execution_count": 41,
   "metadata": {
    "collapsed": true
   },
   "outputs": [],
   "source": [
    "import scipy.stats as stats"
   ]
  },
  {
   "cell_type": "code",
   "execution_count": 46,
   "metadata": {},
   "outputs": [],
   "source": [
    "% matplotlib inline"
   ]
  },
  {
   "cell_type": "markdown",
   "metadata": {},
   "source": [
    "# Read Data From Database"
   ]
  },
  {
   "cell_type": "code",
   "execution_count": 2,
   "metadata": {
    "collapsed": true
   },
   "outputs": [],
   "source": [
    "import MySQLdb"
   ]
  },
  {
   "cell_type": "code",
   "execution_count": 3,
   "metadata": {},
   "outputs": [
    {
     "name": "stdout",
     "output_type": "stream",
     "text": [
      "loaded 1062477 records from MySQL into dataframe:\n"
     ]
    }
   ],
   "source": [
    "mysql_cn= MySQLdb.connect(host='spider.c0kwpumescj5.us-east-1.rds.amazonaws.com', \n",
    "                port=3306,user='root', passwd='Zuoqian690712', \n",
    "                db='spider')\n",
    "car_fax = pd.read_sql('select * from carfax;', con=mysql_cn) \n",
    "\n",
    "print 'loaded {} records from MySQL into dataframe:'.format(len(car_fax)) \n",
    "mysql_cn.close()"
   ]
  },
  {
   "cell_type": "code",
   "execution_count": 6,
   "metadata": {
    "collapsed": true
   },
   "outputs": [],
   "source": [
    "pd.options.display.float_format = '{:,.2f}'.format"
   ]
  },
  {
   "cell_type": "code",
   "execution_count": 4,
   "metadata": {},
   "outputs": [
    {
     "name": "stdout",
     "output_type": "stream",
     "text": [
      "<class 'pandas.core.frame.DataFrame'>\n",
      "RangeIndex: 1062477 entries, 0 to 1062476\n",
      "Data columns (total 29 columns):\n",
      "dealer_id             1062477 non-null object\n",
      "dealer_name           1062477 non-null object\n",
      "dealer_city           1062477 non-null object\n",
      "dealer_state          1062477 non-null object\n",
      "car_vin               1062477 non-null object\n",
      "car_year              1062477 non-null int64\n",
      "car_make              1062477 non-null object\n",
      "car_topOptions        1062477 non-null object\n",
      "car_model             1062477 non-null object\n",
      "car_trim              1062477 non-null object\n",
      "car_mileage           1062477 non-null int64\n",
      "car_list_price        1062477 non-null float64\n",
      "car_current_price     1062477 non-null float64\n",
      "car_exteriorColor     1062477 non-null object\n",
      "car_interiorColor     1062477 non-null object\n",
      "car_engine            1062477 non-null object\n",
      "car_displacement      1062477 non-null object\n",
      "car_drivetype         1062477 non-null object\n",
      "car_transmission      1062477 non-null object\n",
      "car_fuel              1062477 non-null object\n",
      "car_mpgCity           1062477 non-null int64\n",
      "car_mpgHighway        1062477 non-null int64\n",
      "car_mpgCombined       1062477 non-null int64\n",
      "car_bodytype          1062477 non-null object\n",
      "car_oneOwner          1062477 non-null int64\n",
      "car_noAccidents       1062477 non-null int64\n",
      "car_serviceRecords    1062477 non-null int64\n",
      "car_personalUse       1062477 non-null int64\n",
      "crawl_time            1062477 non-null datetime64[ns]\n",
      "dtypes: datetime64[ns](1), float64(2), int64(9), object(17)\n",
      "memory usage: 235.1+ MB\n"
     ]
    }
   ],
   "source": [
    "car_fax.info()"
   ]
  },
  {
   "cell_type": "code",
   "execution_count": 7,
   "metadata": {},
   "outputs": [
    {
     "data": {
      "text/html": [
       "<div>\n",
       "<style>\n",
       "    .dataframe thead tr:only-child th {\n",
       "        text-align: right;\n",
       "    }\n",
       "\n",
       "    .dataframe thead th {\n",
       "        text-align: left;\n",
       "    }\n",
       "\n",
       "    .dataframe tbody tr th {\n",
       "        vertical-align: top;\n",
       "    }\n",
       "</style>\n",
       "<table border=\"1\" class=\"dataframe\">\n",
       "  <thead>\n",
       "    <tr style=\"text-align: right;\">\n",
       "      <th></th>\n",
       "      <th>car_year</th>\n",
       "      <th>car_mileage</th>\n",
       "      <th>car_list_price</th>\n",
       "      <th>car_current_price</th>\n",
       "      <th>car_mpgCity</th>\n",
       "      <th>car_mpgHighway</th>\n",
       "      <th>car_mpgCombined</th>\n",
       "      <th>car_oneOwner</th>\n",
       "      <th>car_noAccidents</th>\n",
       "      <th>car_serviceRecords</th>\n",
       "      <th>car_personalUse</th>\n",
       "    </tr>\n",
       "  </thead>\n",
       "  <tbody>\n",
       "    <tr>\n",
       "      <th>count</th>\n",
       "      <td>1,062,477.00</td>\n",
       "      <td>1,062,477.00</td>\n",
       "      <td>1,062,477.00</td>\n",
       "      <td>1,062,477.00</td>\n",
       "      <td>1,062,477.00</td>\n",
       "      <td>1,062,477.00</td>\n",
       "      <td>1,062,477.00</td>\n",
       "      <td>1,062,477.00</td>\n",
       "      <td>1,062,477.00</td>\n",
       "      <td>1,062,477.00</td>\n",
       "      <td>1,062,477.00</td>\n",
       "    </tr>\n",
       "    <tr>\n",
       "      <th>mean</th>\n",
       "      <td>2,012.90</td>\n",
       "      <td>56,441.57</td>\n",
       "      <td>20,187.67</td>\n",
       "      <td>20,191.42</td>\n",
       "      <td>19.26</td>\n",
       "      <td>26.17</td>\n",
       "      <td>21.78</td>\n",
       "      <td>0.61</td>\n",
       "      <td>0.81</td>\n",
       "      <td>0.90</td>\n",
       "      <td>0.67</td>\n",
       "    </tr>\n",
       "    <tr>\n",
       "      <th>std</th>\n",
       "      <td>4.01</td>\n",
       "      <td>45,768.92</td>\n",
       "      <td>17,068.02</td>\n",
       "      <td>17,056.76</td>\n",
       "      <td>7.48</td>\n",
       "      <td>8.50</td>\n",
       "      <td>7.73</td>\n",
       "      <td>0.49</td>\n",
       "      <td>0.39</td>\n",
       "      <td>0.30</td>\n",
       "      <td>0.47</td>\n",
       "    </tr>\n",
       "    <tr>\n",
       "      <th>min</th>\n",
       "      <td>1,981.00</td>\n",
       "      <td>0.00</td>\n",
       "      <td>0.00</td>\n",
       "      <td>0.00</td>\n",
       "      <td>0.00</td>\n",
       "      <td>0.00</td>\n",
       "      <td>0.00</td>\n",
       "      <td>0.00</td>\n",
       "      <td>0.00</td>\n",
       "      <td>0.00</td>\n",
       "      <td>0.00</td>\n",
       "    </tr>\n",
       "    <tr>\n",
       "      <th>25%</th>\n",
       "      <td>2,011.00</td>\n",
       "      <td>23,944.00</td>\n",
       "      <td>10,995.00</td>\n",
       "      <td>10,996.00</td>\n",
       "      <td>16.00</td>\n",
       "      <td>22.00</td>\n",
       "      <td>18.00</td>\n",
       "      <td>0.00</td>\n",
       "      <td>1.00</td>\n",
       "      <td>1.00</td>\n",
       "      <td>0.00</td>\n",
       "    </tr>\n",
       "    <tr>\n",
       "      <th>50%</th>\n",
       "      <td>2,014.00</td>\n",
       "      <td>42,385.00</td>\n",
       "      <td>17,598.00</td>\n",
       "      <td>17,597.00</td>\n",
       "      <td>19.00</td>\n",
       "      <td>26.00</td>\n",
       "      <td>21.00</td>\n",
       "      <td>1.00</td>\n",
       "      <td>1.00</td>\n",
       "      <td>1.00</td>\n",
       "      <td>1.00</td>\n",
       "    </tr>\n",
       "    <tr>\n",
       "      <th>75%</th>\n",
       "      <td>2,016.00</td>\n",
       "      <td>79,886.00</td>\n",
       "      <td>26,950.00</td>\n",
       "      <td>26,938.00</td>\n",
       "      <td>23.00</td>\n",
       "      <td>31.00</td>\n",
       "      <td>26.00</td>\n",
       "      <td>1.00</td>\n",
       "      <td>1.00</td>\n",
       "      <td>1.00</td>\n",
       "      <td>1.00</td>\n",
       "    </tr>\n",
       "    <tr>\n",
       "      <th>max</th>\n",
       "      <td>2,018.00</td>\n",
       "      <td>494,888.00</td>\n",
       "      <td>2,299,900.00</td>\n",
       "      <td>2,299,900.00</td>\n",
       "      <td>150.00</td>\n",
       "      <td>122.00</td>\n",
       "      <td>136.00</td>\n",
       "      <td>1.00</td>\n",
       "      <td>1.00</td>\n",
       "      <td>1.00</td>\n",
       "      <td>1.00</td>\n",
       "    </tr>\n",
       "  </tbody>\n",
       "</table>\n",
       "</div>"
      ],
      "text/plain": [
       "          car_year  car_mileage  car_list_price  car_current_price  \\\n",
       "count 1,062,477.00 1,062,477.00    1,062,477.00       1,062,477.00   \n",
       "mean      2,012.90    56,441.57       20,187.67          20,191.42   \n",
       "std           4.01    45,768.92       17,068.02          17,056.76   \n",
       "min       1,981.00         0.00            0.00               0.00   \n",
       "25%       2,011.00    23,944.00       10,995.00          10,996.00   \n",
       "50%       2,014.00    42,385.00       17,598.00          17,597.00   \n",
       "75%       2,016.00    79,886.00       26,950.00          26,938.00   \n",
       "max       2,018.00   494,888.00    2,299,900.00       2,299,900.00   \n",
       "\n",
       "       car_mpgCity  car_mpgHighway  car_mpgCombined  car_oneOwner  \\\n",
       "count 1,062,477.00    1,062,477.00     1,062,477.00  1,062,477.00   \n",
       "mean         19.26           26.17            21.78          0.61   \n",
       "std           7.48            8.50             7.73          0.49   \n",
       "min           0.00            0.00             0.00          0.00   \n",
       "25%          16.00           22.00            18.00          0.00   \n",
       "50%          19.00           26.00            21.00          1.00   \n",
       "75%          23.00           31.00            26.00          1.00   \n",
       "max         150.00          122.00           136.00          1.00   \n",
       "\n",
       "       car_noAccidents  car_serviceRecords  car_personalUse  \n",
       "count     1,062,477.00        1,062,477.00     1,062,477.00  \n",
       "mean              0.81                0.90             0.67  \n",
       "std               0.39                0.30             0.47  \n",
       "min               0.00                0.00             0.00  \n",
       "25%               1.00                1.00             0.00  \n",
       "50%               1.00                1.00             1.00  \n",
       "75%               1.00                1.00             1.00  \n",
       "max               1.00                1.00             1.00  "
      ]
     },
     "execution_count": 7,
     "metadata": {},
     "output_type": "execute_result"
    }
   ],
   "source": [
    "car_fax.describe()"
   ]
  },
  {
   "cell_type": "code",
   "execution_count": 11,
   "metadata": {
    "collapsed": true
   },
   "outputs": [],
   "source": [
    "is_current_price = car_fax['car_list_price']!=0"
   ]
  },
  {
   "cell_type": "code",
   "execution_count": 12,
   "metadata": {},
   "outputs": [
    {
     "data": {
      "text/plain": [
       "True     981050\n",
       "False     81427\n",
       "Name: car_list_price, dtype: int64"
      ]
     },
     "execution_count": 12,
     "metadata": {},
     "output_type": "execute_result"
    }
   ],
   "source": [
    "is_current_price.value_counts()"
   ]
  },
  {
   "cell_type": "code",
   "execution_count": 13,
   "metadata": {
    "collapsed": true
   },
   "outputs": [],
   "source": [
    "is_car_mpgCity = car_fax['car_mpgCity']!=0"
   ]
  },
  {
   "cell_type": "code",
   "execution_count": 14,
   "metadata": {},
   "outputs": [
    {
     "data": {
      "text/plain": [
       "True     1016570\n",
       "False      45907\n",
       "Name: car_mpgCity, dtype: int64"
      ]
     },
     "execution_count": 14,
     "metadata": {},
     "output_type": "execute_result"
    }
   ],
   "source": [
    "is_car_mpgCity.value_counts()"
   ]
  },
  {
   "cell_type": "code",
   "execution_count": 15,
   "metadata": {
    "collapsed": true
   },
   "outputs": [],
   "source": [
    "is_car_mpgHighway = car_fax['car_mpgHighway']!=0"
   ]
  },
  {
   "cell_type": "code",
   "execution_count": 16,
   "metadata": {},
   "outputs": [
    {
     "data": {
      "text/plain": [
       "True     1016570\n",
       "False      45907\n",
       "Name: car_mpgHighway, dtype: int64"
      ]
     },
     "execution_count": 16,
     "metadata": {},
     "output_type": "execute_result"
    }
   ],
   "source": [
    "is_car_mpgHighway.value_counts()"
   ]
  },
  {
   "cell_type": "code",
   "execution_count": 17,
   "metadata": {
    "collapsed": true
   },
   "outputs": [],
   "source": [
    "is_car_mpgCombined = car_fax['car_mpgCombined']!=0"
   ]
  },
  {
   "cell_type": "code",
   "execution_count": 19,
   "metadata": {},
   "outputs": [
    {
     "data": {
      "text/plain": [
       "True     1016570\n",
       "False      45907\n",
       "Name: car_mpgCombined, dtype: int64"
      ]
     },
     "execution_count": 19,
     "metadata": {},
     "output_type": "execute_result"
    }
   ],
   "source": [
    "is_car_mpgCombined.value_counts()"
   ]
  },
  {
   "cell_type": "code",
   "execution_count": 22,
   "metadata": {},
   "outputs": [],
   "source": [
    "car_fax_clean = car_fax[is_current_price & is_car_mpgCity & is_car_mpgHighway &is_car_mpgCombined]"
   ]
  },
  {
   "cell_type": "code",
   "execution_count": 30,
   "metadata": {},
   "outputs": [
    {
     "data": {
      "text/plain": [
       "69         SC\n",
       "70         IN\n",
       "71         HI\n",
       "72         AZ\n",
       "73         CA\n",
       "74         FL\n",
       "75         CA\n",
       "76         AZ\n",
       "77         AZ\n",
       "78         FL\n",
       "79         MA\n",
       "80         TX\n",
       "81         FL\n",
       "82         CA\n",
       "84         CA\n",
       "86         NJ\n",
       "87         FL\n",
       "88         WA\n",
       "89         CA\n",
       "90         NV\n",
       "91         UT\n",
       "92         IL\n",
       "93         IL\n",
       "94         IL\n",
       "95         TX\n",
       "96         NH\n",
       "97         TX\n",
       "98         IL\n",
       "99         MD\n",
       "100        TN\n",
       "           ..\n",
       "1062445    OH\n",
       "1062446    NJ\n",
       "1062447    NJ\n",
       "1062448    NJ\n",
       "1062449    NJ\n",
       "1062450    CT\n",
       "1062451    FL\n",
       "1062452    TX\n",
       "1062453    CT\n",
       "1062454    NJ\n",
       "1062455    IL\n",
       "1062456    IN\n",
       "1062457    IN\n",
       "1062458    TX\n",
       "1062459    PA\n",
       "1062460    FL\n",
       "1062461    NJ\n",
       "1062462    NJ\n",
       "1062463    TX\n",
       "1062464    NJ\n",
       "1062465    NJ\n",
       "1062466    NY\n",
       "1062469    NY\n",
       "1062470    FL\n",
       "1062471    FL\n",
       "1062472    CT\n",
       "1062473    FL\n",
       "1062474    NJ\n",
       "1062475    NC\n",
       "1062476    CT\n",
       "Name: dealer_state, Length: 939336, dtype: object"
      ]
     },
     "execution_count": 30,
     "metadata": {},
     "output_type": "execute_result"
    }
   ],
   "source": [
    "car_fax_clean['dealer_state'].apply(lambda x : x if x!='DC' else 'MD')"
   ]
  },
  {
   "cell_type": "code",
   "execution_count": 32,
   "metadata": {},
   "outputs": [
    {
     "data": {
      "text/plain": [
       "50"
      ]
     },
     "execution_count": 32,
     "metadata": {},
     "output_type": "execute_result"
    }
   ],
   "source": [
    "car_fax_clean['dealer_state'].nunique()"
   ]
  },
  {
   "cell_type": "markdown",
   "metadata": {},
   "source": [
    "Anova Test for Current Price in Each State\n",
    "===\n",
    "Null Hypothesis: current price of all used car are the same in each state.\n",
    "\n",
    "Alternative Hypothesis: At least one of states has different current price. "
   ]
  },
  {
   "cell_type": "code",
   "execution_count": 33,
   "metadata": {
    "collapsed": true
   },
   "outputs": [],
   "source": [
    "car_fax_state = car_fax_clean.groupby(by=['dealer_state'])"
   ]
  },
  {
   "cell_type": "code",
   "execution_count": 49,
   "metadata": {},
   "outputs": [
    {
     "data": {
      "text/plain": [
       "<matplotlib.axes._subplots.AxesSubplot at 0x18fa20650>"
      ]
     },
     "execution_count": 49,
     "metadata": {},
     "output_type": "execute_result"
    },
    {
     "data": {
      "image/png": "[encoded data removed]",
      "text/plain": [
       "<matplotlib.figure.Figure at 0x18d9b2dd0>"
      ]
     },
     "metadata": {},
     "output_type": "display_data"
    }
   ],
   "source": [
    "fig,ax = plt.subplots(figsize = (18,9))\n",
    "car_fax_state['car_current_price'].mean().sort_values(ascending=False).plot(kind = 'bar', ax = ax)"
   ]
  },
  {
   "cell_type": "code",
   "execution_count": 37,
   "metadata": {},
   "outputs": [],
   "source": [
    "state_prices = []\n",
    "for state in car_fax_state.groups.keys():\n",
    "    state_prices.append(car_fax_state.get_group(state)['car_current_price'])"
   ]
  },
  {
   "cell_type": "code",
   "execution_count": 42,
   "metadata": {},
   "outputs": [
    {
     "data": {
      "text/plain": [
       "F_onewayResult(statistic=133.35969540946746, pvalue=0.0)"
      ]
     },
     "execution_count": 42,
     "metadata": {},
     "output_type": "execute_result"
    }
   ],
   "source": [
    "stats.f_oneway(*state_prices)"
   ]
  },
  {
   "cell_type": "markdown",
   "metadata": {},
   "source": [
    "# Kruskal-Wallis H-test for Used Car Current Price of Each State -> non-parametric version of ANOVA"
   ]
  },
  {
   "cell_type": "code",
   "execution_count": 53,
   "metadata": {},
   "outputs": [
    {
     "data": {
      "text/plain": [
       "KruskalResult(statistic=11554.805085946771, pvalue=0.0)"
      ]
     },
     "execution_count": 53,
     "metadata": {},
     "output_type": "execute_result"
    }
   ],
   "source": [
    "stats.kruskal(*state_prices)"
   ]
  },
  {
   "cell_type": "markdown",
   "metadata": {},
   "source": [
    "# T-test to examine wether there is significant in used car current price difference between NC, MN, and MA"
   ]
  },
  {
   "cell_type": "code",
   "execution_count": null,
   "metadata": {
    "collapsed": true
   },
   "outputs": [],
   "source": [
    "NC_current_price_list = car_fax_state.get_group('NC')['car_current_price']\n",
    "MN_current_price_list = car_fax_state.get_group('MN')['car_current_price']\n",
    "MA_current_price_list = car_fax_state.get_group('MA')['car_current_price']\n",
    "TX_current_price_list = car_fax_state.get_group('TX')['car_current_price']\n",
    "GA_current_price_list = car_fax_state.get_group('GA')['car_current_price']"
   ]
  },
  {
   "cell_type": "code",
   "execution_count": 62,
   "metadata": {},
   "outputs": [
    {
     "data": {
      "text/plain": [
       "Ttest_indResult(statistic=-0.70074936008036637, pvalue=0.4834627051900301)"
      ]
     },
     "execution_count": 62,
     "metadata": {},
     "output_type": "execute_result"
    }
   ],
   "source": [
    "stats.ttest_ind(NC_current_price_list, MA_current_price_list, equal_var = False)"
   ]
  },
  {
   "cell_type": "code",
   "execution_count": 60,
   "metadata": {},
   "outputs": [
    {
     "data": {
      "text/plain": [
       "Ttest_indResult(statistic=0.14193675291315261, pvalue=0.88713098501032528)"
      ]
     },
     "execution_count": 60,
     "metadata": {},
     "output_type": "execute_result"
    }
   ],
   "source": [
    "stats.ttest_ind(NC_current_price_list, MN_current_price_list, equal_var = False)"
   ]
  },
  {
   "cell_type": "code",
   "execution_count": 64,
   "metadata": {},
   "outputs": [
    {
     "data": {
      "text/plain": [
       "Ttest_indResult(statistic=21.252549857988786, pvalue=3.3382626684204326e-99)"
      ]
     },
     "execution_count": 64,
     "metadata": {},
     "output_type": "execute_result"
    }
   ],
   "source": [
    "stats.ttest_ind(TX_current_price_list, MN_current_price_list, equal_var = False)"
   ]
  },
  {
   "cell_type": "code",
   "execution_count": 68,
   "metadata": {},
   "outputs": [
    {
     "data": {
      "text/plain": [
       "Ttest_indResult(statistic=26.42550234152786, pvalue=3.3637897103644611e-153)"
      ]
     },
     "execution_count": 68,
     "metadata": {},
     "output_type": "execute_result"
    }
   ],
   "source": [
    "stats.ttest_ind(TX_current_price_list, NC_current_price_list, equal_var = False)"
   ]
  },
  {
   "cell_type": "code",
   "execution_count": 75,
   "metadata": {},
   "outputs": [
    {
     "data": {
      "text/plain": [
       "Ttest_indResult(statistic=10.382716949298038, pvalue=3.0984910105918844e-25)"
      ]
     },
     "execution_count": 75,
     "metadata": {},
     "output_type": "execute_result"
    }
   ],
   "source": [
    "stats.ttest_ind(GA_current_price_list, NC_current_price_list, equal_var = False)"
   ]
  },
  {
   "cell_type": "markdown",
   "metadata": {},
   "source": [
    "Anova Test for Current Price of Diffrent Used Car BodyTypes\n",
    "===\n",
    "Null Hypothesis: current price of all used car are the same in each car bodytype.\n",
    "\n",
    "Alternative Hypothesis: At least one of car bodytypes has different current price. "
   ]
  },
  {
   "cell_type": "code",
   "execution_count": 54,
   "metadata": {
    "collapsed": true
   },
   "outputs": [],
   "source": [
    "car_fax_bodytype = car_fax_clean.groupby(by=['car_bodytype'])"
   ]
  },
  {
   "cell_type": "code",
   "execution_count": 55,
   "metadata": {},
   "outputs": [
    {
     "data": {
      "text/plain": [
       "car_bodytype\n",
       "Chassis        7,599.46\n",
       "Convertible   32,054.42\n",
       "Coupe         29,130.60\n",
       "Hatchback     13,765.31\n",
       "Minivan       17,472.75\n",
       "Pickup        25,782.21\n",
       "SUV           23,661.64\n",
       "Sedan         17,286.97\n",
       "Unspecified   45,866.50\n",
       "Van           18,049.39\n",
       "Wagon         15,891.02\n",
       "Name: car_current_price, dtype: float64"
      ]
     },
     "execution_count": 55,
     "metadata": {},
     "output_type": "execute_result"
    }
   ],
   "source": [
    "car_fax_bodytype['car_current_price'].mean()"
   ]
  },
  {
   "cell_type": "code",
   "execution_count": 85,
   "metadata": {
    "collapsed": true
   },
   "outputs": [],
   "source": [
    "bodytype_prices = []\n",
    "for bodytype in car_fax_bodytype.groups.keys():\n",
    "    bodytype_prices.append(car_fax_bodytype.get_group(bodytype)['car_current_price'])"
   ]
  },
  {
   "cell_type": "code",
   "execution_count": 86,
   "metadata": {},
   "outputs": [
    {
     "data": {
      "text/plain": [
       "F_onewayResult(statistic=7315.9369146209883, pvalue=0.0)"
      ]
     },
     "execution_count": 86,
     "metadata": {},
     "output_type": "execute_result"
    }
   ],
   "source": [
    "stats.f_oneway(*bodytype_prices)"
   ]
  },
  {
   "cell_type": "markdown",
   "metadata": {},
   "source": [
    "# T-test to examine wether there is significant in used car current price difference between Sedan and Wagon"
   ]
  },
  {
   "cell_type": "code",
   "execution_count": 82,
   "metadata": {
    "collapsed": true
   },
   "outputs": [],
   "source": [
    "Sedan_current_price_list = car_fax_bodytype.get_group('Sedan')['car_current_price']\n",
    "Wagon_current_price_list = car_fax_bodytype.get_group('Wagon')['car_current_price']"
   ]
  },
  {
   "cell_type": "code",
   "execution_count": 83,
   "metadata": {},
   "outputs": [
    {
     "data": {
      "text/plain": [
       "Ttest_indResult(statistic=21.265494356676697, pvalue=1.8204812312155453e-99)"
      ]
     },
     "execution_count": 83,
     "metadata": {},
     "output_type": "execute_result"
    }
   ],
   "source": [
    "stats.ttest_ind(Sedan_current_price_list, Wagon_current_price_list, equal_var = False)"
   ]
  },
  {
   "cell_type": "code",
   "execution_count": 81,
   "metadata": {},
   "outputs": [
    {
     "name": "stdout",
     "output_type": "stream",
     "text": [
      "0.00\n"
     ]
    }
   ],
   "source": [
    "print(\"{0:.2f}\".format(1.8204812312155453e-99))"
   ]
  },
  {
   "cell_type": "markdown",
   "metadata": {},
   "source": [
    "# Kruskal-Wallis H-test for Used Car Current Price of Different Bodytypes -> non-parametric version of ANOVA"
   ]
  },
  {
   "cell_type": "code",
   "execution_count": 58,
   "metadata": {},
   "outputs": [
    {
     "data": {
      "text/plain": [
       "KruskalResult(statistic=123890.21222802582, pvalue=0.0)"
      ]
     },
     "execution_count": 58,
     "metadata": {},
     "output_type": "execute_result"
    }
   ],
   "source": [
    "stats.kruskal(*bodytype_prices)"
   ]
  },
  {
   "cell_type": "markdown",
   "metadata": {},
   "source": [
    "# Anova test for Impact of Different Exterior Colors in Current Price"
   ]
  },
  {
   "cell_type": "code",
   "execution_count": 84,
   "metadata": {
    "collapsed": true
   },
   "outputs": [],
   "source": [
    "car_fax_exteriorColor = car_fax_clean.groupby(by=['car_exteriorColor'])\n",
    "exteriorColor_prices = []\n",
    "for exterior_color in car_fax_exteriorColor.groups.keys():\n",
    "    exteriorColor_prices.append(car_fax_exteriorColor.get_group(exterior_color)['car_current_price'])"
   ]
  },
  {
   "cell_type": "code",
   "execution_count": 88,
   "metadata": {},
   "outputs": [
    {
     "data": {
      "text/plain": [
       "car_exteriorColor\n",
       "Beige         16,877.54\n",
       "Black         23,622.24\n",
       "Blue          19,323.56\n",
       "Bronze        21,200.57\n",
       "Brown         22,543.62\n",
       "Burgundy      14,691.00\n",
       "Gold          13,573.19\n",
       "Gray          21,133.22\n",
       "Green         16,873.46\n",
       "Orange        23,183.61\n",
       "Pink          11,303.21\n",
       "Purple        21,592.71\n",
       "Red           20,363.74\n",
       "Silver        19,581.50\n",
       "Turquoise     11,697.69\n",
       "Unspecified   20,126.24\n",
       "White         23,034.52\n",
       "Yellow        28,190.37\n",
       "Name: car_current_price, dtype: float64"
      ]
     },
     "execution_count": 88,
     "metadata": {},
     "output_type": "execute_result"
    }
   ],
   "source": [
    "car_fax_exteriorColor['car_current_price'].mean()"
   ]
  },
  {
   "cell_type": "code",
   "execution_count": 87,
   "metadata": {},
   "outputs": [
    {
     "data": {
      "text/plain": [
       "F_onewayResult(statistic=924.95071323068032, pvalue=0.0)"
      ]
     },
     "execution_count": 87,
     "metadata": {},
     "output_type": "execute_result"
    }
   ],
   "source": [
    "stats.f_oneway(*exteriorColor_prices)"
   ]
  },
  {
   "cell_type": "markdown",
   "metadata": {},
   "source": [
    "# T-test to examine wether there is significant difference in used car current price between White Exterior and Black Exterior"
   ]
  },
  {
   "cell_type": "code",
   "execution_count": 89,
   "metadata": {
    "collapsed": true
   },
   "outputs": [],
   "source": [
    "Exterior_white_prices = car_fax_exteriorColor.get_group('White')['car_current_price']\n",
    "Exterior_black_prices = car_fax_exteriorColor.get_group('Black')['car_current_price']"
   ]
  },
  {
   "cell_type": "code",
   "execution_count": 106,
   "metadata": {},
   "outputs": [
    {
     "data": {
      "text/plain": [
       "<matplotlib.axes._subplots.AxesSubplot at 0x180cba5d0>"
      ]
     },
     "execution_count": 106,
     "metadata": {},
     "output_type": "execute_result"
    },
    {
     "data": {
      "image/png": "[encoded data removed]",
      "text/plain": [
       "<matplotlib.figure.Figure at 0x180a90ad0>"
      ]
     },
     "metadata": {},
     "output_type": "display_data"
    }
   ],
   "source": [
    "fig,ax = plt.subplots(figsize = (18,9))\n",
    "sns.kdeplot(Exterior_white_prices,ax = ax)\n",
    "sns.kdeplot(Exterior_black_prices,ax = ax)"
   ]
  },
  {
   "cell_type": "code",
   "execution_count": 103,
   "metadata": {},
   "outputs": [
    {
     "data": {
      "text/plain": [
       "Ttest_indResult(statistic=-10.936287110006834, pvalue=7.8046833668766083e-28)"
      ]
     },
     "execution_count": 103,
     "metadata": {},
     "output_type": "execute_result"
    }
   ],
   "source": [
    "stats.ttest_ind(Exterior_white_prices.values, Exterior_black_prices.values, equal_var = False)"
   ]
  },
  {
   "cell_type": "code",
   "execution_count": 107,
   "metadata": {},
   "outputs": [
    {
     "name": "stdout",
     "output_type": "stream",
     "text": [
      "0.00\n"
     ]
    }
   ],
   "source": [
    "print(\"{0:.2f}\".format(7.8046833668766083e-28))"
   ]
  },
  {
   "cell_type": "markdown",
   "metadata": {},
   "source": [
    "# pearsonr Test for Used Car Mileage and Current Price"
   ]
  },
  {
   "cell_type": "code",
   "execution_count": 108,
   "metadata": {},
   "outputs": [
    {
     "data": {
      "text/plain": [
       "(-0.42543111432148795, 0.0)"
      ]
     },
     "execution_count": 108,
     "metadata": {},
     "output_type": "execute_result"
    }
   ],
   "source": [
    "stats.pearsonr(car_fax_clean['car_mileage'], car_fax_clean['car_current_price'])"
   ]
  },
  {
   "cell_type": "code",
   "execution_count": 10,
   "metadata": {},
   "outputs": [
    {
     "data": {
      "text/plain": [
       "Index([u'dealer_id', u'dealer_name', u'dealer_city', u'dealer_state',\n",
       "       u'car_vin', u'car_year', u'car_make', u'car_topOptions', u'car_model',\n",
       "       u'car_trim', u'car_mileage', u'car_list_price', u'car_current_price',\n",
       "       u'car_exteriorColor', u'car_interiorColor', u'car_engine',\n",
       "       u'car_displacement', u'car_drivetype', u'car_transmission', u'car_fuel',\n",
       "       u'car_mpgCity', u'car_mpgHighway', u'car_mpgCombined', u'car_bodytype',\n",
       "       u'car_oneOwner', u'car_noAccidents', u'car_serviceRecords',\n",
       "       u'car_personalUse', u'crawl_time'],\n",
       "      dtype='object')"
      ]
     },
     "execution_count": 10,
     "metadata": {},
     "output_type": "execute_result"
    }
   ],
   "source": [
    "car_fax.columns"
   ]
  },
  {
   "cell_type": "markdown",
   "metadata": {},
   "source": [
    "# pearsonr Test for Used Car Number of Options and Current Price"
   ]
  },
  {
   "cell_type": "code",
   "execution_count": 109,
   "metadata": {
    "collapsed": true
   },
   "outputs": [],
   "source": [
    "car_option_num = car_fax_clean['car_topOptions'].apply(lambda x : len(x.split(',')))"
   ]
  },
  {
   "cell_type": "code",
   "execution_count": 110,
   "metadata": {},
   "outputs": [
    {
     "name": "stderr",
     "output_type": "stream",
     "text": [
      "/Users/shaowei/anaconda2/envs/ML_learning/lib/python2.7/site-packages/ipykernel_launcher.py:1: SettingWithCopyWarning: \n",
      "A value is trying to be set on a copy of a slice from a DataFrame.\n",
      "Try using .loc[row_indexer,col_indexer] = value instead\n",
      "\n",
      "See the caveats in the documentation: http://pandas.pydata.org/pandas-docs/stable/indexing.html#indexing-view-versus-copy\n",
      "  \"\"\"Entry point for launching an IPython kernel.\n"
     ]
    }
   ],
   "source": [
    "car_fax_clean['car_option_num'] = car_option_num"
   ]
  },
  {
   "cell_type": "code",
   "execution_count": 112,
   "metadata": {},
   "outputs": [
    {
     "data": {
      "text/plain": [
       "0.018321657439722354"
      ]
     },
     "execution_count": 112,
     "metadata": {},
     "output_type": "execute_result"
    }
   ],
   "source": [
    "car_fax_clean['car_option_num'].corr(car_fax_clean['car_current_price'])"
   ]
  },
  {
   "cell_type": "code",
   "execution_count": 113,
   "metadata": {},
   "outputs": [
    {
     "data": {
      "text/plain": [
       "(0.018321657439722399, 1.4761991067383803e-70)"
      ]
     },
     "execution_count": 113,
     "metadata": {},
     "output_type": "execute_result"
    }
   ],
   "source": [
    "stats.pearsonr(car_fax_clean['car_option_num'], car_fax_clean['car_current_price'])"
   ]
  },
  {
   "cell_type": "code",
   "execution_count": 118,
   "metadata": {},
   "outputs": [
    {
     "data": {
      "image/png": "[encoded data removed]",
      "text/plain": [
       "<matplotlib.figure.Figure at 0x17a8c8550>"
      ]
     },
     "metadata": {},
     "output_type": "display_data"
    }
   ],
   "source": [
    "fig,ax = plt.subplots(figsize = (20,10))\n",
    "sns.boxplot(x = car_fax_clean['car_option_num'], y = car_fax_clean['car_current_price'])\n",
    "ax.set_ylim(0,100000)\n",
    "ax.set_title('Used Car Number of Options vs Price')\n",
    "ax.set_xlabel('Number of Options')\n",
    "ax.set_ylabel('Current Price')\n",
    "ax.grid(b = False)\n",
    "plt.show()"
   ]
  },
  {
   "cell_type": "code",
   "execution_count": 119,
   "metadata": {},
   "outputs": [
    {
     "data": {
      "text/plain": [
       "car_option_num\n",
       "1    20,813.17\n",
       "2    21,164.55\n",
       "3    21,739.08\n",
       "4    21,674.93\n",
       "5    20,924.81\n",
       "6    20,065.35\n",
       "7    17,651.61\n",
       "8    17,593.33\n",
       "9    17,364.72\n",
       "10   21,660.69\n",
       "Name: car_current_price, dtype: float64"
      ]
     },
     "execution_count": 119,
     "metadata": {},
     "output_type": "execute_result"
    }
   ],
   "source": [
    "car_fax_clean.groupby(by=['car_option_num'])['car_current_price'].mean()"
   ]
  }
 ],
 "metadata": {
  "kernelspec": {
   "display_name": "ML",
   "language": "python",
   "name": "ml"
  },
  "language_info": {
   "codemirror_mode": {
    "name": "ipython",
    "version": 2
   },
   "file_extension": ".py",
   "mimetype": "text/x-python",
   "name": "python",
   "nbconvert_exporter": "python",
   "pygments_lexer": "ipython2",
   "version": "2.7.13"
  }
 },
 "nbformat": 4,
 "nbformat_minor": 2
}
